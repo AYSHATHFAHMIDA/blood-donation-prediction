{
 "cells": [
  {
   "cell_type": "markdown",
   "id": "1684847c-4c5e-42c9-b623-71bea0e53fde",
   "metadata": {},
   "source": [
    "## capstone project 1-Blood Donation prediction\n",
    "\n",
    "### problem statement\n",
    "Task 1:-Prepare a complete data analysis report on the given data."
   ]
  },
  {
   "cell_type": "code",
   "execution_count": 197,
   "id": "b0730053-3c41-42b7-aab5-5e48eef4c8b1",
   "metadata": {},
   "outputs": [],
   "source": [
    "import pandas as pd\n",
    "import numpy as np\n",
    "import matplotlib.pyplot as plt\n",
    "import seaborn as sns"
   ]
  },
  {
   "cell_type": "code",
   "execution_count": 199,
   "id": "9632ec5c-007d-41e3-ae7f-c8269b2d809b",
   "metadata": {},
   "outputs": [],
   "source": [
    "data=pd.read_csv('blood_donation.csv')"
   ]
  },
  {
   "cell_type": "code",
   "execution_count": 201,
   "id": "f39396d4-b616-4399-a383-f66e19791b8d",
   "metadata": {},
   "outputs": [
    {
     "data": {
      "text/html": [
       "<div>\n",
       "<style scoped>\n",
       "    .dataframe tbody tr th:only-of-type {\n",
       "        vertical-align: middle;\n",
       "    }\n",
       "\n",
       "    .dataframe tbody tr th {\n",
       "        vertical-align: top;\n",
       "    }\n",
       "\n",
       "    .dataframe thead th {\n",
       "        text-align: right;\n",
       "    }\n",
       "</style>\n",
       "<table border=\"1\" class=\"dataframe\">\n",
       "  <thead>\n",
       "    <tr style=\"text-align: right;\">\n",
       "      <th></th>\n",
       "      <th>Unnamed: 0</th>\n",
       "      <th>Months since Last Donation</th>\n",
       "      <th>Number of Donations</th>\n",
       "      <th>Total Volume Donated (c.c.)</th>\n",
       "      <th>Months since First Donation</th>\n",
       "      <th>Made Donation in March 2007</th>\n",
       "    </tr>\n",
       "  </thead>\n",
       "  <tbody>\n",
       "    <tr>\n",
       "      <th>0</th>\n",
       "      <td>619</td>\n",
       "      <td>2</td>\n",
       "      <td>50</td>\n",
       "      <td>12500</td>\n",
       "      <td>98</td>\n",
       "      <td>1</td>\n",
       "    </tr>\n",
       "    <tr>\n",
       "      <th>1</th>\n",
       "      <td>664</td>\n",
       "      <td>0</td>\n",
       "      <td>13</td>\n",
       "      <td>3250</td>\n",
       "      <td>28</td>\n",
       "      <td>1</td>\n",
       "    </tr>\n",
       "    <tr>\n",
       "      <th>2</th>\n",
       "      <td>441</td>\n",
       "      <td>1</td>\n",
       "      <td>16</td>\n",
       "      <td>4000</td>\n",
       "      <td>35</td>\n",
       "      <td>1</td>\n",
       "    </tr>\n",
       "    <tr>\n",
       "      <th>3</th>\n",
       "      <td>160</td>\n",
       "      <td>2</td>\n",
       "      <td>20</td>\n",
       "      <td>5000</td>\n",
       "      <td>45</td>\n",
       "      <td>1</td>\n",
       "    </tr>\n",
       "    <tr>\n",
       "      <th>4</th>\n",
       "      <td>358</td>\n",
       "      <td>1</td>\n",
       "      <td>24</td>\n",
       "      <td>6000</td>\n",
       "      <td>77</td>\n",
       "      <td>0</td>\n",
       "    </tr>\n",
       "    <tr>\n",
       "      <th>...</th>\n",
       "      <td>...</td>\n",
       "      <td>...</td>\n",
       "      <td>...</td>\n",
       "      <td>...</td>\n",
       "      <td>...</td>\n",
       "      <td>...</td>\n",
       "    </tr>\n",
       "    <tr>\n",
       "      <th>571</th>\n",
       "      <td>698</td>\n",
       "      <td>23</td>\n",
       "      <td>1</td>\n",
       "      <td>250</td>\n",
       "      <td>23</td>\n",
       "      <td>0</td>\n",
       "    </tr>\n",
       "    <tr>\n",
       "      <th>572</th>\n",
       "      <td>433</td>\n",
       "      <td>16</td>\n",
       "      <td>3</td>\n",
       "      <td>750</td>\n",
       "      <td>86</td>\n",
       "      <td>0</td>\n",
       "    </tr>\n",
       "    <tr>\n",
       "      <th>573</th>\n",
       "      <td>360</td>\n",
       "      <td>21</td>\n",
       "      <td>2</td>\n",
       "      <td>500</td>\n",
       "      <td>52</td>\n",
       "      <td>0</td>\n",
       "    </tr>\n",
       "    <tr>\n",
       "      <th>574</th>\n",
       "      <td>541</td>\n",
       "      <td>39</td>\n",
       "      <td>1</td>\n",
       "      <td>250</td>\n",
       "      <td>39</td>\n",
       "      <td>0</td>\n",
       "    </tr>\n",
       "    <tr>\n",
       "      <th>575</th>\n",
       "      <td>74</td>\n",
       "      <td>72</td>\n",
       "      <td>1</td>\n",
       "      <td>250</td>\n",
       "      <td>72</td>\n",
       "      <td>0</td>\n",
       "    </tr>\n",
       "  </tbody>\n",
       "</table>\n",
       "<p>576 rows × 6 columns</p>\n",
       "</div>"
      ],
      "text/plain": [
       "     Unnamed: 0  Months since Last Donation  Number of Donations  \\\n",
       "0           619                           2                   50   \n",
       "1           664                           0                   13   \n",
       "2           441                           1                   16   \n",
       "3           160                           2                   20   \n",
       "4           358                           1                   24   \n",
       "..          ...                         ...                  ...   \n",
       "571         698                          23                    1   \n",
       "572         433                          16                    3   \n",
       "573         360                          21                    2   \n",
       "574         541                          39                    1   \n",
       "575          74                          72                    1   \n",
       "\n",
       "     Total Volume Donated (c.c.)  Months since First Donation  \\\n",
       "0                          12500                           98   \n",
       "1                           3250                           28   \n",
       "2                           4000                           35   \n",
       "3                           5000                           45   \n",
       "4                           6000                           77   \n",
       "..                           ...                          ...   \n",
       "571                          250                           23   \n",
       "572                          750                           86   \n",
       "573                          500                           52   \n",
       "574                          250                           39   \n",
       "575                          250                           72   \n",
       "\n",
       "     Made Donation in March 2007  \n",
       "0                              1  \n",
       "1                              1  \n",
       "2                              1  \n",
       "3                              1  \n",
       "4                              0  \n",
       "..                           ...  \n",
       "571                            0  \n",
       "572                            0  \n",
       "573                            0  \n",
       "574                            0  \n",
       "575                            0  \n",
       "\n",
       "[576 rows x 6 columns]"
      ]
     },
     "execution_count": 201,
     "metadata": {},
     "output_type": "execute_result"
    }
   ],
   "source": [
    "data"
   ]
  },
  {
   "cell_type": "code",
   "execution_count": 203,
   "id": "90e5c112-e739-437f-a8c6-4f1eb9b16ac6",
   "metadata": {},
   "outputs": [
    {
     "data": {
      "text/html": [
       "<div>\n",
       "<style scoped>\n",
       "    .dataframe tbody tr th:only-of-type {\n",
       "        vertical-align: middle;\n",
       "    }\n",
       "\n",
       "    .dataframe tbody tr th {\n",
       "        vertical-align: top;\n",
       "    }\n",
       "\n",
       "    .dataframe thead th {\n",
       "        text-align: right;\n",
       "    }\n",
       "</style>\n",
       "<table border=\"1\" class=\"dataframe\">\n",
       "  <thead>\n",
       "    <tr style=\"text-align: right;\">\n",
       "      <th></th>\n",
       "      <th>Unnamed: 0</th>\n",
       "      <th>Months since Last Donation</th>\n",
       "      <th>Number of Donations</th>\n",
       "      <th>Total Volume Donated (c.c.)</th>\n",
       "      <th>Months since First Donation</th>\n",
       "      <th>Made Donation in March 2007</th>\n",
       "    </tr>\n",
       "  </thead>\n",
       "  <tbody>\n",
       "    <tr>\n",
       "      <th>0</th>\n",
       "      <td>619</td>\n",
       "      <td>2</td>\n",
       "      <td>50</td>\n",
       "      <td>12500</td>\n",
       "      <td>98</td>\n",
       "      <td>1</td>\n",
       "    </tr>\n",
       "    <tr>\n",
       "      <th>1</th>\n",
       "      <td>664</td>\n",
       "      <td>0</td>\n",
       "      <td>13</td>\n",
       "      <td>3250</td>\n",
       "      <td>28</td>\n",
       "      <td>1</td>\n",
       "    </tr>\n",
       "    <tr>\n",
       "      <th>2</th>\n",
       "      <td>441</td>\n",
       "      <td>1</td>\n",
       "      <td>16</td>\n",
       "      <td>4000</td>\n",
       "      <td>35</td>\n",
       "      <td>1</td>\n",
       "    </tr>\n",
       "    <tr>\n",
       "      <th>3</th>\n",
       "      <td>160</td>\n",
       "      <td>2</td>\n",
       "      <td>20</td>\n",
       "      <td>5000</td>\n",
       "      <td>45</td>\n",
       "      <td>1</td>\n",
       "    </tr>\n",
       "    <tr>\n",
       "      <th>4</th>\n",
       "      <td>358</td>\n",
       "      <td>1</td>\n",
       "      <td>24</td>\n",
       "      <td>6000</td>\n",
       "      <td>77</td>\n",
       "      <td>0</td>\n",
       "    </tr>\n",
       "  </tbody>\n",
       "</table>\n",
       "</div>"
      ],
      "text/plain": [
       "   Unnamed: 0  Months since Last Donation  Number of Donations  \\\n",
       "0         619                           2                   50   \n",
       "1         664                           0                   13   \n",
       "2         441                           1                   16   \n",
       "3         160                           2                   20   \n",
       "4         358                           1                   24   \n",
       "\n",
       "   Total Volume Donated (c.c.)  Months since First Donation  \\\n",
       "0                        12500                           98   \n",
       "1                         3250                           28   \n",
       "2                         4000                           35   \n",
       "3                         5000                           45   \n",
       "4                         6000                           77   \n",
       "\n",
       "   Made Donation in March 2007  \n",
       "0                            1  \n",
       "1                            1  \n",
       "2                            1  \n",
       "3                            1  \n",
       "4                            0  "
      ]
     },
     "execution_count": 203,
     "metadata": {},
     "output_type": "execute_result"
    }
   ],
   "source": [
    "data.head()"
   ]
  },
  {
   "cell_type": "code",
   "execution_count": 205,
   "id": "b1804908-3da6-4f47-a7b3-b1077919927c",
   "metadata": {},
   "outputs": [
    {
     "data": {
      "text/html": [
       "<div>\n",
       "<style scoped>\n",
       "    .dataframe tbody tr th:only-of-type {\n",
       "        vertical-align: middle;\n",
       "    }\n",
       "\n",
       "    .dataframe tbody tr th {\n",
       "        vertical-align: top;\n",
       "    }\n",
       "\n",
       "    .dataframe thead th {\n",
       "        text-align: right;\n",
       "    }\n",
       "</style>\n",
       "<table border=\"1\" class=\"dataframe\">\n",
       "  <thead>\n",
       "    <tr style=\"text-align: right;\">\n",
       "      <th></th>\n",
       "      <th>Unnamed: 0</th>\n",
       "      <th>Months since Last Donation</th>\n",
       "      <th>Number of Donations</th>\n",
       "      <th>Total Volume Donated (c.c.)</th>\n",
       "      <th>Months since First Donation</th>\n",
       "      <th>Made Donation in March 2007</th>\n",
       "    </tr>\n",
       "  </thead>\n",
       "  <tbody>\n",
       "    <tr>\n",
       "      <th>571</th>\n",
       "      <td>698</td>\n",
       "      <td>23</td>\n",
       "      <td>1</td>\n",
       "      <td>250</td>\n",
       "      <td>23</td>\n",
       "      <td>0</td>\n",
       "    </tr>\n",
       "    <tr>\n",
       "      <th>572</th>\n",
       "      <td>433</td>\n",
       "      <td>16</td>\n",
       "      <td>3</td>\n",
       "      <td>750</td>\n",
       "      <td>86</td>\n",
       "      <td>0</td>\n",
       "    </tr>\n",
       "    <tr>\n",
       "      <th>573</th>\n",
       "      <td>360</td>\n",
       "      <td>21</td>\n",
       "      <td>2</td>\n",
       "      <td>500</td>\n",
       "      <td>52</td>\n",
       "      <td>0</td>\n",
       "    </tr>\n",
       "    <tr>\n",
       "      <th>574</th>\n",
       "      <td>541</td>\n",
       "      <td>39</td>\n",
       "      <td>1</td>\n",
       "      <td>250</td>\n",
       "      <td>39</td>\n",
       "      <td>0</td>\n",
       "    </tr>\n",
       "    <tr>\n",
       "      <th>575</th>\n",
       "      <td>74</td>\n",
       "      <td>72</td>\n",
       "      <td>1</td>\n",
       "      <td>250</td>\n",
       "      <td>72</td>\n",
       "      <td>0</td>\n",
       "    </tr>\n",
       "  </tbody>\n",
       "</table>\n",
       "</div>"
      ],
      "text/plain": [
       "     Unnamed: 0  Months since Last Donation  Number of Donations  \\\n",
       "571         698                          23                    1   \n",
       "572         433                          16                    3   \n",
       "573         360                          21                    2   \n",
       "574         541                          39                    1   \n",
       "575          74                          72                    1   \n",
       "\n",
       "     Total Volume Donated (c.c.)  Months since First Donation  \\\n",
       "571                          250                           23   \n",
       "572                          750                           86   \n",
       "573                          500                           52   \n",
       "574                          250                           39   \n",
       "575                          250                           72   \n",
       "\n",
       "     Made Donation in March 2007  \n",
       "571                            0  \n",
       "572                            0  \n",
       "573                            0  \n",
       "574                            0  \n",
       "575                            0  "
      ]
     },
     "execution_count": 205,
     "metadata": {},
     "output_type": "execute_result"
    }
   ],
   "source": [
    "data.tail()"
   ]
  },
  {
   "cell_type": "code",
   "execution_count": 207,
   "id": "1683b58f-3f9a-413c-97da-4c104433fc11",
   "metadata": {},
   "outputs": [
    {
     "data": {
      "text/plain": [
       "(576, 6)"
      ]
     },
     "execution_count": 207,
     "metadata": {},
     "output_type": "execute_result"
    }
   ],
   "source": [
    "data.shape"
   ]
  },
  {
   "cell_type": "code",
   "execution_count": 209,
   "id": "cf53f9db-c07b-46dd-a676-e6c8a0cd1284",
   "metadata": {},
   "outputs": [
    {
     "data": {
      "text/plain": [
       "['Unnamed: 0',\n",
       " 'Months since Last Donation',\n",
       " 'Number of Donations',\n",
       " 'Total Volume Donated (c.c.)',\n",
       " 'Months since First Donation',\n",
       " 'Made Donation in March 2007']"
      ]
     },
     "execution_count": 209,
     "metadata": {},
     "output_type": "execute_result"
    }
   ],
   "source": [
    "data.columns.tolist()"
   ]
  },
  {
   "cell_type": "code",
   "execution_count": 211,
   "id": "5254f5ab-65a8-4881-b8e8-41491670bcad",
   "metadata": {},
   "outputs": [
    {
     "name": "stdout",
     "output_type": "stream",
     "text": [
      "<class 'pandas.core.frame.DataFrame'>\n",
      "RangeIndex: 576 entries, 0 to 575\n",
      "Data columns (total 6 columns):\n",
      " #   Column                       Non-Null Count  Dtype\n",
      "---  ------                       --------------  -----\n",
      " 0   Unnamed: 0                   576 non-null    int64\n",
      " 1   Months since Last Donation   576 non-null    int64\n",
      " 2   Number of Donations          576 non-null    int64\n",
      " 3   Total Volume Donated (c.c.)  576 non-null    int64\n",
      " 4   Months since First Donation  576 non-null    int64\n",
      " 5   Made Donation in March 2007  576 non-null    int64\n",
      "dtypes: int64(6)\n",
      "memory usage: 27.1 KB\n"
     ]
    }
   ],
   "source": [
    "data.info()"
   ]
  },
  {
   "cell_type": "code",
   "execution_count": 213,
   "id": "f0e2befd-a194-473c-b1be-7f9069516067",
   "metadata": {},
   "outputs": [
    {
     "data": {
      "text/html": [
       "<div>\n",
       "<style scoped>\n",
       "    .dataframe tbody tr th:only-of-type {\n",
       "        vertical-align: middle;\n",
       "    }\n",
       "\n",
       "    .dataframe tbody tr th {\n",
       "        vertical-align: top;\n",
       "    }\n",
       "\n",
       "    .dataframe thead th {\n",
       "        text-align: right;\n",
       "    }\n",
       "</style>\n",
       "<table border=\"1\" class=\"dataframe\">\n",
       "  <thead>\n",
       "    <tr style=\"text-align: right;\">\n",
       "      <th></th>\n",
       "      <th>Unnamed: 0</th>\n",
       "      <th>Months since Last Donation</th>\n",
       "      <th>Number of Donations</th>\n",
       "      <th>Total Volume Donated (c.c.)</th>\n",
       "      <th>Months since First Donation</th>\n",
       "      <th>Made Donation in March 2007</th>\n",
       "    </tr>\n",
       "  </thead>\n",
       "  <tbody>\n",
       "    <tr>\n",
       "      <th>count</th>\n",
       "      <td>576.000000</td>\n",
       "      <td>576.000000</td>\n",
       "      <td>576.000000</td>\n",
       "      <td>576.000000</td>\n",
       "      <td>576.000000</td>\n",
       "      <td>576.000000</td>\n",
       "    </tr>\n",
       "    <tr>\n",
       "      <th>mean</th>\n",
       "      <td>374.034722</td>\n",
       "      <td>9.439236</td>\n",
       "      <td>5.427083</td>\n",
       "      <td>1356.770833</td>\n",
       "      <td>34.050347</td>\n",
       "      <td>0.239583</td>\n",
       "    </tr>\n",
       "    <tr>\n",
       "      <th>std</th>\n",
       "      <td>216.947773</td>\n",
       "      <td>8.175454</td>\n",
       "      <td>5.740010</td>\n",
       "      <td>1435.002556</td>\n",
       "      <td>24.227672</td>\n",
       "      <td>0.427200</td>\n",
       "    </tr>\n",
       "    <tr>\n",
       "      <th>min</th>\n",
       "      <td>0.000000</td>\n",
       "      <td>0.000000</td>\n",
       "      <td>1.000000</td>\n",
       "      <td>250.000000</td>\n",
       "      <td>2.000000</td>\n",
       "      <td>0.000000</td>\n",
       "    </tr>\n",
       "    <tr>\n",
       "      <th>25%</th>\n",
       "      <td>183.750000</td>\n",
       "      <td>2.000000</td>\n",
       "      <td>2.000000</td>\n",
       "      <td>500.000000</td>\n",
       "      <td>16.000000</td>\n",
       "      <td>0.000000</td>\n",
       "    </tr>\n",
       "    <tr>\n",
       "      <th>50%</th>\n",
       "      <td>375.500000</td>\n",
       "      <td>7.000000</td>\n",
       "      <td>4.000000</td>\n",
       "      <td>1000.000000</td>\n",
       "      <td>28.000000</td>\n",
       "      <td>0.000000</td>\n",
       "    </tr>\n",
       "    <tr>\n",
       "      <th>75%</th>\n",
       "      <td>562.500000</td>\n",
       "      <td>14.000000</td>\n",
       "      <td>7.000000</td>\n",
       "      <td>1750.000000</td>\n",
       "      <td>49.250000</td>\n",
       "      <td>0.000000</td>\n",
       "    </tr>\n",
       "    <tr>\n",
       "      <th>max</th>\n",
       "      <td>747.000000</td>\n",
       "      <td>74.000000</td>\n",
       "      <td>50.000000</td>\n",
       "      <td>12500.000000</td>\n",
       "      <td>98.000000</td>\n",
       "      <td>1.000000</td>\n",
       "    </tr>\n",
       "  </tbody>\n",
       "</table>\n",
       "</div>"
      ],
      "text/plain": [
       "       Unnamed: 0  Months since Last Donation  Number of Donations  \\\n",
       "count  576.000000                  576.000000           576.000000   \n",
       "mean   374.034722                    9.439236             5.427083   \n",
       "std    216.947773                    8.175454             5.740010   \n",
       "min      0.000000                    0.000000             1.000000   \n",
       "25%    183.750000                    2.000000             2.000000   \n",
       "50%    375.500000                    7.000000             4.000000   \n",
       "75%    562.500000                   14.000000             7.000000   \n",
       "max    747.000000                   74.000000            50.000000   \n",
       "\n",
       "       Total Volume Donated (c.c.)  Months since First Donation  \\\n",
       "count                   576.000000                   576.000000   \n",
       "mean                   1356.770833                    34.050347   \n",
       "std                    1435.002556                    24.227672   \n",
       "min                     250.000000                     2.000000   \n",
       "25%                     500.000000                    16.000000   \n",
       "50%                    1000.000000                    28.000000   \n",
       "75%                    1750.000000                    49.250000   \n",
       "max                   12500.000000                    98.000000   \n",
       "\n",
       "       Made Donation in March 2007  \n",
       "count                   576.000000  \n",
       "mean                      0.239583  \n",
       "std                       0.427200  \n",
       "min                       0.000000  \n",
       "25%                       0.000000  \n",
       "50%                       0.000000  \n",
       "75%                       0.000000  \n",
       "max                       1.000000  "
      ]
     },
     "execution_count": 213,
     "metadata": {},
     "output_type": "execute_result"
    }
   ],
   "source": [
    "data.describe()"
   ]
  },
  {
   "cell_type": "code",
   "execution_count": 215,
   "id": "227311e4-d90a-42a6-9024-bd57583392e7",
   "metadata": {},
   "outputs": [],
   "source": [
    "data=data.drop('Unnamed: 0',axis=1)"
   ]
  },
  {
   "cell_type": "code",
   "execution_count": 217,
   "id": "220781f7-28dc-4ea8-9f4c-c87b879af5a2",
   "metadata": {},
   "outputs": [
    {
     "data": {
      "text/html": [
       "<div>\n",
       "<style scoped>\n",
       "    .dataframe tbody tr th:only-of-type {\n",
       "        vertical-align: middle;\n",
       "    }\n",
       "\n",
       "    .dataframe tbody tr th {\n",
       "        vertical-align: top;\n",
       "    }\n",
       "\n",
       "    .dataframe thead th {\n",
       "        text-align: right;\n",
       "    }\n",
       "</style>\n",
       "<table border=\"1\" class=\"dataframe\">\n",
       "  <thead>\n",
       "    <tr style=\"text-align: right;\">\n",
       "      <th></th>\n",
       "      <th>Months since Last Donation</th>\n",
       "      <th>Number of Donations</th>\n",
       "      <th>Total Volume Donated (c.c.)</th>\n",
       "      <th>Months since First Donation</th>\n",
       "      <th>Made Donation in March 2007</th>\n",
       "    </tr>\n",
       "  </thead>\n",
       "  <tbody>\n",
       "    <tr>\n",
       "      <th>0</th>\n",
       "      <td>2</td>\n",
       "      <td>50</td>\n",
       "      <td>12500</td>\n",
       "      <td>98</td>\n",
       "      <td>1</td>\n",
       "    </tr>\n",
       "    <tr>\n",
       "      <th>1</th>\n",
       "      <td>0</td>\n",
       "      <td>13</td>\n",
       "      <td>3250</td>\n",
       "      <td>28</td>\n",
       "      <td>1</td>\n",
       "    </tr>\n",
       "    <tr>\n",
       "      <th>2</th>\n",
       "      <td>1</td>\n",
       "      <td>16</td>\n",
       "      <td>4000</td>\n",
       "      <td>35</td>\n",
       "      <td>1</td>\n",
       "    </tr>\n",
       "    <tr>\n",
       "      <th>3</th>\n",
       "      <td>2</td>\n",
       "      <td>20</td>\n",
       "      <td>5000</td>\n",
       "      <td>45</td>\n",
       "      <td>1</td>\n",
       "    </tr>\n",
       "    <tr>\n",
       "      <th>4</th>\n",
       "      <td>1</td>\n",
       "      <td>24</td>\n",
       "      <td>6000</td>\n",
       "      <td>77</td>\n",
       "      <td>0</td>\n",
       "    </tr>\n",
       "  </tbody>\n",
       "</table>\n",
       "</div>"
      ],
      "text/plain": [
       "   Months since Last Donation  Number of Donations  \\\n",
       "0                           2                   50   \n",
       "1                           0                   13   \n",
       "2                           1                   16   \n",
       "3                           2                   20   \n",
       "4                           1                   24   \n",
       "\n",
       "   Total Volume Donated (c.c.)  Months since First Donation  \\\n",
       "0                        12500                           98   \n",
       "1                         3250                           28   \n",
       "2                         4000                           35   \n",
       "3                         5000                           45   \n",
       "4                         6000                           77   \n",
       "\n",
       "   Made Donation in March 2007  \n",
       "0                            1  \n",
       "1                            1  \n",
       "2                            1  \n",
       "3                            1  \n",
       "4                            0  "
      ]
     },
     "execution_count": 217,
     "metadata": {},
     "output_type": "execute_result"
    }
   ],
   "source": [
    "df = data\n",
    "df.head()"
   ]
  },
  {
   "cell_type": "code",
   "execution_count": 219,
   "id": "9cc5d820-7db6-4151-a39c-d969e67ff0f1",
   "metadata": {},
   "outputs": [
    {
     "data": {
      "text/plain": [
       "Months since Last Donation     int64\n",
       "Number of Donations            int64\n",
       "Total Volume Donated (c.c.)    int64\n",
       "Months since First Donation    int64\n",
       "Made Donation in March 2007    int64\n",
       "dtype: object"
      ]
     },
     "execution_count": 219,
     "metadata": {},
     "output_type": "execute_result"
    }
   ],
   "source": [
    "df.dtypes"
   ]
  },
  {
   "cell_type": "code",
   "execution_count": 221,
   "id": "8b92d06c-6933-4c6a-bbb8-814de2c86bd3",
   "metadata": {},
   "outputs": [
    {
     "data": {
      "text/plain": [
       "<bound method Series.sum of 0      False\n",
       "1      False\n",
       "2      False\n",
       "3      False\n",
       "4      False\n",
       "       ...  \n",
       "571     True\n",
       "572    False\n",
       "573    False\n",
       "574    False\n",
       "575    False\n",
       "Length: 576, dtype: bool>"
      ]
     },
     "execution_count": 221,
     "metadata": {},
     "output_type": "execute_result"
    }
   ],
   "source": [
    "data.duplicated().sum"
   ]
  },
  {
   "cell_type": "code",
   "execution_count": 223,
   "id": "8f03041c-129f-4865-ac84-6a4970aaecec",
   "metadata": {},
   "outputs": [
    {
     "data": {
      "text/plain": [
       "(576, 5)"
      ]
     },
     "execution_count": 223,
     "metadata": {},
     "output_type": "execute_result"
    }
   ],
   "source": [
    "data.shape"
   ]
  },
  {
   "cell_type": "code",
   "execution_count": 225,
   "id": "49f71910-115b-4851-b47d-a6b7c2d4a2db",
   "metadata": {},
   "outputs": [
    {
     "data": {
      "text/html": [
       "<div>\n",
       "<style scoped>\n",
       "    .dataframe tbody tr th:only-of-type {\n",
       "        vertical-align: middle;\n",
       "    }\n",
       "\n",
       "    .dataframe tbody tr th {\n",
       "        vertical-align: top;\n",
       "    }\n",
       "\n",
       "    .dataframe thead th {\n",
       "        text-align: right;\n",
       "    }\n",
       "</style>\n",
       "<table border=\"1\" class=\"dataframe\">\n",
       "  <thead>\n",
       "    <tr style=\"text-align: right;\">\n",
       "      <th></th>\n",
       "      <th>Months since Last Donation</th>\n",
       "      <th>Number of Donations</th>\n",
       "      <th>Total Volume Donated (c.c.)</th>\n",
       "      <th>Months since First Donation</th>\n",
       "      <th>Made Donation in March 2007</th>\n",
       "    </tr>\n",
       "  </thead>\n",
       "  <tbody>\n",
       "    <tr>\n",
       "      <th>0</th>\n",
       "      <td>2</td>\n",
       "      <td>50</td>\n",
       "      <td>12500</td>\n",
       "      <td>98</td>\n",
       "      <td>1</td>\n",
       "    </tr>\n",
       "    <tr>\n",
       "      <th>1</th>\n",
       "      <td>0</td>\n",
       "      <td>13</td>\n",
       "      <td>3250</td>\n",
       "      <td>28</td>\n",
       "      <td>1</td>\n",
       "    </tr>\n",
       "    <tr>\n",
       "      <th>2</th>\n",
       "      <td>1</td>\n",
       "      <td>16</td>\n",
       "      <td>4000</td>\n",
       "      <td>35</td>\n",
       "      <td>1</td>\n",
       "    </tr>\n",
       "    <tr>\n",
       "      <th>3</th>\n",
       "      <td>2</td>\n",
       "      <td>20</td>\n",
       "      <td>5000</td>\n",
       "      <td>45</td>\n",
       "      <td>1</td>\n",
       "    </tr>\n",
       "    <tr>\n",
       "      <th>4</th>\n",
       "      <td>1</td>\n",
       "      <td>24</td>\n",
       "      <td>6000</td>\n",
       "      <td>77</td>\n",
       "      <td>0</td>\n",
       "    </tr>\n",
       "    <tr>\n",
       "      <th>...</th>\n",
       "      <td>...</td>\n",
       "      <td>...</td>\n",
       "      <td>...</td>\n",
       "      <td>...</td>\n",
       "      <td>...</td>\n",
       "    </tr>\n",
       "    <tr>\n",
       "      <th>571</th>\n",
       "      <td>23</td>\n",
       "      <td>1</td>\n",
       "      <td>250</td>\n",
       "      <td>23</td>\n",
       "      <td>0</td>\n",
       "    </tr>\n",
       "    <tr>\n",
       "      <th>572</th>\n",
       "      <td>16</td>\n",
       "      <td>3</td>\n",
       "      <td>750</td>\n",
       "      <td>86</td>\n",
       "      <td>0</td>\n",
       "    </tr>\n",
       "    <tr>\n",
       "      <th>573</th>\n",
       "      <td>21</td>\n",
       "      <td>2</td>\n",
       "      <td>500</td>\n",
       "      <td>52</td>\n",
       "      <td>0</td>\n",
       "    </tr>\n",
       "    <tr>\n",
       "      <th>574</th>\n",
       "      <td>39</td>\n",
       "      <td>1</td>\n",
       "      <td>250</td>\n",
       "      <td>39</td>\n",
       "      <td>0</td>\n",
       "    </tr>\n",
       "    <tr>\n",
       "      <th>575</th>\n",
       "      <td>72</td>\n",
       "      <td>1</td>\n",
       "      <td>250</td>\n",
       "      <td>72</td>\n",
       "      <td>0</td>\n",
       "    </tr>\n",
       "  </tbody>\n",
       "</table>\n",
       "<p>576 rows × 5 columns</p>\n",
       "</div>"
      ],
      "text/plain": [
       "     Months since Last Donation  Number of Donations  \\\n",
       "0                             2                   50   \n",
       "1                             0                   13   \n",
       "2                             1                   16   \n",
       "3                             2                   20   \n",
       "4                             1                   24   \n",
       "..                          ...                  ...   \n",
       "571                          23                    1   \n",
       "572                          16                    3   \n",
       "573                          21                    2   \n",
       "574                          39                    1   \n",
       "575                          72                    1   \n",
       "\n",
       "     Total Volume Donated (c.c.)  Months since First Donation  \\\n",
       "0                          12500                           98   \n",
       "1                           3250                           28   \n",
       "2                           4000                           35   \n",
       "3                           5000                           45   \n",
       "4                           6000                           77   \n",
       "..                           ...                          ...   \n",
       "571                          250                           23   \n",
       "572                          750                           86   \n",
       "573                          500                           52   \n",
       "574                          250                           39   \n",
       "575                          250                           72   \n",
       "\n",
       "     Made Donation in March 2007  \n",
       "0                              1  \n",
       "1                              1  \n",
       "2                              1  \n",
       "3                              1  \n",
       "4                              0  \n",
       "..                           ...  \n",
       "571                            0  \n",
       "572                            0  \n",
       "573                            0  \n",
       "574                            0  \n",
       "575                            0  \n",
       "\n",
       "[576 rows x 5 columns]"
      ]
     },
     "execution_count": 225,
     "metadata": {},
     "output_type": "execute_result"
    }
   ],
   "source": [
    "data"
   ]
  },
  {
   "cell_type": "code",
   "execution_count": 227,
   "id": "fd37b8ec-1356-4304-80a8-1feb1193a825",
   "metadata": {},
   "outputs": [],
   "source": [
    "data=data.drop('Total Volume Donated (c.c.)',axis=1)"
   ]
  },
  {
   "cell_type": "code",
   "execution_count": 229,
   "id": "bbc386bf-514f-4751-97e6-dca5a0b6ca2a",
   "metadata": {},
   "outputs": [
    {
     "data": {
      "text/html": [
       "<div>\n",
       "<style scoped>\n",
       "    .dataframe tbody tr th:only-of-type {\n",
       "        vertical-align: middle;\n",
       "    }\n",
       "\n",
       "    .dataframe tbody tr th {\n",
       "        vertical-align: top;\n",
       "    }\n",
       "\n",
       "    .dataframe thead th {\n",
       "        text-align: right;\n",
       "    }\n",
       "</style>\n",
       "<table border=\"1\" class=\"dataframe\">\n",
       "  <thead>\n",
       "    <tr style=\"text-align: right;\">\n",
       "      <th></th>\n",
       "      <th>Months since Last Donation</th>\n",
       "      <th>Number of Donations</th>\n",
       "      <th>Months since First Donation</th>\n",
       "      <th>Made Donation in March 2007</th>\n",
       "    </tr>\n",
       "  </thead>\n",
       "  <tbody>\n",
       "    <tr>\n",
       "      <th>0</th>\n",
       "      <td>2</td>\n",
       "      <td>50</td>\n",
       "      <td>98</td>\n",
       "      <td>1</td>\n",
       "    </tr>\n",
       "    <tr>\n",
       "      <th>1</th>\n",
       "      <td>0</td>\n",
       "      <td>13</td>\n",
       "      <td>28</td>\n",
       "      <td>1</td>\n",
       "    </tr>\n",
       "    <tr>\n",
       "      <th>2</th>\n",
       "      <td>1</td>\n",
       "      <td>16</td>\n",
       "      <td>35</td>\n",
       "      <td>1</td>\n",
       "    </tr>\n",
       "    <tr>\n",
       "      <th>3</th>\n",
       "      <td>2</td>\n",
       "      <td>20</td>\n",
       "      <td>45</td>\n",
       "      <td>1</td>\n",
       "    </tr>\n",
       "    <tr>\n",
       "      <th>4</th>\n",
       "      <td>1</td>\n",
       "      <td>24</td>\n",
       "      <td>77</td>\n",
       "      <td>0</td>\n",
       "    </tr>\n",
       "    <tr>\n",
       "      <th>...</th>\n",
       "      <td>...</td>\n",
       "      <td>...</td>\n",
       "      <td>...</td>\n",
       "      <td>...</td>\n",
       "    </tr>\n",
       "    <tr>\n",
       "      <th>571</th>\n",
       "      <td>23</td>\n",
       "      <td>1</td>\n",
       "      <td>23</td>\n",
       "      <td>0</td>\n",
       "    </tr>\n",
       "    <tr>\n",
       "      <th>572</th>\n",
       "      <td>16</td>\n",
       "      <td>3</td>\n",
       "      <td>86</td>\n",
       "      <td>0</td>\n",
       "    </tr>\n",
       "    <tr>\n",
       "      <th>573</th>\n",
       "      <td>21</td>\n",
       "      <td>2</td>\n",
       "      <td>52</td>\n",
       "      <td>0</td>\n",
       "    </tr>\n",
       "    <tr>\n",
       "      <th>574</th>\n",
       "      <td>39</td>\n",
       "      <td>1</td>\n",
       "      <td>39</td>\n",
       "      <td>0</td>\n",
       "    </tr>\n",
       "    <tr>\n",
       "      <th>575</th>\n",
       "      <td>72</td>\n",
       "      <td>1</td>\n",
       "      <td>72</td>\n",
       "      <td>0</td>\n",
       "    </tr>\n",
       "  </tbody>\n",
       "</table>\n",
       "<p>576 rows × 4 columns</p>\n",
       "</div>"
      ],
      "text/plain": [
       "     Months since Last Donation  Number of Donations  \\\n",
       "0                             2                   50   \n",
       "1                             0                   13   \n",
       "2                             1                   16   \n",
       "3                             2                   20   \n",
       "4                             1                   24   \n",
       "..                          ...                  ...   \n",
       "571                          23                    1   \n",
       "572                          16                    3   \n",
       "573                          21                    2   \n",
       "574                          39                    1   \n",
       "575                          72                    1   \n",
       "\n",
       "     Months since First Donation  Made Donation in March 2007  \n",
       "0                             98                            1  \n",
       "1                             28                            1  \n",
       "2                             35                            1  \n",
       "3                             45                            1  \n",
       "4                             77                            0  \n",
       "..                           ...                          ...  \n",
       "571                           23                            0  \n",
       "572                           86                            0  \n",
       "573                           52                            0  \n",
       "574                           39                            0  \n",
       "575                           72                            0  \n",
       "\n",
       "[576 rows x 4 columns]"
      ]
     },
     "execution_count": 229,
     "metadata": {},
     "output_type": "execute_result"
    }
   ],
   "source": [
    "data"
   ]
  },
  {
   "cell_type": "code",
   "execution_count": 231,
   "id": "f7c183b9-f74b-4fa9-ad06-e3958b52a68d",
   "metadata": {},
   "outputs": [
    {
     "name": "stdout",
     "output_type": "stream",
     "text": [
      "<class 'pandas.core.frame.DataFrame'>\n",
      "RangeIndex: 576 entries, 0 to 575\n",
      "Data columns (total 4 columns):\n",
      " #   Column                       Non-Null Count  Dtype\n",
      "---  ------                       --------------  -----\n",
      " 0   Months since Last Donation   576 non-null    int64\n",
      " 1   Number of Donations          576 non-null    int64\n",
      " 2   Months since First Donation  576 non-null    int64\n",
      " 3   Made Donation in March 2007  576 non-null    int64\n",
      "dtypes: int64(4)\n",
      "memory usage: 18.1 KB\n"
     ]
    }
   ],
   "source": [
    "data.info()"
   ]
  },
  {
   "cell_type": "code",
   "execution_count": 233,
   "id": "d3c66aa7-8548-4ac0-8ab4-64214c857628",
   "metadata": {},
   "outputs": [
    {
     "data": {
      "text/html": [
       "<div>\n",
       "<style scoped>\n",
       "    .dataframe tbody tr th:only-of-type {\n",
       "        vertical-align: middle;\n",
       "    }\n",
       "\n",
       "    .dataframe tbody tr th {\n",
       "        vertical-align: top;\n",
       "    }\n",
       "\n",
       "    .dataframe thead th {\n",
       "        text-align: right;\n",
       "    }\n",
       "</style>\n",
       "<table border=\"1\" class=\"dataframe\">\n",
       "  <thead>\n",
       "    <tr style=\"text-align: right;\">\n",
       "      <th></th>\n",
       "      <th>Months since Last Donation</th>\n",
       "      <th>Number of Donations</th>\n",
       "      <th>Months since First Donation</th>\n",
       "      <th>Made Donation in March 2007</th>\n",
       "    </tr>\n",
       "  </thead>\n",
       "  <tbody>\n",
       "    <tr>\n",
       "      <th>count</th>\n",
       "      <td>576.000000</td>\n",
       "      <td>576.000000</td>\n",
       "      <td>576.000000</td>\n",
       "      <td>576.000000</td>\n",
       "    </tr>\n",
       "    <tr>\n",
       "      <th>mean</th>\n",
       "      <td>9.439236</td>\n",
       "      <td>5.427083</td>\n",
       "      <td>34.050347</td>\n",
       "      <td>0.239583</td>\n",
       "    </tr>\n",
       "    <tr>\n",
       "      <th>std</th>\n",
       "      <td>8.175454</td>\n",
       "      <td>5.740010</td>\n",
       "      <td>24.227672</td>\n",
       "      <td>0.427200</td>\n",
       "    </tr>\n",
       "    <tr>\n",
       "      <th>min</th>\n",
       "      <td>0.000000</td>\n",
       "      <td>1.000000</td>\n",
       "      <td>2.000000</td>\n",
       "      <td>0.000000</td>\n",
       "    </tr>\n",
       "    <tr>\n",
       "      <th>25%</th>\n",
       "      <td>2.000000</td>\n",
       "      <td>2.000000</td>\n",
       "      <td>16.000000</td>\n",
       "      <td>0.000000</td>\n",
       "    </tr>\n",
       "    <tr>\n",
       "      <th>50%</th>\n",
       "      <td>7.000000</td>\n",
       "      <td>4.000000</td>\n",
       "      <td>28.000000</td>\n",
       "      <td>0.000000</td>\n",
       "    </tr>\n",
       "    <tr>\n",
       "      <th>75%</th>\n",
       "      <td>14.000000</td>\n",
       "      <td>7.000000</td>\n",
       "      <td>49.250000</td>\n",
       "      <td>0.000000</td>\n",
       "    </tr>\n",
       "    <tr>\n",
       "      <th>max</th>\n",
       "      <td>74.000000</td>\n",
       "      <td>50.000000</td>\n",
       "      <td>98.000000</td>\n",
       "      <td>1.000000</td>\n",
       "    </tr>\n",
       "  </tbody>\n",
       "</table>\n",
       "</div>"
      ],
      "text/plain": [
       "       Months since Last Donation  Number of Donations  \\\n",
       "count                  576.000000           576.000000   \n",
       "mean                     9.439236             5.427083   \n",
       "std                      8.175454             5.740010   \n",
       "min                      0.000000             1.000000   \n",
       "25%                      2.000000             2.000000   \n",
       "50%                      7.000000             4.000000   \n",
       "75%                     14.000000             7.000000   \n",
       "max                     74.000000            50.000000   \n",
       "\n",
       "       Months since First Donation  Made Donation in March 2007  \n",
       "count                   576.000000                   576.000000  \n",
       "mean                     34.050347                     0.239583  \n",
       "std                      24.227672                     0.427200  \n",
       "min                       2.000000                     0.000000  \n",
       "25%                      16.000000                     0.000000  \n",
       "50%                      28.000000                     0.000000  \n",
       "75%                      49.250000                     0.000000  \n",
       "max                      98.000000                     1.000000  "
      ]
     },
     "execution_count": 233,
     "metadata": {},
     "output_type": "execute_result"
    }
   ],
   "source": [
    "data.describe()"
   ]
  },
  {
   "cell_type": "raw",
   "id": "2c1b4528-d44a-4bff-b630-8eafb0610310",
   "metadata": {},
   "source": [
    "***EDA***"
   ]
  },
  {
   "cell_type": "code",
   "execution_count": 235,
   "id": "7273f9f1-cb2e-422a-bd6c-fb47e9112595",
   "metadata": {},
   "outputs": [
    {
     "data": {
      "text/html": [
       "<div>\n",
       "<style scoped>\n",
       "    .dataframe tbody tr th:only-of-type {\n",
       "        vertical-align: middle;\n",
       "    }\n",
       "\n",
       "    .dataframe tbody tr th {\n",
       "        vertical-align: top;\n",
       "    }\n",
       "\n",
       "    .dataframe thead th {\n",
       "        text-align: right;\n",
       "    }\n",
       "</style>\n",
       "<table border=\"1\" class=\"dataframe\">\n",
       "  <thead>\n",
       "    <tr style=\"text-align: right;\">\n",
       "      <th></th>\n",
       "      <th>Months since Last Donation</th>\n",
       "      <th>Number of Donations</th>\n",
       "      <th>Months since First Donation</th>\n",
       "      <th>Made Donation in March 2007</th>\n",
       "    </tr>\n",
       "  </thead>\n",
       "  <tbody>\n",
       "    <tr>\n",
       "      <th>0</th>\n",
       "      <td>2</td>\n",
       "      <td>50</td>\n",
       "      <td>98</td>\n",
       "      <td>1</td>\n",
       "    </tr>\n",
       "    <tr>\n",
       "      <th>1</th>\n",
       "      <td>0</td>\n",
       "      <td>13</td>\n",
       "      <td>28</td>\n",
       "      <td>1</td>\n",
       "    </tr>\n",
       "    <tr>\n",
       "      <th>2</th>\n",
       "      <td>1</td>\n",
       "      <td>16</td>\n",
       "      <td>35</td>\n",
       "      <td>1</td>\n",
       "    </tr>\n",
       "    <tr>\n",
       "      <th>3</th>\n",
       "      <td>2</td>\n",
       "      <td>20</td>\n",
       "      <td>45</td>\n",
       "      <td>1</td>\n",
       "    </tr>\n",
       "    <tr>\n",
       "      <th>4</th>\n",
       "      <td>1</td>\n",
       "      <td>24</td>\n",
       "      <td>77</td>\n",
       "      <td>0</td>\n",
       "    </tr>\n",
       "    <tr>\n",
       "      <th>...</th>\n",
       "      <td>...</td>\n",
       "      <td>...</td>\n",
       "      <td>...</td>\n",
       "      <td>...</td>\n",
       "    </tr>\n",
       "    <tr>\n",
       "      <th>571</th>\n",
       "      <td>23</td>\n",
       "      <td>1</td>\n",
       "      <td>23</td>\n",
       "      <td>0</td>\n",
       "    </tr>\n",
       "    <tr>\n",
       "      <th>572</th>\n",
       "      <td>16</td>\n",
       "      <td>3</td>\n",
       "      <td>86</td>\n",
       "      <td>0</td>\n",
       "    </tr>\n",
       "    <tr>\n",
       "      <th>573</th>\n",
       "      <td>21</td>\n",
       "      <td>2</td>\n",
       "      <td>52</td>\n",
       "      <td>0</td>\n",
       "    </tr>\n",
       "    <tr>\n",
       "      <th>574</th>\n",
       "      <td>39</td>\n",
       "      <td>1</td>\n",
       "      <td>39</td>\n",
       "      <td>0</td>\n",
       "    </tr>\n",
       "    <tr>\n",
       "      <th>575</th>\n",
       "      <td>72</td>\n",
       "      <td>1</td>\n",
       "      <td>72</td>\n",
       "      <td>0</td>\n",
       "    </tr>\n",
       "  </tbody>\n",
       "</table>\n",
       "<p>576 rows × 4 columns</p>\n",
       "</div>"
      ],
      "text/plain": [
       "     Months since Last Donation  Number of Donations  \\\n",
       "0                             2                   50   \n",
       "1                             0                   13   \n",
       "2                             1                   16   \n",
       "3                             2                   20   \n",
       "4                             1                   24   \n",
       "..                          ...                  ...   \n",
       "571                          23                    1   \n",
       "572                          16                    3   \n",
       "573                          21                    2   \n",
       "574                          39                    1   \n",
       "575                          72                    1   \n",
       "\n",
       "     Months since First Donation  Made Donation in March 2007  \n",
       "0                             98                            1  \n",
       "1                             28                            1  \n",
       "2                             35                            1  \n",
       "3                             45                            1  \n",
       "4                             77                            0  \n",
       "..                           ...                          ...  \n",
       "571                           23                            0  \n",
       "572                           86                            0  \n",
       "573                           52                            0  \n",
       "574                           39                            0  \n",
       "575                           72                            0  \n",
       "\n",
       "[576 rows x 4 columns]"
      ]
     },
     "execution_count": 235,
     "metadata": {},
     "output_type": "execute_result"
    }
   ],
   "source": [
    "data"
   ]
  },
  {
   "cell_type": "code",
   "execution_count": 237,
   "id": "aed35f24-5d32-421b-9626-297c4edca972",
   "metadata": {},
   "outputs": [
    {
     "data": {
      "image/png": "[encoded data removed]",
      "text/plain": [
       "<Figure size 1200x1000 with 4 Axes>"
      ]
     },
     "metadata": {},
     "output_type": "display_data"
    }
   ],
   "source": [
    "plt.figure(figsize=(12,10),facecolor='white')\n",
    "plotnumber=1\n",
    "for column in data:\n",
    "    plt.subplot(2,2,plotnumber)\n",
    "    sns.histplot(data[column],kde=True,color='blue',edgecolor='black')\n",
    "    plt.title(f'Distribution of {column}')\n",
    "    plotnumber+=1\n",
    "plt.tight_layout()\n",
    "plt.show()"
   ]
  },
  {
   "cell_type": "code",
   "execution_count": 238,
   "id": "d09b15f1-8d81-4736-b5db-c2af2b2d4ca4",
   "metadata": {},
   "outputs": [
    {
     "data": {
      "image/png": "[encoded data removed]",
      "text/plain": [
       "<Figure size 2000x2500 with 4 Axes>"
      ]
     },
     "metadata": {},
     "output_type": "display_data"
    }
   ],
   "source": [
    "plt.figure(figsize=(20,25),facecolor='white')\n",
    "plotnumber=1\n",
    "for column in data:\n",
    "    plt.subplot(2,2,plotnumber)\n",
    "    sns.boxplot(x=data[column])\n",
    "    plt.xlabel(column,fontsize=15)\n",
    "    plotnumber+=1\n",
    "plt.tight_layout()\n",
    "plt.show()"
   ]
  },
  {
   "cell_type": "markdown",
   "id": "f0718e3a-abc9-4757-bfa8-e74801070466",
   "metadata": {},
   "source": [
    "# Visual EDA"
   ]
  },
  {
   "cell_type": "raw",
   "id": "93d97711-12f8-47af-b228-aeb4e7f1c1ff",
   "metadata": {},
   "source": [
    "# Our feature column are 1. Months since last donation, 2.Number of Donations, 3.Months since first donation.\n",
    "# Target column is \" Made Donation in March 2007\".\n",
    "# so, we are going to perform Histograms for feature column and Count plot for Target column."
   ]
  },
  {
   "cell_type": "markdown",
   "id": "1e6cc754-8cf7-4d6f-b3dc-713ab535ffcc",
   "metadata": {},
   "source": [
    "## Histrogram for each feature column."
   ]
  },
  {
   "cell_type": "markdown",
   "id": "f5e06894-3910-46a9-9e62-6b6a442cd362",
   "metadata": {},
   "source": [
    "### Histogram for \"Months since last Donation column\"."
   ]
  },
  {
   "cell_type": "code",
   "execution_count": 244,
   "id": "f37e10e3-7d8f-47fa-95d0-fe37cfea9f4e",
   "metadata": {},
   "outputs": [],
   "source": [
    "import seaborn as sns"
   ]
  },
  {
   "cell_type": "code",
   "execution_count": 247,
   "id": "d294a8f3-1f70-4dc1-9ba3-9ec03c79f2d0",
   "metadata": {},
   "outputs": [
    {
     "data": {
      "text/plain": [
       "<function matplotlib.pyplot.show(close=None, block=None)>"
      ]
     },
     "execution_count": 247,
     "metadata": {},
     "output_type": "execute_result"
    },
    {
     "data": {
      "image/png": "[encoded data removed]",
      "text/plain": [
       "<Figure size 640x480 with 1 Axes>"
      ]
     },
     "metadata": {},
     "output_type": "display_data"
    }
   ],
   "source": [
    "sns.histplot (data=data,x='Months since Last Donation',bins=10,kde=True,color='skyblue')\n",
    "plt.title('Distribution of Months Since Last Donation')\n",
    "plt.xlabel('Months')\n",
    "plt.ylabel('Number of Donors')\n",
    "plt.grid=True\n",
    "plt.show"
   ]
  },
  {
   "cell_type": "raw",
   "id": "b97f85e0-3f7b-4baf-85b4-bd55bac72cc0",
   "metadata": {},
   "source": [
    "# Conclusion=\n",
    "# It shows that majority of donors have donated blood recently,with a higher concentration of values in the lower months range.\n",
    "# As the number of months increases, the frequency of donor decreases, this results in \"Right screwed distribution\"."
   ]
  },
  {
   "cell_type": "markdown",
   "id": "8efe3fce-ed24-4985-98c7-a26867b45377",
   "metadata": {},
   "source": [
    "### Histogram for \"Number of Donations\""
   ]
  },
  {
   "cell_type": "code",
   "execution_count": 253,
   "id": "885653c4-01bd-40cf-8085-8ad6c855d52c",
   "metadata": {},
   "outputs": [
    {
     "data": {
      "text/plain": [
       "<function matplotlib.pyplot.show(close=None, block=None)>"
      ]
     },
     "execution_count": 253,
     "metadata": {},
     "output_type": "execute_result"
    },
    {
     "data": {
      "image/png": "[encoded data removed]",
      "text/plain": [
       "<Figure size 640x480 with 1 Axes>"
      ]
     },
     "metadata": {},
     "output_type": "display_data"
    }
   ],
   "source": [
    "sns.histplot (data=data,x='Number of Donations',bins=10,kde=True,color='skyblue')\n",
    "plt.title('Distribution of Number of Donations')\n",
    "plt.xlabel('Months')\n",
    "plt.ylabel('Frequency')\n",
    "plt.grid=True\n",
    "plt.show"
   ]
  },
  {
   "cell_type": "raw",
   "id": "dd670c32-6409-41e1-aae6-91e5810ecc2d",
   "metadata": {},
   "source": [
    "# Conclusion\n",
    "# most donors in the dataset have donated blood only few times.\n",
    "# The frequency is highest for donors with low number of donations.\n",
    "# This results in Right skewed distribution, indicating first time, \n",
    "# occasional donors are more common, while frequent or regular donors are relatively fewer."
   ]
  },
  {
   "cell_type": "markdown",
   "id": "4c222743-d427-4bda-ba22-3bd24b4f48c8",
   "metadata": {},
   "source": [
    "### Histogram for \"Months since First Donation column\"."
   ]
  },
  {
   "cell_type": "code",
   "execution_count": 258,
   "id": "21fe1a96-0272-4820-97fe-e418eda0ba16",
   "metadata": {},
   "outputs": [
    {
     "data": {
      "text/plain": [
       "<function matplotlib.pyplot.show(close=None, block=None)>"
      ]
     },
     "execution_count": 258,
     "metadata": {},
     "output_type": "execute_result"
    },
    {
     "data": {
      "image/png": "[encoded data removed]",
      "text/plain": [
       "<Figure size 640x480 with 1 Axes>"
      ]
     },
     "metadata": {},
     "output_type": "display_data"
    }
   ],
   "source": [
    "sns.histplot (data=data,x='Months since First Donation',bins=10,kde=True,color='skyblue')\n",
    "plt.title('Distribution of Months since First Donation')\n",
    "plt.xlabel('Months since first donation')\n",
    "plt.ylabel('Number of Donors')\n",
    "plt.grid=True\n",
    "plt.show"
   ]
  },
  {
   "cell_type": "raw",
   "id": "412e10b6-a73a-4e81-8165-c6c9bbb17b59",
   "metadata": {},
   "source": [
    "# Conclusion\n",
    "# It shows how long donors are associated with blood donation program. The distribution is likely spread out.\n",
    "# Some donors made their donations many months ago, while others have joined more recently."
   ]
  },
  {
   "cell_type": "markdown",
   "id": "e23255da-cb64-4252-9884-df6238174ba1",
   "metadata": {},
   "source": [
    "## Count plot for \"Made Donation in March 2007\"(Target column)"
   ]
  },
  {
   "cell_type": "code",
   "execution_count": 263,
   "id": "ec85e0fd-e3f5-4ede-aa4f-f0ea0332759e",
   "metadata": {},
   "outputs": [
    {
     "data": {
      "image/png": "[encoded data removed]",
      "text/plain": [
       "<Figure size 640x480 with 1 Axes>"
      ]
     },
     "metadata": {},
     "output_type": "display_data"
    }
   ],
   "source": [
    "sns.countplot(data=data,x='Made Donation in March 2007', hue= 'Made Donation in March 2007', palette='Set2',legend= False)\n",
    "plt.title('Donation Status in March 2007')\n",
    "plt.xlabel('Donation Made(0= No,1= Yes)')\n",
    "plt.ylabel('Number of Donors')\n",
    "plt.grid=(True)\n",
    "plt.show()"
   ]
  },
  {
   "cell_type": "raw",
   "id": "b889cb21-cccc-4500-99f7-07c44cbe9a29",
   "metadata": {},
   "source": [
    "# Conclusion\n",
    "# Reveals the Class imbalance in dataset.\n",
    "# Higher Number of Donors did not donate in March 2007 compared to those who did donate.\n",
    "# This indicates, dataset is skewed towards non-donors, which is important to consider while building a prediction model."
   ]
  },
  {
   "cell_type": "markdown",
   "id": "a0e31802-03cb-41f2-8f5d-8e0e55cca8bc",
   "metadata": {},
   "source": [
    "## Box plots ( Check for outliers)"
   ]
  },
  {
   "cell_type": "markdown",
   "id": "0de0545b-cd30-4fb2-8d2e-31f0c5838041",
   "metadata": {},
   "source": [
    "### Box plot for Months since last Donation"
   ]
  },
  {
   "cell_type": "code",
   "execution_count": 269,
   "id": "0d9a088b-8a07-4086-a5ff-f743eca432af",
   "metadata": {},
   "outputs": [
    {
     "data": {
      "image/png": "[encoded data removed]",
      "text/plain": [
       "<Figure size 640x480 with 1 Axes>"
      ]
     },
     "metadata": {},
     "output_type": "display_data"
    }
   ],
   "source": [
    "sns.boxplot(data=data,x='Months since Last Donation', color='skyblue')\n",
    "plt.title('Box plot for Months since Last Donation')\n",
    "plt.ylabel('Number of Donations')\n",
    "plt.grid=(True)\n",
    "plt.show()"
   ]
  },
  {
   "cell_type": "raw",
   "id": "35b758ab-8681-49c3-a4e7-cc7fee92fba3",
   "metadata": {},
   "source": [
    "# conclusion\n",
    "# The presence of outliers in higher end suggest that some donors had not donated in long time.\n",
    "# The median line appears closer to the lower quartile, suggesting a right-skewed distribution."
   ]
  },
  {
   "cell_type": "markdown",
   "id": "e26c0598-e0f3-4a27-b653-8fb6aaf86562",
   "metadata": {},
   "source": [
    "### Box plot for Number of Donations."
   ]
  },
  {
   "cell_type": "code",
   "execution_count": 274,
   "id": "aaca499b-ef58-4de4-b189-9fd686fad0ee",
   "metadata": {},
   "outputs": [
    {
     "data": {
      "image/png": "[encoded data removed]",
      "text/plain": [
       "<Figure size 640x480 with 1 Axes>"
      ]
     },
     "metadata": {},
     "output_type": "display_data"
    }
   ],
   "source": [
    "sns.boxplot(data=data,x='Number of Donations', color='skyblue')\n",
    "plt.title('Box plot for Number of Donations')\n",
    "plt.ylabel('Number of Donations')\n",
    "plt.grid=(True)\n",
    "plt.show()"
   ]
  },
  {
   "cell_type": "raw",
   "id": "6591faaf-bc42-4da2-8eca-085164619d6f",
   "metadata": {},
   "source": [
    "# conclusion\n",
    "# Most Donors have made a relatively small number of donations.\n",
    "# occasional donors are more common in the dataset.\n",
    "# The presence of these outliers suggests that donation behaviour is not uniform."
   ]
  },
  {
   "cell_type": "markdown",
   "id": "418dcbe9-fa00-498b-84a9-bdcb3fca4e0e",
   "metadata": {},
   "source": [
    "### Box plot for Months since First Donation"
   ]
  },
  {
   "cell_type": "code",
   "execution_count": 279,
   "id": "7a6f3355-ef8f-4dc5-a21e-0e7bdc250f18",
   "metadata": {},
   "outputs": [
    {
     "data": {
      "image/png": "[encoded data removed]",
      "text/plain": [
       "<Figure size 640x480 with 1 Axes>"
      ]
     },
     "metadata": {},
     "output_type": "display_data"
    }
   ],
   "source": [
    "sns.boxplot(data=data,x='Months since First Donation', color='skyblue')\n",
    "plt.title('Box plot for Months since First Donation')\n",
    "plt.ylabel('Number of Donations')\n",
    "plt.grid=(True)\n",
    "plt.show()"
   ]
  },
  {
   "cell_type": "raw",
   "id": "66f87e7e-7cb4-4527-9ace-7bfd4fb66822",
   "metadata": {},
   "source": [
    "#Conclusion- There are no outliers found."
   ]
  },
  {
   "cell_type": "markdown",
   "id": "c96932de-c1d7-4066-882b-7b782d022e36",
   "metadata": {},
   "source": [
    "## Correlation using Heatmap"
   ]
  },
  {
   "cell_type": "code",
   "execution_count": 284,
   "id": "759180dd-5ffe-4726-b87e-eb01d354b9ca",
   "metadata": {},
   "outputs": [
    {
     "data": {
      "text/plain": [
       "<function matplotlib.pyplot.show(close=None, block=None)>"
      ]
     },
     "execution_count": 284,
     "metadata": {},
     "output_type": "execute_result"
    },
    {
     "data": {
      "image/png": "[encoded data removed]",
      "text/plain": [
       "<Figure size 1000x600 with 2 Axes>"
      ]
     },
     "metadata": {},
     "output_type": "display_data"
    }
   ],
   "source": [
    "# compute the correlation matrix\n",
    "correlation_matrix=data.corr()\n",
    "#setup the matplotlib figure\n",
    "plt.figure(figsize=(10,6))\n",
    "sns.heatmap(correlation_matrix,annot=True,cmap='coolwarm',fmt='.2f',linewidths=0.5)\n",
    "plt.title('Correlation Heatmap- Blood Donation Prediction')\n",
    "plt.tight_layout()\n",
    "plt.show"
   ]
  },
  {
   "cell_type": "markdown",
   "id": "9f59817f-f338-477b-9674-3303e10112ae",
   "metadata": {},
   "source": [
    "# Outlier Removal"
   ]
  },
  {
   "cell_type": "code",
   "execution_count": 289,
   "id": "622e66c8-8080-4382-a73f-d3b08c2ca9da",
   "metadata": {},
   "outputs": [
    {
     "data": {
      "text/plain": [
       "<Axes: xlabel='Months since Last Donation'>"
      ]
     },
     "execution_count": 289,
     "metadata": {},
     "output_type": "execute_result"
    },
    {
     "data": {
      "image/png": "[encoded data removed]",
      "text/plain": [
       "<Figure size 640x480 with 1 Axes>"
      ]
     },
     "metadata": {},
     "output_type": "display_data"
    }
   ],
   "source": [
    "sns.boxplot(x=data['Months since Last Donation'])"
   ]
  },
  {
   "cell_type": "code",
   "execution_count": 291,
   "id": "1009a840-2085-424a-9071-1ea0c879b09d",
   "metadata": {},
   "outputs": [
    {
     "data": {
      "text/html": [
       "<div>\n",
       "<style scoped>\n",
       "    .dataframe tbody tr th:only-of-type {\n",
       "        vertical-align: middle;\n",
       "    }\n",
       "\n",
       "    .dataframe tbody tr th {\n",
       "        vertical-align: top;\n",
       "    }\n",
       "\n",
       "    .dataframe thead th {\n",
       "        text-align: right;\n",
       "    }\n",
       "</style>\n",
       "<table border=\"1\" class=\"dataframe\">\n",
       "  <thead>\n",
       "    <tr style=\"text-align: right;\">\n",
       "      <th></th>\n",
       "      <th>Months_since_Last_Donation</th>\n",
       "      <th>Number_of_Donations</th>\n",
       "      <th>Months_since_First_Donation</th>\n",
       "      <th>Made_Donation_in_March_2007</th>\n",
       "    </tr>\n",
       "  </thead>\n",
       "  <tbody>\n",
       "    <tr>\n",
       "      <th>0</th>\n",
       "      <td>2</td>\n",
       "      <td>50</td>\n",
       "      <td>98</td>\n",
       "      <td>1</td>\n",
       "    </tr>\n",
       "    <tr>\n",
       "      <th>1</th>\n",
       "      <td>0</td>\n",
       "      <td>13</td>\n",
       "      <td>28</td>\n",
       "      <td>1</td>\n",
       "    </tr>\n",
       "    <tr>\n",
       "      <th>2</th>\n",
       "      <td>1</td>\n",
       "      <td>16</td>\n",
       "      <td>35</td>\n",
       "      <td>1</td>\n",
       "    </tr>\n",
       "    <tr>\n",
       "      <th>3</th>\n",
       "      <td>2</td>\n",
       "      <td>20</td>\n",
       "      <td>45</td>\n",
       "      <td>1</td>\n",
       "    </tr>\n",
       "    <tr>\n",
       "      <th>4</th>\n",
       "      <td>1</td>\n",
       "      <td>24</td>\n",
       "      <td>77</td>\n",
       "      <td>0</td>\n",
       "    </tr>\n",
       "    <tr>\n",
       "      <th>...</th>\n",
       "      <td>...</td>\n",
       "      <td>...</td>\n",
       "      <td>...</td>\n",
       "      <td>...</td>\n",
       "    </tr>\n",
       "    <tr>\n",
       "      <th>571</th>\n",
       "      <td>23</td>\n",
       "      <td>1</td>\n",
       "      <td>23</td>\n",
       "      <td>0</td>\n",
       "    </tr>\n",
       "    <tr>\n",
       "      <th>572</th>\n",
       "      <td>16</td>\n",
       "      <td>3</td>\n",
       "      <td>86</td>\n",
       "      <td>0</td>\n",
       "    </tr>\n",
       "    <tr>\n",
       "      <th>573</th>\n",
       "      <td>21</td>\n",
       "      <td>2</td>\n",
       "      <td>52</td>\n",
       "      <td>0</td>\n",
       "    </tr>\n",
       "    <tr>\n",
       "      <th>574</th>\n",
       "      <td>39</td>\n",
       "      <td>1</td>\n",
       "      <td>39</td>\n",
       "      <td>0</td>\n",
       "    </tr>\n",
       "    <tr>\n",
       "      <th>575</th>\n",
       "      <td>72</td>\n",
       "      <td>1</td>\n",
       "      <td>72</td>\n",
       "      <td>0</td>\n",
       "    </tr>\n",
       "  </tbody>\n",
       "</table>\n",
       "<p>576 rows × 4 columns</p>\n",
       "</div>"
      ],
      "text/plain": [
       "     Months_since_Last_Donation  Number_of_Donations  \\\n",
       "0                             2                   50   \n",
       "1                             0                   13   \n",
       "2                             1                   16   \n",
       "3                             2                   20   \n",
       "4                             1                   24   \n",
       "..                          ...                  ...   \n",
       "571                          23                    1   \n",
       "572                          16                    3   \n",
       "573                          21                    2   \n",
       "574                          39                    1   \n",
       "575                          72                    1   \n",
       "\n",
       "     Months_since_First_Donation  Made_Donation_in_March_2007  \n",
       "0                             98                            1  \n",
       "1                             28                            1  \n",
       "2                             35                            1  \n",
       "3                             45                            1  \n",
       "4                             77                            0  \n",
       "..                           ...                          ...  \n",
       "571                           23                            0  \n",
       "572                           86                            0  \n",
       "573                           52                            0  \n",
       "574                           39                            0  \n",
       "575                           72                            0  \n",
       "\n",
       "[576 rows x 4 columns]"
      ]
     },
     "execution_count": 291,
     "metadata": {},
     "output_type": "execute_result"
    }
   ],
   "source": [
    "\n",
    "\n",
    "# Rename a column\n",
    "data = data.rename(columns={'Made Donation in March 2007': 'Made_Donation_in_March_2007'})\n",
    "data = data.rename(columns={'Number of Donations': 'Number_of_Donations'})\n",
    "data = data.rename(columns={'Months since First Donation': 'Months_since_First_Donation'})\n",
    "data = data.rename(columns={'Months since Last Donation': 'Months_since_Last_Donation'})\n",
    "data\n"
   ]
  },
  {
   "cell_type": "code",
   "execution_count": 293,
   "id": "f3e1e019-950e-41ec-acd0-1f34c0e43654",
   "metadata": {},
   "outputs": [
    {
     "data": {
      "text/plain": [
       "Months_since_Last_Donation\n",
       "2     140\n",
       "4     115\n",
       "14     60\n",
       "11     60\n",
       "16     48\n",
       "21     37\n",
       "23     36\n",
       "9      17\n",
       "3      10\n",
       "1       9\n",
       "8       5\n",
       "7       5\n",
       "12      5\n",
       "13      4\n",
       "0       4\n",
       "6       4\n",
       "10      3\n",
       "5       2\n",
       "18      2\n",
       "20      1\n",
       "39      1\n",
       "25      1\n",
       "17      1\n",
       "26      1\n",
       "15      1\n",
       "74      1\n",
       "35      1\n",
       "22      1\n",
       "72      1\n",
       "Name: count, dtype: int64"
      ]
     },
     "execution_count": 293,
     "metadata": {},
     "output_type": "execute_result"
    }
   ],
   "source": [
    "data.Months_since_Last_Donation.value_counts()"
   ]
  },
  {
   "cell_type": "code",
   "execution_count": 295,
   "id": "aef2a2fe-68cd-4ef1-9faa-cfb7ad215852",
   "metadata": {},
   "outputs": [
    {
     "data": {
      "text/plain": [
       "7.0"
      ]
     },
     "execution_count": 295,
     "metadata": {},
     "output_type": "execute_result"
    }
   ],
   "source": [
    "np.median(data.Months_since_Last_Donation)"
   ]
  },
  {
   "cell_type": "code",
   "execution_count": 297,
   "id": "7b1a7c7c-dc49-4639-b493-577ee9fb19b0",
   "metadata": {},
   "outputs": [
    {
     "name": "stdout",
     "output_type": "stream",
     "text": [
      "IQR: 12.0\n",
      "q1: 2.0\n",
      "q3: 14.0\n",
      "upper limit: 32.0\n",
      "lower limit: -16.0\n"
     ]
    }
   ],
   "source": [
    "q1 = np.percentile(data.Months_since_Last_Donation, 25)  # First quartile (25th percentile)\n",
    "q3 = np.percentile(data.Months_since_Last_Donation, 75)  # Third quartile (75th percentile)\n",
    "iqr = q3 - q1\n",
    "upper_limit = q3 + 1.5 * iqr\n",
    "lower_limit = q1 - 1.5 * iqr\n",
    "\n",
    "print(\"IQR:\", iqr)\n",
    "print(\"q1:\", q1)\n",
    "print(\"q3:\", q3)\n",
    "print(\"upper limit:\", upper_limit)\n",
    "print(\"lower limit:\", lower_limit)\n"
   ]
  },
  {
   "cell_type": "code",
   "execution_count": 299,
   "id": "48f30b79-0ca9-447f-af6c-a1eb790dda57",
   "metadata": {},
   "outputs": [],
   "source": [
    "data.loc[data['Months_since_Last_Donation']>32,'Months_since_Last_Donation']=np.median(data['Months_since_Last_Donation'])"
   ]
  },
  {
   "cell_type": "code",
   "execution_count": 301,
   "id": "90eea81a-05ae-4647-874b-5a46e0bc8972",
   "metadata": {},
   "outputs": [
    {
     "data": {
      "text/plain": [
       "<Axes: xlabel='Months_since_Last_Donation'>"
      ]
     },
     "execution_count": 301,
     "metadata": {},
     "output_type": "execute_result"
    },
    {
     "data": {
      "image/png": "[encoded data removed]",
      "text/plain": [
       "<Figure size 640x480 with 1 Axes>"
      ]
     },
     "metadata": {},
     "output_type": "display_data"
    }
   ],
   "source": [
    "sns.boxplot(x=data['Months_since_Last_Donation'])"
   ]
  },
  {
   "cell_type": "code",
   "execution_count": 303,
   "id": "f730f91e-8b2d-4a81-9aeb-d2f51e0cc8c7",
   "metadata": {},
   "outputs": [
    {
     "data": {
      "text/plain": [
       "<Axes: xlabel='Number_of_Donations'>"
      ]
     },
     "execution_count": 303,
     "metadata": {},
     "output_type": "execute_result"
    },
    {
     "data": {
      "image/png": "[encoded data removed]",
      "text/plain": [
       "<Figure size 640x480 with 1 Axes>"
      ]
     },
     "metadata": {},
     "output_type": "display_data"
    }
   ],
   "source": [
    "sns.boxplot(x=data['Number_of_Donations'])"
   ]
  },
  {
   "cell_type": "code",
   "execution_count": 305,
   "id": "8966e6cc-a794-4cf2-959b-f93b80a92bb4",
   "metadata": {},
   "outputs": [
    {
     "data": {
      "text/plain": [
       "Number_of_Donations\n",
       "1     118\n",
       "2      85\n",
       "3      68\n",
       "5      53\n",
       "4      49\n",
       "6      42\n",
       "7      32\n",
       "8      27\n",
       "9      20\n",
       "11     16\n",
       "10     11\n",
       "12      9\n",
       "16      8\n",
       "14      8\n",
       "13      7\n",
       "17      4\n",
       "15      3\n",
       "19      2\n",
       "24      2\n",
       "20      2\n",
       "22      2\n",
       "43      1\n",
       "21      1\n",
       "44      1\n",
       "50      1\n",
       "38      1\n",
       "18      1\n",
       "46      1\n",
       "33      1\n",
       "Name: count, dtype: int64"
      ]
     },
     "execution_count": 305,
     "metadata": {},
     "output_type": "execute_result"
    }
   ],
   "source": [
    "data.Number_of_Donations.value_counts()"
   ]
  },
  {
   "cell_type": "code",
   "execution_count": 307,
   "id": "a6783f15-ac3d-4fc9-9f95-461f45fe730c",
   "metadata": {},
   "outputs": [
    {
     "data": {
      "text/plain": [
       "4.0"
      ]
     },
     "execution_count": 307,
     "metadata": {},
     "output_type": "execute_result"
    }
   ],
   "source": [
    "np.median(data.Number_of_Donations)"
   ]
  },
  {
   "cell_type": "code",
   "execution_count": 309,
   "id": "7bd92509-6f15-4285-bc00-1b842c65bc25",
   "metadata": {},
   "outputs": [
    {
     "name": "stdout",
     "output_type": "stream",
     "text": [
      "IQR: 5.0\n",
      "q1: 2.0\n",
      "q3: 7.0\n",
      "upper limit: 14.5\n",
      "lower limit: -5.5\n"
     ]
    }
   ],
   "source": [
    "q1 = np.percentile(data.Number_of_Donations, 25)  # First quartile (25th percentile)\n",
    "q3 = np.percentile(data.Number_of_Donations, 75)  # Third quartile (75th percentile)\n",
    "iqr = q3 - q1\n",
    "upper_limit = q3 + 1.5 * iqr\n",
    "lower_limit = q1 - 1.5 * iqr\n",
    "\n",
    "print(\"IQR:\", iqr)\n",
    "print(\"q1:\", q1)\n",
    "print(\"q3:\", q3)\n",
    "print(\"upper limit:\", upper_limit)\n",
    "print(\"lower limit:\", lower_limit)"
   ]
  },
  {
   "cell_type": "code",
   "execution_count": 311,
   "id": "b3058c8a-6000-4690-aee8-14748743bc61",
   "metadata": {},
   "outputs": [],
   "source": [
    "data.loc[data['Number_of_Donations']>14.5,'Number_of_Donations']=np.median(data['Number_of_Donations'])\n",
    "data.loc[data['Number_of_Donations']<-5.5,'Number_of_Donations']=np.median(data['Number_of_Donations'])"
   ]
  },
  {
   "cell_type": "code",
   "execution_count": 313,
   "id": "80e0ce8e-6041-4e3f-9b90-c4f4843df2a0",
   "metadata": {},
   "outputs": [
    {
     "data": {
      "text/plain": [
       "<Axes: xlabel='Number_of_Donations'>"
      ]
     },
     "execution_count": 313,
     "metadata": {},
     "output_type": "execute_result"
    },
    {
     "data": {
      "image/png": "[encoded data removed]",
      "text/plain": [
       "<Figure size 640x480 with 1 Axes>"
      ]
     },
     "metadata": {},
     "output_type": "display_data"
    }
   ],
   "source": [
    "sns.boxplot(x=data['Number_of_Donations'])"
   ]
  },
  {
   "cell_type": "code",
   "execution_count": 315,
   "id": "3a121058-b712-4736-a6c4-ef9d7b2e5d15",
   "metadata": {},
   "outputs": [
    {
     "data": {
      "text/plain": [
       "<Axes: xlabel='Months_since_First_Donation'>"
      ]
     },
     "execution_count": 315,
     "metadata": {},
     "output_type": "execute_result"
    },
    {
     "data": {
      "image/png": "[encoded data removed]",
      "text/plain": [
       "<Figure size 640x480 with 1 Axes>"
      ]
     },
     "metadata": {},
     "output_type": "display_data"
    }
   ],
   "source": [
    "sns.boxplot(x=data['Months_since_First_Donation'])"
   ]
  },
  {
   "cell_type": "code",
   "execution_count": 317,
   "id": "9aa45e01-e8bf-4d13-ab5c-fa59b18151e2",
   "metadata": {},
   "outputs": [
    {
     "data": {
      "text/plain": [
       "Months_since_First_Donation\n",
       "16    42\n",
       "4     39\n",
       "14    34\n",
       "2     31\n",
       "28    29\n",
       "      ..\n",
       "36     1\n",
       "17     1\n",
       "29     1\n",
       "78     1\n",
       "31     1\n",
       "Name: count, Length: 75, dtype: int64"
      ]
     },
     "execution_count": 317,
     "metadata": {},
     "output_type": "execute_result"
    }
   ],
   "source": [
    "data.Months_since_First_Donation.value_counts()"
   ]
  },
  {
   "cell_type": "code",
   "execution_count": 319,
   "id": "0c428a2e-2d39-4834-8d0c-72ded830746f",
   "metadata": {},
   "outputs": [
    {
     "data": {
      "text/plain": [
       "28.0"
      ]
     },
     "execution_count": 319,
     "metadata": {},
     "output_type": "execute_result"
    }
   ],
   "source": [
    "np.median(data.Months_since_First_Donation)"
   ]
  },
  {
   "cell_type": "code",
   "execution_count": 321,
   "id": "5c40f971-6471-4bda-ab61-c2505cb07e04",
   "metadata": {},
   "outputs": [
    {
     "name": "stdout",
     "output_type": "stream",
     "text": [
      "IQR: 33.25\n",
      "q1: 16.0\n",
      "q3: 49.25\n",
      "upper limit: 99.125\n",
      "lower limit: -33.875\n"
     ]
    }
   ],
   "source": [
    "q1 = np.percentile(data.Months_since_First_Donation, 25)  # First quartile (25th percentile)\n",
    "q3 = np.percentile(data.Months_since_First_Donation, 75)  # Third quartile (75th percentile)\n",
    "iqr = q3 - q1\n",
    "upper_limit = q3 + 1.5 * iqr\n",
    "lower_limit = q1 - 1.5 * iqr\n",
    "\n",
    "print(\"IQR:\", iqr)\n",
    "print(\"q1:\", q1)\n",
    "print(\"q3:\", q3)\n",
    "print(\"upper limit:\", upper_limit)\n",
    "print(\"lower limit:\", lower_limit)"
   ]
  },
  {
   "cell_type": "markdown",
   "id": "7124e8be-7fb4-4756-a82e-a920b5f91ba1",
   "metadata": {},
   "source": [
    "Months_since_First_Donation has no outliers"
   ]
  },
  {
   "cell_type": "code",
   "execution_count": 324,
   "id": "ed38ac1a-69cc-48f8-9c27-c05cdc9fee8c",
   "metadata": {},
   "outputs": [
    {
     "data": {
      "text/plain": [
       "<bound method NDFrame.describe of      Months_since_Last_Donation  Number_of_Donations  \\\n",
       "0                             2                    4   \n",
       "1                             0                   13   \n",
       "2                             1                    4   \n",
       "3                             2                    4   \n",
       "4                             1                    4   \n",
       "..                          ...                  ...   \n",
       "571                          23                    1   \n",
       "572                          16                    3   \n",
       "573                          21                    2   \n",
       "574                           7                    1   \n",
       "575                           7                    1   \n",
       "\n",
       "     Months_since_First_Donation  Made_Donation_in_March_2007  \n",
       "0                             98                            1  \n",
       "1                             28                            1  \n",
       "2                             35                            1  \n",
       "3                             45                            1  \n",
       "4                             77                            0  \n",
       "..                           ...                          ...  \n",
       "571                           23                            0  \n",
       "572                           86                            0  \n",
       "573                           52                            0  \n",
       "574                           39                            0  \n",
       "575                           72                            0  \n",
       "\n",
       "[576 rows x 4 columns]>"
      ]
     },
     "execution_count": 324,
     "metadata": {},
     "output_type": "execute_result"
    }
   ],
   "source": [
    "data.describe"
   ]
  },
  {
   "cell_type": "code",
   "execution_count": 326,
   "id": "72eba12e-51a2-4c57-8378-ffdd6013f32d",
   "metadata": {},
   "outputs": [],
   "source": [
    "data.to_csv('cleaned_blood_donation.csv',index=False)"
   ]
  },
  {
   "cell_type": "code",
   "execution_count": 328,
   "id": "b29f0180-bdc2-40ec-ac70-91214380e076",
   "metadata": {},
   "outputs": [],
   "source": [
    "data=pd.read_csv('cleaned_blood_donation.csv')"
   ]
  },
  {
   "cell_type": "markdown",
   "id": "eec543d7-51bd-42d1-bcb1-f4fa2e94c864",
   "metadata": {},
   "source": [
    "# Derived Data Addition "
   ]
  },
  {
   "cell_type": "code",
   "execution_count": 331,
   "id": "e8eeb714-f5df-4983-9c07-05e584eeb7e4",
   "metadata": {},
   "outputs": [],
   "source": [
    "df = data"
   ]
  },
  {
   "cell_type": "code",
   "execution_count": 333,
   "id": "58cffe81-a778-4455-9c7c-855e117e02a7",
   "metadata": {},
   "outputs": [],
   "source": [
    "df[\"Donation_Frequency\"] = df[\"Number_of_Donations\"] / (df[\"Months_since_First_Donation\"] + 1) # How frequently the person donates on average per month since their first donation.\n",
    "df[\"Gap_First_Last\"] = df[\"Months_since_First_Donation\"] - df[\"Months_since_Last_Donation\"] # How long the donor was active (i.e., the period between their first and last donation).\n",
    "df[\"Recency_Ratio\"] = df[\"Months_since_Last_Donation\"] / (df[\"Months_since_First_Donation\"] + 1) # Proportion of time since their last donation compared to their entire donation timeline."
   ]
  },
  {
   "cell_type": "code",
   "execution_count": 335,
   "id": "ca10af30-4d64-491e-bb6a-f5759d81e124",
   "metadata": {},
   "outputs": [
    {
     "data": {
      "text/html": [
       "<div>\n",
       "<style scoped>\n",
       "    .dataframe tbody tr th:only-of-type {\n",
       "        vertical-align: middle;\n",
       "    }\n",
       "\n",
       "    .dataframe tbody tr th {\n",
       "        vertical-align: top;\n",
       "    }\n",
       "\n",
       "    .dataframe thead th {\n",
       "        text-align: right;\n",
       "    }\n",
       "</style>\n",
       "<table border=\"1\" class=\"dataframe\">\n",
       "  <thead>\n",
       "    <tr style=\"text-align: right;\">\n",
       "      <th></th>\n",
       "      <th>Months_since_Last_Donation</th>\n",
       "      <th>Number_of_Donations</th>\n",
       "      <th>Months_since_First_Donation</th>\n",
       "      <th>Made_Donation_in_March_2007</th>\n",
       "      <th>Donation_Frequency</th>\n",
       "      <th>Gap_First_Last</th>\n",
       "      <th>Recency_Ratio</th>\n",
       "    </tr>\n",
       "  </thead>\n",
       "  <tbody>\n",
       "    <tr>\n",
       "      <th>0</th>\n",
       "      <td>2</td>\n",
       "      <td>4</td>\n",
       "      <td>98</td>\n",
       "      <td>1</td>\n",
       "      <td>0.040404</td>\n",
       "      <td>96</td>\n",
       "      <td>0.020202</td>\n",
       "    </tr>\n",
       "    <tr>\n",
       "      <th>1</th>\n",
       "      <td>0</td>\n",
       "      <td>13</td>\n",
       "      <td>28</td>\n",
       "      <td>1</td>\n",
       "      <td>0.448276</td>\n",
       "      <td>28</td>\n",
       "      <td>0.000000</td>\n",
       "    </tr>\n",
       "    <tr>\n",
       "      <th>2</th>\n",
       "      <td>1</td>\n",
       "      <td>4</td>\n",
       "      <td>35</td>\n",
       "      <td>1</td>\n",
       "      <td>0.111111</td>\n",
       "      <td>34</td>\n",
       "      <td>0.027778</td>\n",
       "    </tr>\n",
       "    <tr>\n",
       "      <th>3</th>\n",
       "      <td>2</td>\n",
       "      <td>4</td>\n",
       "      <td>45</td>\n",
       "      <td>1</td>\n",
       "      <td>0.086957</td>\n",
       "      <td>43</td>\n",
       "      <td>0.043478</td>\n",
       "    </tr>\n",
       "    <tr>\n",
       "      <th>4</th>\n",
       "      <td>1</td>\n",
       "      <td>4</td>\n",
       "      <td>77</td>\n",
       "      <td>0</td>\n",
       "      <td>0.051282</td>\n",
       "      <td>76</td>\n",
       "      <td>0.012821</td>\n",
       "    </tr>\n",
       "    <tr>\n",
       "      <th>...</th>\n",
       "      <td>...</td>\n",
       "      <td>...</td>\n",
       "      <td>...</td>\n",
       "      <td>...</td>\n",
       "      <td>...</td>\n",
       "      <td>...</td>\n",
       "      <td>...</td>\n",
       "    </tr>\n",
       "    <tr>\n",
       "      <th>571</th>\n",
       "      <td>23</td>\n",
       "      <td>1</td>\n",
       "      <td>23</td>\n",
       "      <td>0</td>\n",
       "      <td>0.041667</td>\n",
       "      <td>0</td>\n",
       "      <td>0.958333</td>\n",
       "    </tr>\n",
       "    <tr>\n",
       "      <th>572</th>\n",
       "      <td>16</td>\n",
       "      <td>3</td>\n",
       "      <td>86</td>\n",
       "      <td>0</td>\n",
       "      <td>0.034483</td>\n",
       "      <td>70</td>\n",
       "      <td>0.183908</td>\n",
       "    </tr>\n",
       "    <tr>\n",
       "      <th>573</th>\n",
       "      <td>21</td>\n",
       "      <td>2</td>\n",
       "      <td>52</td>\n",
       "      <td>0</td>\n",
       "      <td>0.037736</td>\n",
       "      <td>31</td>\n",
       "      <td>0.396226</td>\n",
       "    </tr>\n",
       "    <tr>\n",
       "      <th>574</th>\n",
       "      <td>7</td>\n",
       "      <td>1</td>\n",
       "      <td>39</td>\n",
       "      <td>0</td>\n",
       "      <td>0.025000</td>\n",
       "      <td>32</td>\n",
       "      <td>0.175000</td>\n",
       "    </tr>\n",
       "    <tr>\n",
       "      <th>575</th>\n",
       "      <td>7</td>\n",
       "      <td>1</td>\n",
       "      <td>72</td>\n",
       "      <td>0</td>\n",
       "      <td>0.013699</td>\n",
       "      <td>65</td>\n",
       "      <td>0.095890</td>\n",
       "    </tr>\n",
       "  </tbody>\n",
       "</table>\n",
       "<p>576 rows × 7 columns</p>\n",
       "</div>"
      ],
      "text/plain": [
       "     Months_since_Last_Donation  Number_of_Donations  \\\n",
       "0                             2                    4   \n",
       "1                             0                   13   \n",
       "2                             1                    4   \n",
       "3                             2                    4   \n",
       "4                             1                    4   \n",
       "..                          ...                  ...   \n",
       "571                          23                    1   \n",
       "572                          16                    3   \n",
       "573                          21                    2   \n",
       "574                           7                    1   \n",
       "575                           7                    1   \n",
       "\n",
       "     Months_since_First_Donation  Made_Donation_in_March_2007  \\\n",
       "0                             98                            1   \n",
       "1                             28                            1   \n",
       "2                             35                            1   \n",
       "3                             45                            1   \n",
       "4                             77                            0   \n",
       "..                           ...                          ...   \n",
       "571                           23                            0   \n",
       "572                           86                            0   \n",
       "573                           52                            0   \n",
       "574                           39                            0   \n",
       "575                           72                            0   \n",
       "\n",
       "     Donation_Frequency  Gap_First_Last  Recency_Ratio  \n",
       "0              0.040404              96       0.020202  \n",
       "1              0.448276              28       0.000000  \n",
       "2              0.111111              34       0.027778  \n",
       "3              0.086957              43       0.043478  \n",
       "4              0.051282              76       0.012821  \n",
       "..                  ...             ...            ...  \n",
       "571            0.041667               0       0.958333  \n",
       "572            0.034483              70       0.183908  \n",
       "573            0.037736              31       0.396226  \n",
       "574            0.025000              32       0.175000  \n",
       "575            0.013699              65       0.095890  \n",
       "\n",
       "[576 rows x 7 columns]"
      ]
     },
     "execution_count": 335,
     "metadata": {},
     "output_type": "execute_result"
    }
   ],
   "source": [
    "df"
   ]
  },
  {
   "cell_type": "markdown",
   "id": "8b91e8e6-bdc4-41ff-b1fd-ac7f5134dd55",
   "metadata": {},
   "source": [
    "#  Data Analysis Report  \n",
    "##  Project: Blood Donation Prediction\n",
    "\n",
    "---\n",
    "\n",
    "###  Objective  \n",
    "To analyze historical blood donation data to uncover patterns in donor behavior and prepare the dataset for predictive modeling.\n",
    "\n",
    "---\n",
    "\n",
    "###  Dataset Overview    \n",
    "- **Records:** 576  \n",
    "- **Original Features:**  \n",
    "  - `Unnamed: 0` (Index)   \n",
    "  - `Months_since_Last_Donation`  \n",
    "  - `Number_of_Donations`  \n",
    "  - `Total_Volume_Donated (c.c.)`   \n",
    "  - `Months_since_First_Donation`  \n",
    "  - `Made_Donation_in_March_2007` *(Target)*\n",
    "\n",
    "---\n",
    "\n",
    "### 🔍 Data Cleaning & Preprocessing  \n",
    "- Removed unnecessary columns:  \n",
    "  - `Unnamed: 0`  \n",
    "  - `Total_Volume_Donated (c.c.)`  \n",
    "- No missing values found  \n",
    "\n",
    "---\n",
    "\n",
    "###  Exploratory Data Analysis (EDA)\n",
    "\n",
    "#### 🔸 Distribution Plots\n",
    "- `Months_since_Last_Donation` and `Number_of_Donations` show right-skewed distributions.\n",
    "- Donors are mostly infrequent but have varying donation histories.\n",
    "\n",
    "#### 🔸 Boxplots\n",
    "- Mild outliers found in `Number_of_Donations`, retained for modeling.\n",
    "\n",
    "#### 🔸 Countplot (Target Distribution)\n",
    "- Reveals the Class imbalance in dataset.\n",
    "- Higher Number of Donors did not donate in March 2007 compared to those who did donate.\n",
    "- This indicates, dataset is skewed towards non-donors, which is important to consider while building a prediction model.\n",
    "→  needs balancing before training.\n",
    "\n",
    "#### 🔸 Correlation Heatmap\n",
    "- Moderate positive correlation between `Number_of_Donations` and `Months_since_First_Donation`\n",
    "- Mild negative correlation between `Months_since_Last_Donation` and target variable\n",
    "---\n",
    " -  **Outlier treatment:**  \n",
    " - Outliers in `Months_since_Last_Donation` and `Number_of_Donations`  \n",
    " - **Replaced with median** using IQR method\n",
    "\n",
    "---\n",
    "\n",
    "###  Feature Engineering\n",
    "\n",
    "Derived features created to enhance model understanding:\n",
    "\n",
    "1. **`Donation_Frequency`**  \n",
    "   - Formula: `Number_of_Donations / (Months_since_First_Donation + 1)`  \n",
    "   - Captures donor activeness.\n",
    "\n",
    "2. **`Gap_First_Last`**  \n",
    "   - Formula: `Months_since_First_Donation - Months_since_Last_Donation`  \n",
    "   - Measures total span of donation history.\n",
    "\n",
    "3. **`Recency_Ratio`**  \n",
    "   - Formula: `Months_since_Last_Donation / (Months_since_First_Donation + 1)`  \n",
    "   - Indicates how recent the last donation was.\n",
    "\n",
    "---\n",
    "\n",
    "###  Summary\n",
    "\n",
    "- Dataset is clean, structured, and treated for outliers\n",
    "- Exploratory analysis identified donation frequency and recency as key signals.\n",
    "- Three domain-specific features were engineered to improve model performance.\n",
    "\n",
    "The dataset is now ready for scaling, balancing, and predictive modeling.\n",
    "\n"
   ]
  },
  {
   "cell_type": "code",
   "execution_count": 337,
   "id": "321ba102-f639-42c4-92b4-1dd570bde139",
   "metadata": {},
   "outputs": [],
   "source": [
    "features = [\"Months_since_Last_Donation\", \"Number_of_Donations\", \"Months_since_First_Donation\",\n",
    "            \"Donation_Frequency\", \"Gap_First_Last\", \"Recency_Ratio\"]"
   ]
  },
  {
   "cell_type": "code",
   "execution_count": 339,
   "id": "9301054e-af1c-40ab-8e8b-27a10aa404ac",
   "metadata": {},
   "outputs": [],
   "source": [
    "X = df[features]\n",
    "y = df[\"Made_Donation_in_March_2007\"]"
   ]
  },
  {
   "cell_type": "markdown",
   "id": "26029bab-6aed-4bbb-b6c6-06c24798f179",
   "metadata": {},
   "source": [
    "# KNN Model Creation"
   ]
  },
  {
   "cell_type": "code",
   "execution_count": 342,
   "id": "78731918-971d-45e0-9a50-eb2a315cf855",
   "metadata": {},
   "outputs": [],
   "source": [
    "from sklearn.preprocessing import StandardScaler\n",
    "\n",
    "scaler = StandardScaler()\n",
    "X_scaled = scaler.fit_transform(X)"
   ]
  },
  {
   "cell_type": "code",
   "execution_count": 398,
   "id": "457947e7-c921-4b71-984f-ae8cc49e9ad3",
   "metadata": {},
   "outputs": [
    {
     "name": "stdout",
     "output_type": "stream",
     "text": [
      "Accuracy: 0.7327586206896551\n"
     ]
    }
   ],
   "source": [
    "# Accuracy varies each time the test/train split as data count is low and imbalanced \n",
    "from sklearn.model_selection import train_test_split\n",
    "from sklearn.neighbors import KNeighborsClassifier\n",
    "\n",
    "X_train, X_test, y_train, y_test = train_test_split(X_scaled, y, test_size=0.2)\n",
    "knn = KNeighborsClassifier( metric = 'manhattan', n_neighbors = 3, weights = 'uniform')\n",
    "knn.fit(X_train, y_train)\n",
    "print(\"Accuracy:\", knn.score(X_test, y_test))"
   ]
  },
  {
   "cell_type": "code",
   "execution_count": 400,
   "id": "e1e5c6f6-32d9-4b39-a2ee-42a1f33ab881",
   "metadata": {},
   "outputs": [],
   "source": [
    "y_pred = knn.predict(X_test)"
   ]
  },
  {
   "cell_type": "code",
   "execution_count": 402,
   "id": "053fa1e3-2fc9-499f-a458-c70d1cedaaae",
   "metadata": {},
   "outputs": [
    {
     "name": "stdout",
     "output_type": "stream",
     "text": [
      "Accuracy: 0.7327586206896551\n",
      "Confusion Matrix:\n",
      " [[71 12]\n",
      " [19 14]]\n",
      "Classification Report:\n",
      "               precision    recall  f1-score   support\n",
      "\n",
      "           0       0.79      0.86      0.82        83\n",
      "           1       0.54      0.42      0.47        33\n",
      "\n",
      "    accuracy                           0.73       116\n",
      "   macro avg       0.66      0.64      0.65       116\n",
      "weighted avg       0.72      0.73      0.72       116\n",
      "\n"
     ]
    }
   ],
   "source": [
    "# Evaluate the model\n",
    "from sklearn.metrics import accuracy_score, confusion_matrix, classification_report\n",
    "\n",
    "print(\"Accuracy:\", accuracy_score(y_test, y_pred))\n",
    "print(\"Confusion Matrix:\\n\", confusion_matrix(y_test, y_pred))\n",
    "print(\"Classification Report:\\n\", classification_report(y_test, y_pred))"
   ]
  },
  {
   "cell_type": "raw",
   "id": "e19d6894-eb14-4482-a65c-966cca60c159",
   "metadata": {},
   "source": [
    "# SMOTE"
   ]
  },
  {
   "cell_type": "code",
   "execution_count": 404,
   "id": "5d52db0b-ecf9-4746-b81c-6f686f6d762d",
   "metadata": {},
   "outputs": [],
   "source": [
    "from imblearn.over_sampling import SMOTE\n",
    "smote = SMOTE()\n",
    "X_resampled, y_resampled = smote.fit_resample(X_train, y_train)"
   ]
  },
  {
   "cell_type": "code",
   "execution_count": 406,
   "id": "f233785f-129e-490f-bbae-2206928659a0",
   "metadata": {},
   "outputs": [
    {
     "name": "stdout",
     "output_type": "stream",
     "text": [
      "Accuracy: 0.7758620689655172\n"
     ]
    }
   ],
   "source": [
    "knn2 = KNeighborsClassifier(metric = 'manhattan', n_neighbors = 20, weights = 'uniform')\n",
    "knn2.fit(X_resampled, y_resampled)\n",
    "print(\"Accuracy:\", knn2.score(X_test, y_test))"
   ]
  },
  {
   "cell_type": "code",
   "execution_count": 408,
   "id": "2b216e7c-46be-4a38-bbfe-8d4972357f5d",
   "metadata": {},
   "outputs": [],
   "source": [
    "y_pred2 = knn2.predict(X_test)"
   ]
  },
  {
   "cell_type": "code",
   "execution_count": 410,
   "id": "e1f1f13c-b1b9-4a05-bd90-3b62e1d906c7",
   "metadata": {},
   "outputs": [
    {
     "name": "stdout",
     "output_type": "stream",
     "text": [
      "Accuracy: 0.7758620689655172\n",
      "Confusion Matrix:\n",
      " [[65 18]\n",
      " [ 8 25]]\n",
      "Classification Report:\n",
      "               precision    recall  f1-score   support\n",
      "\n",
      "           0       0.89      0.78      0.83        83\n",
      "           1       0.58      0.76      0.66        33\n",
      "\n",
      "    accuracy                           0.78       116\n",
      "   macro avg       0.74      0.77      0.75       116\n",
      "weighted avg       0.80      0.78      0.78       116\n",
      "\n"
     ]
    }
   ],
   "source": [
    "# Step 7: Evaluate the model\n",
    "print(\"Accuracy:\", accuracy_score(y_test, y_pred2))\n",
    "print(\"Confusion Matrix:\\n\", confusion_matrix(y_test, y_pred2))\n",
    "print(\"Classification Report:\\n\", classification_report(y_test, y_pred2))"
   ]
  },
  {
   "cell_type": "code",
   "execution_count": 412,
   "id": "7faf132a-043a-41a9-bbde-489d4e6931e0",
   "metadata": {},
   "outputs": [],
   "source": [
    "from sklearn.model_selection import GridSearchCV\n",
    "from sklearn.neighbors import KNeighborsClassifier"
   ]
  },
  {
   "cell_type": "code",
   "execution_count": 424,
   "id": "b44659dc-99d5-491d-bb9d-3c4e3437189d",
   "metadata": {},
   "outputs": [
    {
     "name": "stdout",
     "output_type": "stream",
     "text": [
      "Fitting 5 folds for each of 112 candidates, totalling 560 fits\n"
     ]
    },
    {
     "data": {
      "text/html": [
       "<style>#sk-container-id-5 {\n",
       "  /* Definition of color scheme common for light and dark mode */\n",
       "  --sklearn-color-text: black;\n",
       "  --sklearn-color-line: gray;\n",
       "  /* Definition of color scheme for unfitted estimators */\n",
       "  --sklearn-color-unfitted-level-0: #fff5e6;\n",
       "  --sklearn-color-unfitted-level-1: #f6e4d2;\n",
       "  --sklearn-color-unfitted-level-2: #ffe0b3;\n",
       "  --sklearn-color-unfitted-level-3: chocolate;\n",
       "  /* Definition of color scheme for fitted estimators */\n",
       "  --sklearn-color-fitted-level-0: #f0f8ff;\n",
       "  --sklearn-color-fitted-level-1: #d4ebff;\n",
       "  --sklearn-color-fitted-level-2: #b3dbfd;\n",
       "  --sklearn-color-fitted-level-3: cornflowerblue;\n",
       "\n",
       "  /* Specific color for light theme */\n",
       "  --sklearn-color-text-on-default-background: var(--sg-text-color, var(--theme-code-foreground, var(--jp-content-font-color1, black)));\n",
       "  --sklearn-color-background: var(--sg-background-color, var(--theme-background, var(--jp-layout-color0, white)));\n",
       "  --sklearn-color-border-box: var(--sg-text-color, var(--theme-code-foreground, var(--jp-content-font-color1, black)));\n",
       "  --sklearn-color-icon: #696969;\n",
       "\n",
       "  @media (prefers-color-scheme: dark) {\n",
       "    /* Redefinition of color scheme for dark theme */\n",
       "    --sklearn-color-text-on-default-background: var(--sg-text-color, var(--theme-code-foreground, var(--jp-content-font-color1, white)));\n",
       "    --sklearn-color-background: var(--sg-background-color, var(--theme-background, var(--jp-layout-color0, #111)));\n",
       "    --sklearn-color-border-box: var(--sg-text-color, var(--theme-code-foreground, var(--jp-content-font-color1, white)));\n",
       "    --sklearn-color-icon: #878787;\n",
       "  }\n",
       "}\n",
       "\n",
       "#sk-container-id-5 {\n",
       "  color: var(--sklearn-color-text);\n",
       "}\n",
       "\n",
       "#sk-container-id-5 pre {\n",
       "  padding: 0;\n",
       "}\n",
       "\n",
       "#sk-container-id-5 input.sk-hidden--visually {\n",
       "  border: 0;\n",
       "  clip: rect(1px 1px 1px 1px);\n",
       "  clip: rect(1px, 1px, 1px, 1px);\n",
       "  height: 1px;\n",
       "  margin: -1px;\n",
       "  overflow: hidden;\n",
       "  padding: 0;\n",
       "  position: absolute;\n",
       "  width: 1px;\n",
       "}\n",
       "\n",
       "#sk-container-id-5 div.sk-dashed-wrapped {\n",
       "  border: 1px dashed var(--sklearn-color-line);\n",
       "  margin: 0 0.4em 0.5em 0.4em;\n",
       "  box-sizing: border-box;\n",
       "  padding-bottom: 0.4em;\n",
       "  background-color: var(--sklearn-color-background);\n",
       "}\n",
       "\n",
       "#sk-container-id-5 div.sk-container {\n",
       "  /* jupyter's `normalize.less` sets `[hidden] { display: none; }`\n",
       "     but bootstrap.min.css set `[hidden] { display: none !important; }`\n",
       "     so we also need the `!important` here to be able to override the\n",
       "     default hidden behavior on the sphinx rendered scikit-learn.org.\n",
       "     See: https://github.com/scikit-learn/scikit-learn/issues/21755 */\n",
       "  display: inline-block !important;\n",
       "  position: relative;\n",
       "}\n",
       "\n",
       "#sk-container-id-5 div.sk-text-repr-fallback {\n",
       "  display: none;\n",
       "}\n",
       "\n",
       "div.sk-parallel-item,\n",
       "div.sk-serial,\n",
       "div.sk-item {\n",
       "  /* draw centered vertical line to link estimators */\n",
       "  background-image: linear-gradient(var(--sklearn-color-text-on-default-background), var(--sklearn-color-text-on-default-background));\n",
       "  background-size: 2px 100%;\n",
       "  background-repeat: no-repeat;\n",
       "  background-position: center center;\n",
       "}\n",
       "\n",
       "/* Parallel-specific style estimator block */\n",
       "\n",
       "#sk-container-id-5 div.sk-parallel-item::after {\n",
       "  content: \"\";\n",
       "  width: 100%;\n",
       "  border-bottom: 2px solid var(--sklearn-color-text-on-default-background);\n",
       "  flex-grow: 1;\n",
       "}\n",
       "\n",
       "#sk-container-id-5 div.sk-parallel {\n",
       "  display: flex;\n",
       "  align-items: stretch;\n",
       "  justify-content: center;\n",
       "  background-color: var(--sklearn-color-background);\n",
       "  position: relative;\n",
       "}\n",
       "\n",
       "#sk-container-id-5 div.sk-parallel-item {\n",
       "  display: flex;\n",
       "  flex-direction: column;\n",
       "}\n",
       "\n",
       "#sk-container-id-5 div.sk-parallel-item:first-child::after {\n",
       "  align-self: flex-end;\n",
       "  width: 50%;\n",
       "}\n",
       "\n",
       "#sk-container-id-5 div.sk-parallel-item:last-child::after {\n",
       "  align-self: flex-start;\n",
       "  width: 50%;\n",
       "}\n",
       "\n",
       "#sk-container-id-5 div.sk-parallel-item:only-child::after {\n",
       "  width: 0;\n",
       "}\n",
       "\n",
       "/* Serial-specific style estimator block */\n",
       "\n",
       "#sk-container-id-5 div.sk-serial {\n",
       "  display: flex;\n",
       "  flex-direction: column;\n",
       "  align-items: center;\n",
       "  background-color: var(--sklearn-color-background);\n",
       "  padding-right: 1em;\n",
       "  padding-left: 1em;\n",
       "}\n",
       "\n",
       "\n",
       "/* Toggleable style: style used for estimator/Pipeline/ColumnTransformer box that is\n",
       "clickable and can be expanded/collapsed.\n",
       "- Pipeline and ColumnTransformer use this feature and define the default style\n",
       "- Estimators will overwrite some part of the style using the `sk-estimator` class\n",
       "*/\n",
       "\n",
       "/* Pipeline and ColumnTransformer style (default) */\n",
       "\n",
       "#sk-container-id-5 div.sk-toggleable {\n",
       "  /* Default theme specific background. It is overwritten whether we have a\n",
       "  specific estimator or a Pipeline/ColumnTransformer */\n",
       "  background-color: var(--sklearn-color-background);\n",
       "}\n",
       "\n",
       "/* Toggleable label */\n",
       "#sk-container-id-5 label.sk-toggleable__label {\n",
       "  cursor: pointer;\n",
       "  display: block;\n",
       "  width: 100%;\n",
       "  margin-bottom: 0;\n",
       "  padding: 0.5em;\n",
       "  box-sizing: border-box;\n",
       "  text-align: center;\n",
       "}\n",
       "\n",
       "#sk-container-id-5 label.sk-toggleable__label-arrow:before {\n",
       "  /* Arrow on the left of the label */\n",
       "  content: \"▸\";\n",
       "  float: left;\n",
       "  margin-right: 0.25em;\n",
       "  color: var(--sklearn-color-icon);\n",
       "}\n",
       "\n",
       "#sk-container-id-5 label.sk-toggleable__label-arrow:hover:before {\n",
       "  color: var(--sklearn-color-text);\n",
       "}\n",
       "\n",
       "/* Toggleable content - dropdown */\n",
       "\n",
       "#sk-container-id-5 div.sk-toggleable__content {\n",
       "  max-height: 0;\n",
       "  max-width: 0;\n",
       "  overflow: hidden;\n",
       "  text-align: left;\n",
       "  /* unfitted */\n",
       "  background-color: var(--sklearn-color-unfitted-level-0);\n",
       "}\n",
       "\n",
       "#sk-container-id-5 div.sk-toggleable__content.fitted {\n",
       "  /* fitted */\n",
       "  background-color: var(--sklearn-color-fitted-level-0);\n",
       "}\n",
       "\n",
       "#sk-container-id-5 div.sk-toggleable__content pre {\n",
       "  margin: 0.2em;\n",
       "  border-radius: 0.25em;\n",
       "  color: var(--sklearn-color-text);\n",
       "  /* unfitted */\n",
       "  background-color: var(--sklearn-color-unfitted-level-0);\n",
       "}\n",
       "\n",
       "#sk-container-id-5 div.sk-toggleable__content.fitted pre {\n",
       "  /* unfitted */\n",
       "  background-color: var(--sklearn-color-fitted-level-0);\n",
       "}\n",
       "\n",
       "#sk-container-id-5 input.sk-toggleable__control:checked~div.sk-toggleable__content {\n",
       "  /* Expand drop-down */\n",
       "  max-height: 200px;\n",
       "  max-width: 100%;\n",
       "  overflow: auto;\n",
       "}\n",
       "\n",
       "#sk-container-id-5 input.sk-toggleable__control:checked~label.sk-toggleable__label-arrow:before {\n",
       "  content: \"▾\";\n",
       "}\n",
       "\n",
       "/* Pipeline/ColumnTransformer-specific style */\n",
       "\n",
       "#sk-container-id-5 div.sk-label input.sk-toggleable__control:checked~label.sk-toggleable__label {\n",
       "  color: var(--sklearn-color-text);\n",
       "  background-color: var(--sklearn-color-unfitted-level-2);\n",
       "}\n",
       "\n",
       "#sk-container-id-5 div.sk-label.fitted input.sk-toggleable__control:checked~label.sk-toggleable__label {\n",
       "  background-color: var(--sklearn-color-fitted-level-2);\n",
       "}\n",
       "\n",
       "/* Estimator-specific style */\n",
       "\n",
       "/* Colorize estimator box */\n",
       "#sk-container-id-5 div.sk-estimator input.sk-toggleable__control:checked~label.sk-toggleable__label {\n",
       "  /* unfitted */\n",
       "  background-color: var(--sklearn-color-unfitted-level-2);\n",
       "}\n",
       "\n",
       "#sk-container-id-5 div.sk-estimator.fitted input.sk-toggleable__control:checked~label.sk-toggleable__label {\n",
       "  /* fitted */\n",
       "  background-color: var(--sklearn-color-fitted-level-2);\n",
       "}\n",
       "\n",
       "#sk-container-id-5 div.sk-label label.sk-toggleable__label,\n",
       "#sk-container-id-5 div.sk-label label {\n",
       "  /* The background is the default theme color */\n",
       "  color: var(--sklearn-color-text-on-default-background);\n",
       "}\n",
       "\n",
       "/* On hover, darken the color of the background */\n",
       "#sk-container-id-5 div.sk-label:hover label.sk-toggleable__label {\n",
       "  color: var(--sklearn-color-text);\n",
       "  background-color: var(--sklearn-color-unfitted-level-2);\n",
       "}\n",
       "\n",
       "/* Label box, darken color on hover, fitted */\n",
       "#sk-container-id-5 div.sk-label.fitted:hover label.sk-toggleable__label.fitted {\n",
       "  color: var(--sklearn-color-text);\n",
       "  background-color: var(--sklearn-color-fitted-level-2);\n",
       "}\n",
       "\n",
       "/* Estimator label */\n",
       "\n",
       "#sk-container-id-5 div.sk-label label {\n",
       "  font-family: monospace;\n",
       "  font-weight: bold;\n",
       "  display: inline-block;\n",
       "  line-height: 1.2em;\n",
       "}\n",
       "\n",
       "#sk-container-id-5 div.sk-label-container {\n",
       "  text-align: center;\n",
       "}\n",
       "\n",
       "/* Estimator-specific */\n",
       "#sk-container-id-5 div.sk-estimator {\n",
       "  font-family: monospace;\n",
       "  border: 1px dotted var(--sklearn-color-border-box);\n",
       "  border-radius: 0.25em;\n",
       "  box-sizing: border-box;\n",
       "  margin-bottom: 0.5em;\n",
       "  /* unfitted */\n",
       "  background-color: var(--sklearn-color-unfitted-level-0);\n",
       "}\n",
       "\n",
       "#sk-container-id-5 div.sk-estimator.fitted {\n",
       "  /* fitted */\n",
       "  background-color: var(--sklearn-color-fitted-level-0);\n",
       "}\n",
       "\n",
       "/* on hover */\n",
       "#sk-container-id-5 div.sk-estimator:hover {\n",
       "  /* unfitted */\n",
       "  background-color: var(--sklearn-color-unfitted-level-2);\n",
       "}\n",
       "\n",
       "#sk-container-id-5 div.sk-estimator.fitted:hover {\n",
       "  /* fitted */\n",
       "  background-color: var(--sklearn-color-fitted-level-2);\n",
       "}\n",
       "\n",
       "/* Specification for estimator info (e.g. \"i\" and \"?\") */\n",
       "\n",
       "/* Common style for \"i\" and \"?\" */\n",
       "\n",
       ".sk-estimator-doc-link,\n",
       "a:link.sk-estimator-doc-link,\n",
       "a:visited.sk-estimator-doc-link {\n",
       "  float: right;\n",
       "  font-size: smaller;\n",
       "  line-height: 1em;\n",
       "  font-family: monospace;\n",
       "  background-color: var(--sklearn-color-background);\n",
       "  border-radius: 1em;\n",
       "  height: 1em;\n",
       "  width: 1em;\n",
       "  text-decoration: none !important;\n",
       "  margin-left: 1ex;\n",
       "  /* unfitted */\n",
       "  border: var(--sklearn-color-unfitted-level-1) 1pt solid;\n",
       "  color: var(--sklearn-color-unfitted-level-1);\n",
       "}\n",
       "\n",
       ".sk-estimator-doc-link.fitted,\n",
       "a:link.sk-estimator-doc-link.fitted,\n",
       "a:visited.sk-estimator-doc-link.fitted {\n",
       "  /* fitted */\n",
       "  border: var(--sklearn-color-fitted-level-1) 1pt solid;\n",
       "  color: var(--sklearn-color-fitted-level-1);\n",
       "}\n",
       "\n",
       "/* On hover */\n",
       "div.sk-estimator:hover .sk-estimator-doc-link:hover,\n",
       ".sk-estimator-doc-link:hover,\n",
       "div.sk-label-container:hover .sk-estimator-doc-link:hover,\n",
       ".sk-estimator-doc-link:hover {\n",
       "  /* unfitted */\n",
       "  background-color: var(--sklearn-color-unfitted-level-3);\n",
       "  color: var(--sklearn-color-background);\n",
       "  text-decoration: none;\n",
       "}\n",
       "\n",
       "div.sk-estimator.fitted:hover .sk-estimator-doc-link.fitted:hover,\n",
       ".sk-estimator-doc-link.fitted:hover,\n",
       "div.sk-label-container:hover .sk-estimator-doc-link.fitted:hover,\n",
       ".sk-estimator-doc-link.fitted:hover {\n",
       "  /* fitted */\n",
       "  background-color: var(--sklearn-color-fitted-level-3);\n",
       "  color: var(--sklearn-color-background);\n",
       "  text-decoration: none;\n",
       "}\n",
       "\n",
       "/* Span, style for the box shown on hovering the info icon */\n",
       ".sk-estimator-doc-link span {\n",
       "  display: none;\n",
       "  z-index: 9999;\n",
       "  position: relative;\n",
       "  font-weight: normal;\n",
       "  right: .2ex;\n",
       "  padding: .5ex;\n",
       "  margin: .5ex;\n",
       "  width: min-content;\n",
       "  min-width: 20ex;\n",
       "  max-width: 50ex;\n",
       "  color: var(--sklearn-color-text);\n",
       "  box-shadow: 2pt 2pt 4pt #999;\n",
       "  /* unfitted */\n",
       "  background: var(--sklearn-color-unfitted-level-0);\n",
       "  border: .5pt solid var(--sklearn-color-unfitted-level-3);\n",
       "}\n",
       "\n",
       ".sk-estimator-doc-link.fitted span {\n",
       "  /* fitted */\n",
       "  background: var(--sklearn-color-fitted-level-0);\n",
       "  border: var(--sklearn-color-fitted-level-3);\n",
       "}\n",
       "\n",
       ".sk-estimator-doc-link:hover span {\n",
       "  display: block;\n",
       "}\n",
       "\n",
       "/* \"?\"-specific style due to the `<a>` HTML tag */\n",
       "\n",
       "#sk-container-id-5 a.estimator_doc_link {\n",
       "  float: right;\n",
       "  font-size: 1rem;\n",
       "  line-height: 1em;\n",
       "  font-family: monospace;\n",
       "  background-color: var(--sklearn-color-background);\n",
       "  border-radius: 1rem;\n",
       "  height: 1rem;\n",
       "  width: 1rem;\n",
       "  text-decoration: none;\n",
       "  /* unfitted */\n",
       "  color: var(--sklearn-color-unfitted-level-1);\n",
       "  border: var(--sklearn-color-unfitted-level-1) 1pt solid;\n",
       "}\n",
       "\n",
       "#sk-container-id-5 a.estimator_doc_link.fitted {\n",
       "  /* fitted */\n",
       "  border: var(--sklearn-color-fitted-level-1) 1pt solid;\n",
       "  color: var(--sklearn-color-fitted-level-1);\n",
       "}\n",
       "\n",
       "/* On hover */\n",
       "#sk-container-id-5 a.estimator_doc_link:hover {\n",
       "  /* unfitted */\n",
       "  background-color: var(--sklearn-color-unfitted-level-3);\n",
       "  color: var(--sklearn-color-background);\n",
       "  text-decoration: none;\n",
       "}\n",
       "\n",
       "#sk-container-id-5 a.estimator_doc_link.fitted:hover {\n",
       "  /* fitted */\n",
       "  background-color: var(--sklearn-color-fitted-level-3);\n",
       "}\n",
       "</style><div id=\"sk-container-id-5\" class=\"sk-top-container\"><div class=\"sk-text-repr-fallback\"><pre>GridSearchCV(cv=5, estimator=KNeighborsClassifier(), n_jobs=-1,\n",
       "             param_grid={&#x27;metric&#x27;: [&#x27;euclidean&#x27;, &#x27;manhattan&#x27;],\n",
       "                         &#x27;n_neighbors&#x27;: [3, 4, 5, 6, 7, 8, 9, 10, 11, 12, 13,\n",
       "                                         14, 15, 16, 17, 18, 19, 20, 21, 22, 23,\n",
       "                                         24, 25, 26, 27, 28, 29, 30],\n",
       "                         &#x27;weights&#x27;: [&#x27;uniform&#x27;, &#x27;distance&#x27;]},\n",
       "             scoring=&#x27;accuracy&#x27;, verbose=1)</pre><b>In a Jupyter environment, please rerun this cell to show the HTML representation or trust the notebook. <br />On GitHub, the HTML representation is unable to render, please try loading this page with nbviewer.org.</b></div><div class=\"sk-container\" hidden><div class=\"sk-item sk-dashed-wrapped\"><div class=\"sk-label-container\"><div class=\"sk-label fitted sk-toggleable\"><input class=\"sk-toggleable__control sk-hidden--visually\" id=\"sk-estimator-id-13\" type=\"checkbox\" ><label for=\"sk-estimator-id-13\" class=\"sk-toggleable__label fitted sk-toggleable__label-arrow fitted\">&nbsp;&nbsp;GridSearchCV<a class=\"sk-estimator-doc-link fitted\" rel=\"noreferrer\" target=\"_blank\" href=\"https://scikit-learn.org/1.4/modules/generated/sklearn.model_selection.GridSearchCV.html\">?<span>Documentation for GridSearchCV</span></a><span class=\"sk-estimator-doc-link fitted\">i<span>Fitted</span></span></label><div class=\"sk-toggleable__content fitted\"><pre>GridSearchCV(cv=5, estimator=KNeighborsClassifier(), n_jobs=-1,\n",
       "             param_grid={&#x27;metric&#x27;: [&#x27;euclidean&#x27;, &#x27;manhattan&#x27;],\n",
       "                         &#x27;n_neighbors&#x27;: [3, 4, 5, 6, 7, 8, 9, 10, 11, 12, 13,\n",
       "                                         14, 15, 16, 17, 18, 19, 20, 21, 22, 23,\n",
       "                                         24, 25, 26, 27, 28, 29, 30],\n",
       "                         &#x27;weights&#x27;: [&#x27;uniform&#x27;, &#x27;distance&#x27;]},\n",
       "             scoring=&#x27;accuracy&#x27;, verbose=1)</pre></div> </div></div><div class=\"sk-parallel\"><div class=\"sk-parallel-item\"><div class=\"sk-item\"><div class=\"sk-label-container\"><div class=\"sk-label fitted sk-toggleable\"><input class=\"sk-toggleable__control sk-hidden--visually\" id=\"sk-estimator-id-14\" type=\"checkbox\" ><label for=\"sk-estimator-id-14\" class=\"sk-toggleable__label fitted sk-toggleable__label-arrow fitted\">estimator: KNeighborsClassifier</label><div class=\"sk-toggleable__content fitted\"><pre>KNeighborsClassifier()</pre></div> </div></div><div class=\"sk-serial\"><div class=\"sk-item\"><div class=\"sk-estimator fitted sk-toggleable\"><input class=\"sk-toggleable__control sk-hidden--visually\" id=\"sk-estimator-id-15\" type=\"checkbox\" ><label for=\"sk-estimator-id-15\" class=\"sk-toggleable__label fitted sk-toggleable__label-arrow fitted\">&nbsp;KNeighborsClassifier<a class=\"sk-estimator-doc-link fitted\" rel=\"noreferrer\" target=\"_blank\" href=\"https://scikit-learn.org/1.4/modules/generated/sklearn.neighbors.KNeighborsClassifier.html\">?<span>Documentation for KNeighborsClassifier</span></a></label><div class=\"sk-toggleable__content fitted\"><pre>KNeighborsClassifier()</pre></div> </div></div></div></div></div></div></div></div></div>"
      ],
      "text/plain": [
       "GridSearchCV(cv=5, estimator=KNeighborsClassifier(), n_jobs=-1,\n",
       "             param_grid={'metric': ['euclidean', 'manhattan'],\n",
       "                         'n_neighbors': [3, 4, 5, 6, 7, 8, 9, 10, 11, 12, 13,\n",
       "                                         14, 15, 16, 17, 18, 19, 20, 21, 22, 23,\n",
       "                                         24, 25, 26, 27, 28, 29, 30],\n",
       "                         'weights': ['uniform', 'distance']},\n",
       "             scoring='accuracy', verbose=1)"
      ]
     },
     "execution_count": 424,
     "metadata": {},
     "output_type": "execute_result"
    }
   ],
   "source": [
    "param_grid = {\n",
    "    'n_neighbors': [3, 4, 5, 6, 7, 8, 9, 10,\n",
    " 11, 12, 13, 14, 15, 16, 17, 18, 19, 20,\n",
    " 21, 22, 23, 24, 25, 26, 27, 28, 29, 30],\n",
    "    'weights': ['uniform', 'distance'],\n",
    "    'metric': ['euclidean', 'manhattan']\n",
    "}\n",
    "\n",
    "# Initialize KNN\n",
    "knn4 = KNeighborsClassifier()\n",
    "\n",
    "# GridSearch with F1 score as scoring metric (good for imbalance)\n",
    "grid_search = GridSearchCV(estimator=knn4,\n",
    "                           param_grid=param_grid,\n",
    "                           scoring='accuracy',\n",
    "                           cv=5,\n",
    "                           n_jobs=-1,\n",
    "                           verbose=1)\n",
    "# Fit on training data\n",
    "grid_search.fit(X_resampled, y_resampled)"
   ]
  },
  {
   "cell_type": "code",
   "execution_count": 425,
   "id": "5803bce9-8dac-444f-9d00-a696f4cde6f3",
   "metadata": {},
   "outputs": [
    {
     "name": "stdout",
     "output_type": "stream",
     "text": [
      "Best parameters: {'metric': 'manhattan', 'n_neighbors': 4, 'weights': 'distance'}\n",
      "Best Accuracy: 0.7957746478873239\n"
     ]
    }
   ],
   "source": [
    "print(\"Best parameters:\", grid_search.best_params_)\n",
    "print(\"Best Accuracy:\", grid_search.best_score_)"
   ]
  },
  {
   "cell_type": "code",
   "execution_count": 426,
   "id": "f5419c29-6d2b-4e8a-a203-2ff1ed68b86e",
   "metadata": {},
   "outputs": [
    {
     "name": "stdout",
     "output_type": "stream",
     "text": [
      "[[63 20]\n",
      " [16 17]]\n",
      "              precision    recall  f1-score   support\n",
      "\n",
      "           0       0.80      0.76      0.78        83\n",
      "           1       0.46      0.52      0.49        33\n",
      "\n",
      "    accuracy                           0.69       116\n",
      "   macro avg       0.63      0.64      0.63       116\n",
      "weighted avg       0.70      0.69      0.69       116\n",
      "\n"
     ]
    }
   ],
   "source": [
    "from sklearn.metrics import classification_report, confusion_matrix\n",
    "\n",
    "best_knn = grid_search.best_estimator_\n",
    "y_pred4 = best_knn.predict(X_test)\n",
    "\n",
    "print(confusion_matrix(y_test, y_pred4))\n",
    "print(classification_report(y_test, y_pred4))"
   ]
  },
  {
   "cell_type": "code",
   "execution_count": 430,
   "id": "4289283c-eb7c-4b95-b192-25d9057b8334",
   "metadata": {},
   "outputs": [
    {
     "name": "stdout",
     "output_type": "stream",
     "text": [
      "Best accuracy: 0.7957746478873239\n",
      "Best parameters: {'metric': 'manhattan', 'n_neighbors': 4, 'weights': 'distance'}\n",
      "Test Accuracy: 0.6896551724137931\n"
     ]
    }
   ],
   "source": [
    "print(\"Best accuracy:\", grid_search.best_score_)\n",
    "print(\"Best parameters:\", grid_search.best_params_)\n",
    "\n",
    "# Best model\n",
    "best_knn = grid_search.best_estimator_\n",
    "\n",
    "# Evaluate on test data\n",
    "from sklearn.metrics import accuracy_score\n",
    "y_pred4 = best_knn.predict(X_test)\n",
    "print(\"Test Accuracy:\", accuracy_score(y_test, y_pred4))"
   ]
  },
  {
   "cell_type": "code",
   "execution_count": 434,
   "id": "5eab4e41-1517-4f7d-a266-62efcc0bad0e",
   "metadata": {},
   "outputs": [
    {
     "data": {
      "text/plain": [
       "['scaler.pkl']"
      ]
     },
     "execution_count": 434,
     "metadata": {},
     "output_type": "execute_result"
    }
   ],
   "source": [
    "import joblib\n",
    "\n",
    "# Save the model\n",
    "joblib.dump(knn2, \"final_knn_model.pkl\")\n",
    "joblib.dump(scaler, \"scaler.pkl\")"
   ]
  },
  {
   "cell_type": "markdown",
   "id": "1bba9abe-15bc-43b3-a2e4-7589b5a52eb2",
   "metadata": {},
   "source": [
    "# KNN Test with sample data"
   ]
  },
  {
   "cell_type": "code",
   "execution_count": 599,
   "id": "75bce4b6-00ec-4083-8b6c-cc887a0c8d82",
   "metadata": {},
   "outputs": [],
   "source": [
    "# 🧾 Example input\n",
    "new_data = pd.DataFrame([[3, 25, 75]], columns=[\n",
    "    'Months_since_Last_Donation',\n",
    "    'Number_of_Donations',\n",
    "    'Months_since_First_Donation'\n",
    "])\n",
    "\n",
    "# ➕ Add derived features\n",
    "new_data['Donation_Frequency'] = new_data['Number_of_Donations'] / new_data['Months_since_First_Donation']\n",
    "new_data['Gap_First_Last'] = new_data['Months_since_First_Donation'] - new_data['Months_since_Last_Donation']\n",
    "new_data['Recency_Ratio'] = new_data['Months_since_Last_Donation'] / new_data['Months_since_First_Donation']"
   ]
  },
  {
   "cell_type": "code",
   "execution_count": 601,
   "id": "4c7cf669-5dea-4110-a680-06764e064f2d",
   "metadata": {},
   "outputs": [],
   "source": [
    "model_test = joblib.load('final_knn_model.pkl')\n",
    "scaler_test = joblib.load('scaler.pkl')"
   ]
  },
  {
   "cell_type": "code",
   "execution_count": 603,
   "id": "2d2eba7a-fcdd-4529-847d-8551b5a2723f",
   "metadata": {},
   "outputs": [
    {
     "name": "stdout",
     "output_type": "stream",
     "text": [
      "Prediction: [1]\n"
     ]
    }
   ],
   "source": [
    "\n",
    "new_data_scaled = scaler_test.transform(new_data)\n",
    "\n",
    "# Predict\n",
    "prediction = model_test.predict(new_data_scaled)\n",
    "print(\"Prediction:\", prediction)\n"
   ]
  },
  {
   "cell_type": "code",
   "execution_count": 443,
   "id": "baf0faf9-ed28-4652-b367-e8464b8fe4b4",
   "metadata": {},
   "outputs": [
    {
     "data": {
      "text/html": [
       "<div>\n",
       "<style scoped>\n",
       "    .dataframe tbody tr th:only-of-type {\n",
       "        vertical-align: middle;\n",
       "    }\n",
       "\n",
       "    .dataframe tbody tr th {\n",
       "        vertical-align: top;\n",
       "    }\n",
       "\n",
       "    .dataframe thead th {\n",
       "        text-align: right;\n",
       "    }\n",
       "</style>\n",
       "<table border=\"1\" class=\"dataframe\">\n",
       "  <thead>\n",
       "    <tr style=\"text-align: right;\">\n",
       "      <th></th>\n",
       "      <th>Months_since_Last_Donation</th>\n",
       "      <th>Number_of_Donations</th>\n",
       "      <th>Months_since_First_Donation</th>\n",
       "      <th>Made_Donation_in_March_2007</th>\n",
       "      <th>Donation_Frequency</th>\n",
       "      <th>Gap_First_Last</th>\n",
       "      <th>Recency_Ratio</th>\n",
       "    </tr>\n",
       "  </thead>\n",
       "  <tbody>\n",
       "    <tr>\n",
       "      <th>0</th>\n",
       "      <td>2</td>\n",
       "      <td>4</td>\n",
       "      <td>98</td>\n",
       "      <td>1</td>\n",
       "      <td>0.040404</td>\n",
       "      <td>96</td>\n",
       "      <td>0.020202</td>\n",
       "    </tr>\n",
       "    <tr>\n",
       "      <th>1</th>\n",
       "      <td>0</td>\n",
       "      <td>13</td>\n",
       "      <td>28</td>\n",
       "      <td>1</td>\n",
       "      <td>0.448276</td>\n",
       "      <td>28</td>\n",
       "      <td>0.000000</td>\n",
       "    </tr>\n",
       "    <tr>\n",
       "      <th>2</th>\n",
       "      <td>1</td>\n",
       "      <td>4</td>\n",
       "      <td>35</td>\n",
       "      <td>1</td>\n",
       "      <td>0.111111</td>\n",
       "      <td>34</td>\n",
       "      <td>0.027778</td>\n",
       "    </tr>\n",
       "    <tr>\n",
       "      <th>3</th>\n",
       "      <td>2</td>\n",
       "      <td>4</td>\n",
       "      <td>45</td>\n",
       "      <td>1</td>\n",
       "      <td>0.086957</td>\n",
       "      <td>43</td>\n",
       "      <td>0.043478</td>\n",
       "    </tr>\n",
       "    <tr>\n",
       "      <th>4</th>\n",
       "      <td>1</td>\n",
       "      <td>4</td>\n",
       "      <td>77</td>\n",
       "      <td>0</td>\n",
       "      <td>0.051282</td>\n",
       "      <td>76</td>\n",
       "      <td>0.012821</td>\n",
       "    </tr>\n",
       "    <tr>\n",
       "      <th>...</th>\n",
       "      <td>...</td>\n",
       "      <td>...</td>\n",
       "      <td>...</td>\n",
       "      <td>...</td>\n",
       "      <td>...</td>\n",
       "      <td>...</td>\n",
       "      <td>...</td>\n",
       "    </tr>\n",
       "    <tr>\n",
       "      <th>571</th>\n",
       "      <td>23</td>\n",
       "      <td>1</td>\n",
       "      <td>23</td>\n",
       "      <td>0</td>\n",
       "      <td>0.041667</td>\n",
       "      <td>0</td>\n",
       "      <td>0.958333</td>\n",
       "    </tr>\n",
       "    <tr>\n",
       "      <th>572</th>\n",
       "      <td>16</td>\n",
       "      <td>3</td>\n",
       "      <td>86</td>\n",
       "      <td>0</td>\n",
       "      <td>0.034483</td>\n",
       "      <td>70</td>\n",
       "      <td>0.183908</td>\n",
       "    </tr>\n",
       "    <tr>\n",
       "      <th>573</th>\n",
       "      <td>21</td>\n",
       "      <td>2</td>\n",
       "      <td>52</td>\n",
       "      <td>0</td>\n",
       "      <td>0.037736</td>\n",
       "      <td>31</td>\n",
       "      <td>0.396226</td>\n",
       "    </tr>\n",
       "    <tr>\n",
       "      <th>574</th>\n",
       "      <td>7</td>\n",
       "      <td>1</td>\n",
       "      <td>39</td>\n",
       "      <td>0</td>\n",
       "      <td>0.025000</td>\n",
       "      <td>32</td>\n",
       "      <td>0.175000</td>\n",
       "    </tr>\n",
       "    <tr>\n",
       "      <th>575</th>\n",
       "      <td>7</td>\n",
       "      <td>1</td>\n",
       "      <td>72</td>\n",
       "      <td>0</td>\n",
       "      <td>0.013699</td>\n",
       "      <td>65</td>\n",
       "      <td>0.095890</td>\n",
       "    </tr>\n",
       "  </tbody>\n",
       "</table>\n",
       "<p>576 rows × 7 columns</p>\n",
       "</div>"
      ],
      "text/plain": [
       "     Months_since_Last_Donation  Number_of_Donations  \\\n",
       "0                             2                    4   \n",
       "1                             0                   13   \n",
       "2                             1                    4   \n",
       "3                             2                    4   \n",
       "4                             1                    4   \n",
       "..                          ...                  ...   \n",
       "571                          23                    1   \n",
       "572                          16                    3   \n",
       "573                          21                    2   \n",
       "574                           7                    1   \n",
       "575                           7                    1   \n",
       "\n",
       "     Months_since_First_Donation  Made_Donation_in_March_2007  \\\n",
       "0                             98                            1   \n",
       "1                             28                            1   \n",
       "2                             35                            1   \n",
       "3                             45                            1   \n",
       "4                             77                            0   \n",
       "..                           ...                          ...   \n",
       "571                           23                            0   \n",
       "572                           86                            0   \n",
       "573                           52                            0   \n",
       "574                           39                            0   \n",
       "575                           72                            0   \n",
       "\n",
       "     Donation_Frequency  Gap_First_Last  Recency_Ratio  \n",
       "0              0.040404              96       0.020202  \n",
       "1              0.448276              28       0.000000  \n",
       "2              0.111111              34       0.027778  \n",
       "3              0.086957              43       0.043478  \n",
       "4              0.051282              76       0.012821  \n",
       "..                  ...             ...            ...  \n",
       "571            0.041667               0       0.958333  \n",
       "572            0.034483              70       0.183908  \n",
       "573            0.037736              31       0.396226  \n",
       "574            0.025000              32       0.175000  \n",
       "575            0.013699              65       0.095890  \n",
       "\n",
       "[576 rows x 7 columns]"
      ]
     },
     "execution_count": 443,
     "metadata": {},
     "output_type": "execute_result"
    }
   ],
   "source": [
    "df"
   ]
  },
  {
   "cell_type": "markdown",
   "id": "2edf01eb-59d4-482d-851d-9c3407b6d40f",
   "metadata": {},
   "source": [
    "# Logistic Regression"
   ]
  },
  {
   "cell_type": "code",
   "execution_count": 454,
   "id": "f56be550-40ef-4fc9-8013-8d9cb39b8196",
   "metadata": {},
   "outputs": [
    {
     "name": "stdout",
     "output_type": "stream",
     "text": [
      "Accuracy: 0.64\n",
      "ROC AUC Score: 0.729\n",
      "\n",
      "Classification Report:\n",
      "              precision    recall  f1-score   support\n",
      "\n",
      "           0       0.86      0.60      0.70        62\n",
      "           1       0.40      0.74      0.52        23\n",
      "\n",
      "    accuracy                           0.64        85\n",
      "   macro avg       0.63      0.67      0.61        85\n",
      "weighted avg       0.74      0.64      0.66        85\n",
      "\n"
     ]
    }
   ],
   "source": [
    "import pandas as pd\n",
    "from sklearn.model_selection import train_test_split\n",
    "from sklearn.preprocessing import StandardScaler\n",
    "from sklearn.linear_model import LogisticRegression\n",
    "from sklearn.metrics import classification_report, accuracy_score, roc_auc_score\n",
    "\n",
    "# Load dataset\n",
    "df = pd.read_csv(\"cleaned_blood_donation.csv\")\n",
    "\n",
    "df = df.drop_duplicates()\n",
    "\n",
    "# Feature engineering\n",
    "df[\"Donation_Frequency\"] = df[\"Number_of_Donations\"] / (df[\"Months_since_First_Donation\"] + 1) \n",
    "df[\"Gap_First_Last\"] = df[\"Months_since_First_Donation\"] - df[\"Months_since_Last_Donation\"] \n",
    "df[\"Recency_Ratio\"] = df[\"Months_since_Last_Donation\"] / (df[\"Months_since_First_Donation\"] + 1)\n",
    "\n",
    "# Define features and target\n",
    "X = df.drop(\"Made_Donation_in_March_2007\", axis=1)\n",
    "y = df[\"Made_Donation_in_March_2007\"]\n",
    "\n",
    "# Train-test split\n",
    "X_train, X_test, y_train, y_test = train_test_split(\n",
    "    X, y, test_size=0.2, stratify=y, random_state=42\n",
    ")\n",
    "\n",
    "# Feature scaling\n",
    "scaler = StandardScaler()\n",
    "X_train_scaled = scaler.fit_transform(X_train)\n",
    "X_test_scaled = scaler.transform(X_test)\n",
    "\n",
    "# Train logistic regression with class_weight\n",
    "Lg_model = LogisticRegression(class_weight='balanced', random_state=42, solver='liblinear')\n",
    "Lg_model.fit(X_train_scaled, y_train)\n",
    "\n",
    "# Predict\n",
    "y_pred = Lg_model.predict(X_test_scaled)\n",
    "y_prob = Lg_model.predict_proba(X_test_scaled)[:, 1]\n",
    "\n",
    "# Evaluate\n",
    "accuracy = accuracy_score(y_test, y_pred)\n",
    "roc_auc = roc_auc_score(y_test, y_prob)\n",
    "\n",
    "print(f\"Accuracy: {accuracy:.2f}\")\n",
    "print(f\"ROC AUC Score: {roc_auc:.3f}\")\n",
    "print(\"\\nClassification Report:\")\n",
    "print(classification_report(y_test, y_pred))\n"
   ]
  },
  {
   "cell_type": "code",
   "execution_count": 464,
   "id": "92fe47b0-44dd-4dd8-81ed-07abdc2137c6",
   "metadata": {},
   "outputs": [
    {
     "data": {
      "text/plain": [
       "<module 'matplotlib.pyplot' from 'C:\\\\Users\\\\jblse\\\\anaconda3\\\\Lib\\\\site-packages\\\\matplotlib\\\\pyplot.py'>"
      ]
     },
     "execution_count": 464,
     "metadata": {},
     "output_type": "execute_result"
    }
   ],
   "source": [
    "import importlib\n",
    "import matplotlib.pyplot as plt\n",
    "importlib.reload(plt)"
   ]
  },
  {
   "cell_type": "code",
   "execution_count": 468,
   "id": "d26c6c7b-1c99-4b93-8c97-0e818a50b54c",
   "metadata": {},
   "outputs": [
    {
     "data": {
      "image/png": "[encoded data removed]",
      "text/plain": [
       "<Figure size 800x600 with 1 Axes>"
      ]
     },
     "metadata": {},
     "output_type": "display_data"
    }
   ],
   "source": [
    "# AUC-ROC Curve Plot\n",
    "import matplotlib.pyplot as plt\n",
    "from sklearn.metrics import roc_curve, auc\n",
    "\n",
    "# Calculate ROC curve\n",
    "fpr, tpr, thresholds = roc_curve(y_test, y_prob)\n",
    "roc_auc = auc(fpr, tpr)\n",
    "\n",
    "# Plot ROC curve\n",
    "plt.figure(figsize=(8, 6))\n",
    "plt.plot(fpr, tpr, color='darkorange', lw=2, label=f'ROC Curve (AUC = {roc_auc:.2f})')\n",
    "plt.plot([0, 1], [0, 1], color='navy', linestyle='--')\n",
    "plt.xlabel('False Positive Rate')\n",
    "plt.ylabel('True Positive Rate')\n",
    "plt.title('AUC-ROC Curve for Logistic Regression')\n",
    "plt.legend(loc='lower right')\n",
    "plt.grid()\n",
    "plt.show()\n"
   ]
  },
  {
   "cell_type": "code",
   "execution_count": 466,
   "id": "ef3e0c08-cd2b-412e-b026-5ab0bcb112a4",
   "metadata": {},
   "outputs": [
    {
     "data": {
      "image/png": "[encoded data removed]",
      "text/plain": [
       "<Figure size 640x480 with 2 Axes>"
      ]
     },
     "metadata": {},
     "output_type": "display_data"
    }
   ],
   "source": [
    "# Confusion matrix plot:\n",
    "from sklearn.metrics import confusion_matrix, ConfusionMatrixDisplay\n",
    "import matplotlib.pyplot as plt\n",
    "# Compute confusion matrix\n",
    "cm = confusion_matrix(y_test, y_pred)\n",
    "\n",
    "# Plot confusion matrix\n",
    "disp = ConfusionMatrixDisplay(confusion_matrix=cm, display_labels=Lg_model.classes_)\n",
    "disp.plot(cmap='Blues', values_format='d')\n",
    "plt.title(\"Confusion Matrix\")\n",
    "plt.grid(False)\n",
    "plt.show()"
   ]
  },
  {
   "cell_type": "markdown",
   "id": "ab2ce129-9cbc-4ce7-9a6b-c479df180c71",
   "metadata": {},
   "source": [
    "### Conclusion: This logistic regression model is:\n",
    "1. Accurate enough (64%)\n",
    "2. Good at catching donors (74% recall)\n",
    "3. Interpretable and well-balanced\n",
    "4. The use of class_weight and engineered features clearly helped improve performance."
   ]
  },
  {
   "cell_type": "code",
   "execution_count": 471,
   "id": "332d09ea-d00a-4e8e-9ffc-f875e1b29caa",
   "metadata": {},
   "outputs": [
    {
     "data": {
      "text/plain": [
       "['logistic_model.pkl']"
      ]
     },
     "execution_count": 471,
     "metadata": {},
     "output_type": "execute_result"
    }
   ],
   "source": [
    "import joblib\n",
    "# Save the logistic regression model\n",
    "joblib.dump(Lg_model, 'logistic_model.pkl')"
   ]
  },
  {
   "cell_type": "markdown",
   "id": "6f9c1aff-440e-4b03-b8f6-e0cc9f6efd16",
   "metadata": {},
   "source": [
    "### Logistic Regression on Test sample"
   ]
  },
  {
   "cell_type": "code",
   "execution_count": 595,
   "id": "028047da-2e9a-4d87-a207-d0dce7a23944",
   "metadata": {},
   "outputs": [],
   "source": [
    "import pandas as pd\n",
    "\n",
    "# New sample input values (change as needed)\n",
    "sample_data = pd.DataFrame({\n",
    "    \"Months_since_Last_Donation\": [3],\n",
    "    \"Number_of_Donations\": [25],\n",
    "    \"Months_since_First_Donation\": [75]\n",
    "})\n",
    "\n",
    "# Feature engineering (must match your training process)\n",
    "sample_data[\"Donation_Frequency\"] = sample_data[\"Number_of_Donations\"] / (sample_data[\"Months_since_First_Donation\"] + 1)\n",
    "sample_data[\"Gap_First_Last\"] = sample_data[\"Months_since_First_Donation\"] - sample_data[\"Months_since_Last_Donation\"]\n",
    "sample_data[\"Recency_Ratio\"] = sample_data[\"Months_since_Last_Donation\"] / (sample_data[\"Months_since_First_Donation\"] + 1)\n"
   ]
  },
  {
   "cell_type": "code",
   "execution_count": 597,
   "id": "ba42426b-9ab6-4e38-987a-7d539bb9d3dd",
   "metadata": {},
   "outputs": [
    {
     "name": "stdout",
     "output_type": "stream",
     "text": [
      "Predicted Class: 1\n",
      "Probability of Donation: 0.86\n"
     ]
    }
   ],
   "source": [
    "# Scale the input using the existing scaler\n",
    "sample_scaled = scaler.transform(sample_data)\n",
    "\n",
    "# Predict using trained logistic regression model\n",
    "predicted_class = Lg_model.predict(sample_scaled)\n",
    "predicted_prob = Lg_model.predict_proba(sample_scaled)[0][1]\n",
    "\n",
    "# Output results\n",
    "print(f\"Predicted Class: {predicted_class[0]}\")\n",
    "print(f\"Probability of Donation: {predicted_prob:.2f}\")"
   ]
  },
  {
   "cell_type": "markdown",
   "id": "d6645511-9595-4802-a9d3-fed3f396baaf",
   "metadata": {},
   "source": [
    "## XGBOOST"
   ]
  },
  {
   "cell_type": "code",
   "execution_count": 484,
   "id": "a16229d4-0526-4188-8c64-c28171396589",
   "metadata": {},
   "outputs": [
    {
     "name": "stdout",
     "output_type": "stream",
     "text": [
      "Accuracy: 0.72\n",
      "ROC AUC Score: 0.659\n",
      "\n",
      "Classification Report:\n",
      "              precision    recall  f1-score   support\n",
      "\n",
      "           0       0.83      0.81      0.82        88\n",
      "           1       0.43      0.46      0.45        28\n",
      "\n",
      "    accuracy                           0.72       116\n",
      "   macro avg       0.63      0.64      0.63       116\n",
      "weighted avg       0.73      0.72      0.73       116\n",
      "\n"
     ]
    }
   ],
   "source": [
    "import pandas as pd\n",
    "from sklearn.model_selection import train_test_split\n",
    "from sklearn.preprocessing import StandardScaler\n",
    "from xgboost import XGBClassifier\n",
    "from sklearn.metrics import classification_report, accuracy_score, roc_auc_score\n",
    "\n",
    "# Load dataset\n",
    "df = pd.read_csv(\"cleaned_blood_donation.csv\")\n",
    "\n",
    "# Feature engineering\n",
    "df[\"Donation_Frequency\"] = df[\"Number_of_Donations\"] / (df[\"Months_since_First_Donation\"] + 1) \n",
    "df[\"Gap_First_Last\"] = df[\"Months_since_First_Donation\"] - df[\"Months_since_Last_Donation\"] \n",
    "df[\"Recency_Ratio\"] = df[\"Months_since_Last_Donation\"] / (df[\"Months_since_First_Donation\"] + 1)\n",
    "\n",
    "# Features and target\n",
    "X = df.drop(\"Made_Donation_in_March_2007\", axis=1)\n",
    "y = df[\"Made_Donation_in_March_2007\"]\n",
    "\n",
    "# Train-test split\n",
    "X_train, X_test, y_train, y_test = train_test_split(\n",
    "    X, y, test_size=0.2, stratify=y, random_state=42\n",
    ")\n",
    "\n",
    "# Feature scaling (XGBoost doesn't require it, but you already scaled earlier, so we keep it consistent)\n",
    "scaler = StandardScaler()\n",
    "X_train_scaled = scaler.fit_transform(X_train)\n",
    "X_test_scaled = scaler.transform(X_test)\n",
    "\n",
    "# Handle class imbalance using scale_pos_weight\n",
    "scale_weight = y_train.value_counts()[0] / y_train.value_counts()[1]\n",
    "\n",
    "# Train XGBoost model\n",
    "xgb_model = XGBClassifier(\n",
    "    scale_pos_weight=scale_weight,\n",
    "    eval_metric='logloss',\n",
    "    random_state=42\n",
    ")\n",
    "\n",
    "xgb_model.fit(X_train_scaled, y_train)\n",
    "\n",
    "# Predict\n",
    "y_pred = xgb_model.predict(X_test_scaled)\n",
    "y_prob = xgb_model.predict_proba(X_test_scaled)[:, 1]\n",
    "\n",
    "# Evaluate\n",
    "accuracy = accuracy_score(y_test, y_pred)\n",
    "roc_auc = roc_auc_score(y_test, y_prob)\n",
    "\n",
    "print(f\"Accuracy: {accuracy:.2f}\")\n",
    "print(f\"ROC AUC Score: {roc_auc:.3f}\")\n",
    "print(\"\\nClassification Report:\")\n",
    "print(classification_report(y_test, y_pred))"
   ]
  },
  {
   "cell_type": "markdown",
   "id": "ec8bc728-d046-4c61-8da8-40ee907fe2a1",
   "metadata": {},
   "source": [
    "#### Tuning following parameters:"
   ]
  },
  {
   "cell_type": "markdown",
   "id": "30879193-9a00-4738-94ff-f89e22cb2d96",
   "metadata": {},
   "source": [
    "| Parameter       | Meaning                        | Values to Try  |\n",
    "| --------------- | ------------------------------ | -------------- |\n",
    "| `n_estimators`  | Number of trees                | 50, 100, 200   |\n",
    "| `max_depth`     | Tree depth                     | 3, 5, 7        |\n",
    "| `learning_rate` | Step size/shrinkage            | 0.01, 0.1, 0.2 |\n",
    "| `subsample`     | Fraction of training data used | 0.8, 1         |"
   ]
  },
  {
   "cell_type": "markdown",
   "id": "b29789aa-41f6-4ec4-b90d-da65dc568618",
   "metadata": {},
   "source": [
    "#### Additions:\n",
    "1. scale_pos_weight to handle class imbalance\n",
    "2. roc_auc or recall as scoring metric"
   ]
  },
  {
   "cell_type": "code",
   "execution_count": 489,
   "id": "b6dbc36e-8259-4133-bbf4-dba63ac9cc6d",
   "metadata": {},
   "outputs": [
    {
     "name": "stdout",
     "output_type": "stream",
     "text": [
      "Fitting 3 folds for each of 54 candidates, totalling 162 fits\n",
      "Best Hyperparameters: {'learning_rate': 0.01, 'max_depth': 3, 'n_estimators': 50, 'subsample': 1}\n",
      "\n",
      "Tuned Model Performance:\n",
      "Accuracy: 0.64\n",
      "Recall: 0.39\n",
      "ROC AUC Score: 0.642\n",
      "\n",
      "Classification Report:\n",
      "              precision    recall  f1-score   support\n",
      "\n",
      "           0       0.79      0.72      0.75        88\n",
      "           1       0.31      0.39      0.34        28\n",
      "\n",
      "    accuracy                           0.64       116\n",
      "   macro avg       0.55      0.55      0.55       116\n",
      "weighted avg       0.67      0.64      0.65       116\n",
      "\n"
     ]
    }
   ],
   "source": [
    "from sklearn.model_selection import GridSearchCV\n",
    "from xgboost import XGBClassifier\n",
    "\n",
    "# Set scale_pos_weight based on imbalance\n",
    "scale_weight = y_train.value_counts()[0] / y_train.value_counts()[1]\n",
    "\n",
    "# Define base model\n",
    "xgb = XGBClassifier(\n",
    "    eval_metric='logloss',\n",
    "    scale_pos_weight=scale_weight,\n",
    "    random_state=42\n",
    ")\n",
    "\n",
    "# Define hyperparameter grid\n",
    "param_grid = {\n",
    "    'n_estimators': [50, 100, 200],\n",
    "    'max_depth': [3, 5, 7],\n",
    "    'learning_rate': [0.01, 0.1, 0.2],\n",
    "    'subsample': [0.8, 1]\n",
    "}\n",
    "\n",
    "# Grid Search to maximize recall\n",
    "grid_search = GridSearchCV(\n",
    "    estimator=xgb,\n",
    "    param_grid=param_grid,\n",
    "    scoring='recall',\n",
    "    cv=3,\n",
    "    n_jobs=-1,\n",
    "    verbose=1\n",
    ")\n",
    "\n",
    "# Fit grid search\n",
    "grid_search.fit(X_train_scaled, y_train)\n",
    "\n",
    "# Best model\n",
    "best_xgb = grid_search.best_estimator_\n",
    "print(\"Best Hyperparameters:\", grid_search.best_params_)\n",
    "\n",
    "# Predict and evaluate\n",
    "y_pred_tuned = best_xgb.predict(X_test_scaled)\n",
    "y_prob_tuned = best_xgb.predict_proba(X_test_scaled)[:, 1]\n",
    "\n",
    "from sklearn.metrics import accuracy_score, recall_score, classification_report, roc_auc_score\n",
    "\n",
    "print(\"\\nTuned Model Performance:\")\n",
    "print(f\"Accuracy: {accuracy_score(y_test, y_pred_tuned):.2f}\")\n",
    "print(f\"Recall: {recall_score(y_test, y_pred_tuned):.2f}\")\n",
    "print(f\"ROC AUC Score: {roc_auc_score(y_test, y_prob_tuned):.3f}\")\n",
    "print(\"\\nClassification Report:\")\n",
    "print(classification_report(y_test, y_pred_tuned))"
   ]
  },
  {
   "cell_type": "code",
   "execution_count": 491,
   "id": "5e3d3101-af1b-4d3d-abc9-6d9b3ba92fb5",
   "metadata": {},
   "outputs": [
    {
     "data": {
      "text/plain": [
       "['xgboost_blood_donation_model.pkl']"
      ]
     },
     "execution_count": 491,
     "metadata": {},
     "output_type": "execute_result"
    }
   ],
   "source": [
    "import joblib\n",
    "# Save the trained XGBoost model\n",
    "joblib.dump(best_xgb, 'xgboost_blood_donation_model.pkl')"
   ]
  },
  {
   "cell_type": "markdown",
   "id": "53da553b-9026-4ab4-8097-336cf47e9cc7",
   "metadata": {},
   "source": [
    "## XGB Test with sample data"
   ]
  },
  {
   "cell_type": "code",
   "execution_count": 591,
   "id": "35b610af-ac15-4c80-aa30-f719b1fd226f",
   "metadata": {},
   "outputs": [],
   "source": [
    "# New sample input values (change as needed)\n",
    "sample_data = pd.DataFrame({\n",
    "    \"Months_since_Last_Donation\": [3],\n",
    "    \"Number_of_Donations\": [25],\n",
    "    \"Months_since_First_Donation\": [75]\n",
    "})\n",
    "\n",
    "# Feature engineering (must match your training process)\n",
    "sample_data[\"Donation_Frequency\"] = sample_data[\"Number_of_Donations\"] / (sample_data[\"Months_since_First_Donation\"] + 1)\n",
    "sample_data[\"Gap_First_Last\"] = sample_data[\"Months_since_First_Donation\"] - sample_data[\"Months_since_Last_Donation\"]\n",
    "sample_data[\"Recency_Ratio\"] = sample_data[\"Months_since_Last_Donation\"] / (sample_data[\"Months_since_First_Donation\"] + 1)\n"
   ]
  },
  {
   "cell_type": "code",
   "execution_count": 593,
   "id": "c63feb8d-a0eb-404a-87d6-bf84345b174c",
   "metadata": {},
   "outputs": [
    {
     "name": "stdout",
     "output_type": "stream",
     "text": [
      "Predicted Class: 1\n",
      "Probability of Donation: 0.51\n"
     ]
    }
   ],
   "source": [
    "# scale the data\n",
    "sample_scaled = scaler.transform(sample_data)\n",
    "# Predict with XGBoost\n",
    "predicted_class = best_xgb.predict(sample_scaled)\n",
    "predicted_prob = best_xgb.predict_proba(sample_scaled)[0][1]\n",
    "\n",
    "print(f\"Predicted Class: {predicted_class[0]}\")\n",
    "print(f\"Probability of Donation: {predicted_prob:.2f}\")"
   ]
  },
  {
   "cell_type": "markdown",
   "id": "fd765384-9359-4d7d-b1a2-12d925151971",
   "metadata": {},
   "source": [
    "# Decision Tree "
   ]
  },
  {
   "cell_type": "code",
   "execution_count": 498,
   "id": "3abed4bc-33ca-406d-8273-4faef8c9b4cb",
   "metadata": {},
   "outputs": [],
   "source": [
    "X = df.drop(\"Made_Donation_in_March_2007\", axis=1)\n",
    "y = df[\"Made_Donation_in_March_2007\"]\n",
    "\n",
    "X_train, X_test, y_train, y_test = train_test_split(X, y, test_size=0.2, random_state=42)"
   ]
  },
  {
   "cell_type": "code",
   "execution_count": 502,
   "id": "e74d945d-dfa2-4507-8cce-598893a51102",
   "metadata": {},
   "outputs": [],
   "source": [
    "from sklearn.tree import DecisionTreeClassifier\n",
    "from sklearn.ensemble import RandomForestClassifier\n",
    "from sklearn.linear_model import LogisticRegression\n",
    "from sklearn.svm import SVC"
   ]
  },
  {
   "cell_type": "code",
   "execution_count": 504,
   "id": "64016163-aedf-4d40-ac36-5016bcd81d0a",
   "metadata": {},
   "outputs": [
    {
     "name": "stdout",
     "output_type": "stream",
     "text": [
      "Decision Tree Accuracy: 0.6724137931034483\n",
      "Confusion Matrix:\n",
      " [[67 20]\n",
      " [18 11]]\n",
      "Classification Report:\n",
      "               precision    recall  f1-score   support\n",
      "\n",
      "           0       0.79      0.77      0.78        87\n",
      "           1       0.35      0.38      0.37        29\n",
      "\n",
      "    accuracy                           0.67       116\n",
      "   macro avg       0.57      0.57      0.57       116\n",
      "weighted avg       0.68      0.67      0.68       116\n",
      "\n"
     ]
    }
   ],
   "source": [
    "# 📌 Step 6: Train Decision Tree Model\n",
    "dt = DecisionTreeClassifier(random_state=42)\n",
    "dt.fit(X_train, y_train)\n",
    "y_pred_dt = dt.predict(X_test)\n",
    "\n",
    "# Evaluation\n",
    "print(\"Decision Tree Accuracy:\", accuracy_score(y_test, y_pred_dt))\n",
    "print(\"Confusion Matrix:\\n\", confusion_matrix(y_test, y_pred_dt))\n",
    "print(\"Classification Report:\\n\", classification_report(y_test, y_pred_dt))"
   ]
  },
  {
   "cell_type": "code",
   "execution_count": 506,
   "id": "15128e4e-893e-416d-a277-f5656d4e9c6f",
   "metadata": {},
   "outputs": [
    {
     "name": "stdout",
     "output_type": "stream",
     "text": [
      "Decision Tree Accuracy: 0.6552\n",
      "Random Forest Accuracy: 0.7414\n",
      "Logistic Regression Accuracy: 0.7586\n",
      "Support Vector Machine Accuracy: 0.7500\n",
      "KNN Accuracy: 0.8103\n"
     ]
    }
   ],
   "source": [
    "# 📌 Step 7: Model Comparison\n",
    "models = {\n",
    "    \"Decision Tree\": DecisionTreeClassifier(),\n",
    "    \"Random Forest\": RandomForestClassifier(),\n",
    "    \"Logistic Regression\": LogisticRegression(max_iter=1000),\n",
    "    \"Support Vector Machine\": SVC(),\n",
    "    \"KNN\" : KNeighborsClassifier()\n",
    "}\n",
    "\n",
    "for name, model in models.items():\n",
    "    model.fit(X_train, y_train)\n",
    "    preds = model.predict(X_test)\n",
    "    print(f\"{name} Accuracy: {accuracy_score(y_test, preds):.4f}\")"
   ]
  },
  {
   "cell_type": "markdown",
   "id": "a14bc7ef-b917-4c45-85e9-7ee41a80f9e0",
   "metadata": {},
   "source": [
    "# Support Vector Machine-Model Creation"
   ]
  },
  {
   "cell_type": "code",
   "execution_count": 541,
   "id": "a6ab588c-afcb-4bcc-b9d9-2abe6838205d",
   "metadata": {},
   "outputs": [],
   "source": [
    "df = df.drop_duplicates()"
   ]
  },
  {
   "cell_type": "code",
   "execution_count": 559,
   "id": "4b9c8bf4-1723-47df-8be1-e555d222f0e0",
   "metadata": {},
   "outputs": [
    {
     "data": {
      "text/html": [
       "<div>\n",
       "<style scoped>\n",
       "    .dataframe tbody tr th:only-of-type {\n",
       "        vertical-align: middle;\n",
       "    }\n",
       "\n",
       "    .dataframe tbody tr th {\n",
       "        vertical-align: top;\n",
       "    }\n",
       "\n",
       "    .dataframe thead th {\n",
       "        text-align: right;\n",
       "    }\n",
       "</style>\n",
       "<table border=\"1\" class=\"dataframe\">\n",
       "  <thead>\n",
       "    <tr style=\"text-align: right;\">\n",
       "      <th></th>\n",
       "      <th>Months_since_Last_Donation</th>\n",
       "      <th>Number_of_Donations</th>\n",
       "      <th>Months_since_First_Donation</th>\n",
       "      <th>Made_Donation_in_March_2007</th>\n",
       "      <th>Donation_Frequency</th>\n",
       "      <th>Gap_First_Last</th>\n",
       "      <th>Recency_Ratio</th>\n",
       "    </tr>\n",
       "  </thead>\n",
       "  <tbody>\n",
       "    <tr>\n",
       "      <th>0</th>\n",
       "      <td>2</td>\n",
       "      <td>4</td>\n",
       "      <td>98</td>\n",
       "      <td>1</td>\n",
       "      <td>0.040404</td>\n",
       "      <td>96</td>\n",
       "      <td>0.020202</td>\n",
       "    </tr>\n",
       "    <tr>\n",
       "      <th>1</th>\n",
       "      <td>0</td>\n",
       "      <td>13</td>\n",
       "      <td>28</td>\n",
       "      <td>1</td>\n",
       "      <td>0.448276</td>\n",
       "      <td>28</td>\n",
       "      <td>0.000000</td>\n",
       "    </tr>\n",
       "    <tr>\n",
       "      <th>2</th>\n",
       "      <td>1</td>\n",
       "      <td>4</td>\n",
       "      <td>35</td>\n",
       "      <td>1</td>\n",
       "      <td>0.111111</td>\n",
       "      <td>34</td>\n",
       "      <td>0.027778</td>\n",
       "    </tr>\n",
       "    <tr>\n",
       "      <th>3</th>\n",
       "      <td>2</td>\n",
       "      <td>4</td>\n",
       "      <td>45</td>\n",
       "      <td>1</td>\n",
       "      <td>0.086957</td>\n",
       "      <td>43</td>\n",
       "      <td>0.043478</td>\n",
       "    </tr>\n",
       "    <tr>\n",
       "      <th>4</th>\n",
       "      <td>1</td>\n",
       "      <td>4</td>\n",
       "      <td>77</td>\n",
       "      <td>0</td>\n",
       "      <td>0.051282</td>\n",
       "      <td>76</td>\n",
       "      <td>0.012821</td>\n",
       "    </tr>\n",
       "    <tr>\n",
       "      <th>...</th>\n",
       "      <td>...</td>\n",
       "      <td>...</td>\n",
       "      <td>...</td>\n",
       "      <td>...</td>\n",
       "      <td>...</td>\n",
       "      <td>...</td>\n",
       "      <td>...</td>\n",
       "    </tr>\n",
       "    <tr>\n",
       "      <th>566</th>\n",
       "      <td>23</td>\n",
       "      <td>1</td>\n",
       "      <td>23</td>\n",
       "      <td>1</td>\n",
       "      <td>0.041667</td>\n",
       "      <td>0</td>\n",
       "      <td>0.958333</td>\n",
       "    </tr>\n",
       "    <tr>\n",
       "      <th>572</th>\n",
       "      <td>16</td>\n",
       "      <td>3</td>\n",
       "      <td>86</td>\n",
       "      <td>0</td>\n",
       "      <td>0.034483</td>\n",
       "      <td>70</td>\n",
       "      <td>0.183908</td>\n",
       "    </tr>\n",
       "    <tr>\n",
       "      <th>573</th>\n",
       "      <td>21</td>\n",
       "      <td>2</td>\n",
       "      <td>52</td>\n",
       "      <td>0</td>\n",
       "      <td>0.037736</td>\n",
       "      <td>31</td>\n",
       "      <td>0.396226</td>\n",
       "    </tr>\n",
       "    <tr>\n",
       "      <th>574</th>\n",
       "      <td>7</td>\n",
       "      <td>1</td>\n",
       "      <td>39</td>\n",
       "      <td>0</td>\n",
       "      <td>0.025000</td>\n",
       "      <td>32</td>\n",
       "      <td>0.175000</td>\n",
       "    </tr>\n",
       "    <tr>\n",
       "      <th>575</th>\n",
       "      <td>7</td>\n",
       "      <td>1</td>\n",
       "      <td>72</td>\n",
       "      <td>0</td>\n",
       "      <td>0.013699</td>\n",
       "      <td>65</td>\n",
       "      <td>0.095890</td>\n",
       "    </tr>\n",
       "  </tbody>\n",
       "</table>\n",
       "<p>421 rows × 7 columns</p>\n",
       "</div>"
      ],
      "text/plain": [
       "     Months_since_Last_Donation  Number_of_Donations  \\\n",
       "0                             2                    4   \n",
       "1                             0                   13   \n",
       "2                             1                    4   \n",
       "3                             2                    4   \n",
       "4                             1                    4   \n",
       "..                          ...                  ...   \n",
       "566                          23                    1   \n",
       "572                          16                    3   \n",
       "573                          21                    2   \n",
       "574                           7                    1   \n",
       "575                           7                    1   \n",
       "\n",
       "     Months_since_First_Donation  Made_Donation_in_March_2007  \\\n",
       "0                             98                            1   \n",
       "1                             28                            1   \n",
       "2                             35                            1   \n",
       "3                             45                            1   \n",
       "4                             77                            0   \n",
       "..                           ...                          ...   \n",
       "566                           23                            1   \n",
       "572                           86                            0   \n",
       "573                           52                            0   \n",
       "574                           39                            0   \n",
       "575                           72                            0   \n",
       "\n",
       "     Donation_Frequency  Gap_First_Last  Recency_Ratio  \n",
       "0              0.040404              96       0.020202  \n",
       "1              0.448276              28       0.000000  \n",
       "2              0.111111              34       0.027778  \n",
       "3              0.086957              43       0.043478  \n",
       "4              0.051282              76       0.012821  \n",
       "..                  ...             ...            ...  \n",
       "566            0.041667               0       0.958333  \n",
       "572            0.034483              70       0.183908  \n",
       "573            0.037736              31       0.396226  \n",
       "574            0.025000              32       0.175000  \n",
       "575            0.013699              65       0.095890  \n",
       "\n",
       "[421 rows x 7 columns]"
      ]
     },
     "execution_count": 559,
     "metadata": {},
     "output_type": "execute_result"
    }
   ],
   "source": []
  },
  {
   "cell_type": "code",
   "execution_count": 545,
   "id": "de8f2e59-d488-4599-957e-27e23796297c",
   "metadata": {},
   "outputs": [],
   "source": [
    "x=df.drop('Made_Donation_in_March_2007',axis=1)\n",
    "y=df['Made_Donation_in_March_2007']"
   ]
  },
  {
   "cell_type": "markdown",
   "id": "b49748fd-20dd-4a8d-998b-5485688fb9fb",
   "metadata": {},
   "source": [
    "# Data splitting (train_test_split) and Handling imbalance using SMOTE\n",
    "Split the dataset into training and testing sets using an 80-20 ratio, while keeping the class distribution balanced with stratify=y. Then, we applied SMOTE (Synthetic Minority Oversampling Technique) to the training data to handle class imbalance by generating synthetic samples for the minority class."
   ]
  },
  {
   "cell_type": "code",
   "execution_count": 572,
   "id": "cc488e37-752d-46de-8881-e8ca5125cb74",
   "metadata": {},
   "outputs": [
    {
     "name": "stdout",
     "output_type": "stream",
     "text": [
      "before SMOTE: {0: 243, 1: 93}\n",
      "after SMOTE: {0: 243, 1: 243}\n",
      "Original x_train shape: (336, 6)\n",
      "Balanced x_train shape: (486, 6)\n"
     ]
    }
   ],
   "source": [
    "from sklearn.model_selection import train_test_split\n",
    "from imblearn.over_sampling import SMOTE\n",
    "\n",
    "x_train,x_test,y_train,y_test=train_test_split(\n",
    "    x,y,test_size=0.2,random_state=42,stratify=y\n",
    ")\n",
    "smote=SMOTE(random_state=42)\n",
    "x_train_balanced,y_train_balanced=smote.fit_resample(x_train,y_train)\n",
    "print('before SMOTE:',y_train.value_counts().to_dict())\n",
    "print('after SMOTE:',y_train_balanced.value_counts().to_dict())\n",
    "print(\"Original x_train shape:\", x_train.shape)\n",
    "print(\"Balanced x_train shape:\", x_train_balanced.shape)"
   ]
  },
  {
   "cell_type": "markdown",
   "id": "ab50cae6-274d-4f78-ac03-4bc99aff840a",
   "metadata": {},
   "source": [
    "# Scaling the Features\n",
    "Used StandardScaler to scale the feature values so that all features have the same range. This makes the data easier for the model (like SVM) to understand. It helps improve model performance by giving equal importance to all features."
   ]
  },
  {
   "cell_type": "code",
   "execution_count": 575,
   "id": "fdc08945-ca1c-4c47-9fbd-d8b6f56b75ad",
   "metadata": {},
   "outputs": [
    {
     "name": "stdout",
     "output_type": "stream",
     "text": [
      "Scaled x_train shape: (486, 6)\n",
      "Scaled x_test shape: (85, 6)\n",
      "Selected x_train shape: (486, 6)\n",
      "Selected x_test shape: (85, 6)\n"
     ]
    }
   ],
   "source": [
    "from sklearn.preprocessing import StandardScaler\n",
    "\n",
    "scaler=StandardScaler()\n",
    "x_train_scaled=scaler.fit_transform(x_train_balanced)\n",
    "x_test_scaled=scaler.transform(x_test)\n",
    "print(\"Scaled x_train shape:\", x_train_scaled.shape)\n",
    "print(\"Scaled x_test shape:\", x_test_scaled.shape)\n",
    "\n",
    "'''from sklearn.feature_selection import SelectKBest, f_classif\n",
    "selector=SelectKBest(score_func=f_classif,k='all')\n",
    "x_train_selected=selector.fit_transform(x_train_scaled,y_train_balanced)\n",
    "x_test_selected=selector.transform(x_test_scaled)'''\n",
    "\n",
    "print(\"Selected x_train shape:\",x_train_scaled.shape)\n",
    "print(\"Selected x_test shape:\",x_test_scaled.shape)"
   ]
  },
  {
   "cell_type": "markdown",
   "id": "ed71436d-f436-4902-ad23-18d76e107c68",
   "metadata": {},
   "source": [
    "# Adding Polynomial Features\n",
    "Used PolynomialFeatures to create new features by combining existing ones up to degree 3. It helps the model learn more complex patterns in the data"
   ]
  },
  {
   "cell_type": "code",
   "execution_count": 578,
   "id": "3fab2a38-777e-41b3-a8eb-5313b77aa27d",
   "metadata": {},
   "outputs": [
    {
     "name": "stdout",
     "output_type": "stream",
     "text": [
      "final x_train shape: (486, 83)\n",
      "final x_test shape: (85, 83)\n"
     ]
    }
   ],
   "source": [
    "from sklearn.preprocessing import PolynomialFeatures\n",
    "\n",
    "poly=PolynomialFeatures(degree=3,include_bias=False)\n",
    "x_train_poly=poly.fit_transform(x_train_scaled)\n",
    "x_test_poly=poly.transform(x_test_scaled)\n",
    "\n",
    "print(\"final x_train shape:\",x_train_poly.shape)\n",
    "print(\"final x_test shape:\",x_test_poly.shape)"
   ]
  },
  {
   "cell_type": "markdown",
   "id": "91f16c2a-7890-4b51-bd44-93e6d75a34bf",
   "metadata": {},
   "source": [
    "# SVM model Training and Evaluation\n",
    "Trained a Support Vector Machine (SVM) classifier using the processed and polynomial-expanded features.\n",
    "\n",
    "kernel='rbf': Uses a radial basis function to handle non-linear data.\n",
    "\n",
    "C=0.5: Controls the trade-off between smooth decision boundary and classifying training points correctly.\n",
    "\n",
    "gamma=2: Defines how far the influence of a single training point reaches. Higher values mean closer reach (more complex decision boundary)."
   ]
  },
  {
   "cell_type": "code",
   "execution_count": 581,
   "id": "256e2e21-f06f-45ce-ade9-7e76ec74464f",
   "metadata": {},
   "outputs": [
    {
     "name": "stdout",
     "output_type": "stream",
     "text": [
      "Accuracy: 0.6823529411764706\n",
      "\n",
      " confusion matrix:\n",
      " [[55  7]\n",
      " [20  3]]\n",
      "classification matrix:\n",
      "               precision    recall  f1-score   support\n",
      "\n",
      "           0       0.73      0.89      0.80        62\n",
      "           1       0.30      0.13      0.18        23\n",
      "\n",
      "    accuracy                           0.68        85\n",
      "   macro avg       0.52      0.51      0.49        85\n",
      "weighted avg       0.62      0.68      0.63        85\n",
      "\n"
     ]
    }
   ],
   "source": [
    "from sklearn.svm import SVC\n",
    "from sklearn.metrics import classification_report,confusion_matrix,accuracy_score\n",
    "svm_model=SVC(kernel='rbf',C=0.5,gamma=2,random_state=42)\n",
    "svm_model.fit(x_train_poly,y_train_balanced)\n",
    "y_pred=svm_model.predict(x_test_poly)\n",
    "print('Accuracy:',accuracy_score(y_test,y_pred))\n",
    "print('\\n confusion matrix:\\n',confusion_matrix(y_test,y_pred))\n",
    "print('classification matrix:\\n',classification_report(y_test, y_pred))"
   ]
  },
  {
   "cell_type": "markdown",
   "id": "59953e2d-e315-4acd-85e2-89c52c566b9f",
   "metadata": {},
   "source": [
    "# Hyperparameter tuning using GridSearchCV\n",
    "We used GridSearchCV with Stratified K-Fold cross-validation (5 folds) to find the best hyperparameters for the SVM model. The goal was to improve the model’s performance, especially for the minority class (donors)."
   ]
  },
  {
   "cell_type": "code",
   "execution_count": 584,
   "id": "68f14064-b556-4964-8fd3-2960760f66c0",
   "metadata": {},
   "outputs": [
    {
     "name": "stdout",
     "output_type": "stream",
     "text": [
      "Fitting 5 folds for each of 49 candidates, totalling 245 fits\n",
      "best parameter: {'C': 0.5, 'gamma': 0.01, 'kernel': 'rbf'}\n",
      "Accuracy: 0.7058823529411765\n",
      "\n",
      "Confusion Matrix:\n",
      " [[49 13]\n",
      " [12 11]]\n",
      "\n",
      "Classification Report:\n",
      "               precision    recall  f1-score   support\n",
      "\n",
      "           0       0.80      0.79      0.80        62\n",
      "           1       0.46      0.48      0.47        23\n",
      "\n",
      "    accuracy                           0.71        85\n",
      "   macro avg       0.63      0.63      0.63        85\n",
      "weighted avg       0.71      0.71      0.71        85\n",
      "\n"
     ]
    }
   ],
   "source": [
    "from sklearn.model_selection import GridSearchCV,StratifiedKFold\n",
    "'''param_grid={\n",
    "    'C':[0.5,1,2,5],\n",
    "    'gamma':[0.5,1,2,'scale','auto'],\n",
    "    'kernel':['rbf'],\n",
    "    \n",
    "}'''\n",
    "'''param_grid={\n",
    "    'C':[0.5,1,5],\n",
    "    'degree':[2,3,4],\n",
    "    'gamma':['scale','auto'],\n",
    "    'kernel':['poly']\n",
    "}'''\n",
    "param_grid = {\n",
    "    'C': [0.01, 0.1, 0.5, 1, 5, 10, 20],\n",
    "    'gamma': [0.001, 0.01, 0.1, 0.5, 1, 2, 5],\n",
    "    'kernel': ['rbf']\n",
    "}\n",
    "cv = StratifiedKFold(n_splits=5, shuffle=True, random_state=42)\n",
    "svc=SVC(class_weight='balanced',probability=True,random_state=42)\n",
    "grid=GridSearchCV(svc,param_grid,refit=True,verbose=1,cv=cv,scoring='f1_macro')\n",
    "grid.fit(x_train_poly,y_train_balanced)\n",
    "\n",
    "print('best parameter:',grid.best_params_)\n",
    "y_pred_tuned=grid.predict(x_test_poly)\n",
    "\n",
    "print('Accuracy:', accuracy_score(y_test, y_pred_tuned))\n",
    "print('\\nConfusion Matrix:\\n', confusion_matrix(y_test, y_pred_tuned))\n",
    "print('\\nClassification Report:\\n', classification_report(y_test, y_pred_tuned))\n",
    "\n",
    "#y_probs=grid.predict_proba(x_test_selected)[:,1]\n",
    "#custom_threshold=0.4\n",
    "#y_pred_custom=(y_probs>=custom_threshold).astype(int)\n",
    "#print(\"Custom Threshold:\",custom_threshold)\n",
    "#print('Accuracy:', accuracy_score(y_test, y_pred_custom))\n",
    "#print('\\nConfusion Matrix:\\n', confusion_matrix(y_test, y_pred_custom))\n",
    "#print('\\nClassification Report:\\n', classification_report(y_test, y_pred_custom))"
   ]
  },
  {
   "cell_type": "code",
   "execution_count": 586,
   "id": "7a40fb8d-b5e4-49dc-9a7b-8a0e53e39343",
   "metadata": {},
   "outputs": [
    {
     "data": {
      "text/plain": [
       "['poly_transform.pkl']"
      ]
     },
     "execution_count": 586,
     "metadata": {},
     "output_type": "execute_result"
    }
   ],
   "source": [
    "import joblib\n",
    "joblib.dump(grid.best_estimator_, \"final_svm_model.pkl\")\n",
    "joblib.dump(poly, \"poly_transform.pkl\")"
   ]
  },
  {
   "cell_type": "markdown",
   "id": "36e849f9-0063-4812-91cf-e9becb75afac",
   "metadata": {},
   "source": [
    "# SVM Test With Sample Data\n",
    "We loaded the saved model and preprocessing objects to make a prediction on a new donor profile. The same feature engineering, scaling, and polynomial transformation steps were applied to ensure consistency."
   ]
  },
  {
   "cell_type": "code",
   "execution_count": 589,
   "id": "8d3e3cfe-904f-4947-9273-cdcc5a938bb6",
   "metadata": {},
   "outputs": [
    {
     "name": "stdout",
     "output_type": "stream",
     "text": [
      "Class probabilities: No = 0.60, Yes = 0.40\n",
      "Prediction (Threshold=0.4): 0\n"
     ]
    }
   ],
   "source": [
    "import pandas as pd\n",
    "import joblib\n",
    "\n",
    "#Load the saved model and preprocessing objects\n",
    "svm_model = joblib.load('final_svm_model.pkl')\n",
    "scaler = joblib.load('scaler.pkl')\n",
    "poly = joblib.load('poly_transform.pkl')\n",
    "\n",
    "#Create a sample test data point\n",
    "new_data = pd.DataFrame([[3, 25, 75]], columns=[\n",
    "    'Months_since_Last_Donation',\n",
    "    'Number_of_Donations',\n",
    "    'Months_since_First_Donation'\n",
    "])\n",
    "\n",
    "#Add derived features (same as in training)\n",
    "new_data['Donation_Frequency'] = new_data['Number_of_Donations'] / new_data['Months_since_First_Donation']\n",
    "new_data['Gap_First_Last'] = new_data['Months_since_First_Donation'] - new_data['Months_since_Last_Donation']\n",
    "new_data['Recency_Ratio'] = new_data['Months_since_Last_Donation'] / new_data['Months_since_First_Donation']\n",
    "\n",
    "#Apply scaling and polynomial transformation\n",
    "new_data_scaled = scaler.transform(new_data)\n",
    "new_data_poly = poly.transform(new_data_scaled)\n",
    "\n",
    "#Make prediction\n",
    "prediction = svm_model.predict(new_data_poly)\n",
    "proba = svm_model.predict_proba(new_data_poly)\n",
    "print(f\"Class probabilities: No = {proba[0][0]:.2f}, Yes = {proba[0][1]:.2f}\")\n",
    "\n",
    "threshold=0.4\n",
    "prediction = (proba[0][1] > threshold).astype(int)  # Use custom threshold\n",
    "print(f\"Prediction (Threshold=0.4): {prediction}\")"
   ]
  },
  {
   "cell_type": "markdown",
   "id": "76724499-5fea-439a-b482-76d0f3b36870",
   "metadata": {},
   "source": [
    "#  Challenges Faced During the Project  \n",
    "\n",
    "---\n",
    "\n",
    "### 1.  Class Imbalance  \n",
    "**Problem:**  \n",
    "The target variable (`Made_Donation_in_March_2007`) was **highly imbalanced** — ~76% \"No\" and ~24% \"Yes\".\n",
    "\n",
    "**Solution Applied:**  \n",
    "- Used `SMOTE` (Synthetic Minority Over-sampling Technique) to **balance the training data**.\n",
    "- Later added `class_weight='balanced'` to classifiers like SVM and Logistic Regression.\n",
    "\n",
    "**Impact:**  \n",
    "Helped the model learn both classes better, especially the minority class (donors).\n",
    "\n",
    "---\n",
    "\n",
    "### 2.  Outlier Detection and Treatment  \n",
    "**Problem:**  \n",
    "Outliers in:\n",
    "- `Months_since_Last_Donation`\n",
    "- `Number_of_Donations`\n",
    "\n",
    "**Solution Applied:**  \n",
    "- Used the **IQR method** to detect outliers.\n",
    "- Instead of dropping rows, **replaced outliers with the median** of the respective feature.\n",
    "\n",
    "**Impact:**  \n",
    "Preserved total data while reducing skewed influence of extreme values.\n",
    "\n",
    "---\n",
    "\n",
    "### 3. 🔁 Model Performance Tuning  \n",
    "**Problem:**  \n",
    "Initial models (Logistic Regression, KNN, Decision Tree, SVM) gave **moderate accuracy (60–70%)**, but **low recall and F1-score** for class 1 (donors).\n",
    "\n",
    "**Solution:**  \n",
    "- Engineered new features:\n",
    "  - `Donation_Frequency`\n",
    "  - `Gap_First_Last`\n",
    "  - `Recency_Ratio`\n",
    "- Performed **GridSearchCV** with **StratifiedKFold** to tune:\n",
    "  - `C`, `gamma`, `kernel` for SVM  \n",
    "  - `max_depth`, `n_estimators`, `learning_rate` for XGBoost\n",
    "\n",
    "**Impact:**  \n",
    "Improved overall model performance. \n",
    "\n",
    "---\n",
    "\n",
    "### 4. 🔬 Feature Complexity  \n",
    "**Problem:**  \n",
    "Simple models (like svm) struggled to capture complex donation patterns.\n",
    "\n",
    "**Solution:**  \n",
    "- Used `PolynomialFeatures` (degree 3) to create **nonlinear feature combinations** before training SVM.\n",
    "- Improved the ability of SVM to find a more flexible decision boundary.\n",
    "\n",
    "**Impact:**  \n",
    "Boosted model accuracy from ~64% to ~73%. Helped SVM better separate classes.\n",
    "\n",
    "---\n",
    "\n",
    "### 5. 🔄 Threshold Sensitivity  \n",
    "**Problem:**  \n",
    "The default probability threshold (0.5) for classifying donations led to **many false negatives** (missed donors).\n",
    "\n",
    "**Solution:**  \n",
    "- Introduced a **custom threshold** (e.g., 0.4) in prediction phase:\n",
    "  ```python\n",
    "  prediction = (proba[0][1] > 0.4).astype(int)\n"
   ]
  },
  {
   "cell_type": "markdown",
   "id": "abbd062d-281f-48b1-a11a-721c11e8dbbf",
   "metadata": {},
   "source": [
    "# Model Comparision"
   ]
  },
  {
   "cell_type": "markdown",
   "id": "df735f9c-e480-478e-8ad4-3fd9a04fd470",
   "metadata": {},
   "source": [
    "## Accuracy Comparison\n",
    "\n",
    " Model-Accuracy\n",
    " \n",
    " KNN-0.78\n",
    " \n",
    " XGBoost-0.72\n",
    " \n",
    " SVM-0.71\n",
    " \n",
    " Logistic Regression-0.64\n",
    " \n",
    " Decision Tree-0.67\n",
    " \n",
    "\n",
    "## Pecision, Recall, F1-Score (Macro Avg)\n",
    "\n",
    " Model-Precision-Recall-F1-Score\n",
    " \n",
    " KNN-0.74-0.77-0.75\n",
    " \n",
    " XGBoost-0.63-0.64-0.63\n",
    " \n",
    " SVM-0.63-0.63-0.63\n",
    " \n",
    " Logistic Regression-0.63-0.67-0.61\n",
    " \n",
    " Decision Tree-0.57-0.57-0.57 \n",
    " \n",
    "## Class 1 (Minority) Performance Comparison\n",
    " Model-Precision (1)-Recall (1)-F1-Score(1)\n",
    "   \n",
    " KNN-0.58-0.76-0.66\n",
    " \n",
    " Logistic-Regression-0.40\t0.74-0.52\n",
    " \n",
    " XGBoost-0.43-0.46-0.45\n",
    " \n",
    " SVM-0.46-0.48-0.47\n",
    " \n",
    " Decision-Tree-0.35-0.38-0.37\n",
    " \n",
    "# Observations\n",
    "   \n",
    "KNN outperforms all others in: Overall accuracy (0.78),Minority class, recall, F1-score, Macro and weighted averages\n",
    "\n",
    "Logistic Regression has high recall for the minority class (0.74), but low precision, indicating many false positives.\n",
    "\n",
    "XGBoost and SVM are balanced but slightly lower in both precision and recall for class 1.\n",
    "\n",
    "Decision Tree performs the weakest across all metrics, especially for class 1.\n",
    "\n",
    "# Recommendation\n",
    "\n",
    "KNN is your best choice overall, especially for balanced performance and handling the minority\n",
    "\n",
    "KNN was iterated multiple times with different test train splits and condition as for each iteration performance varies\n",
    "\n",
    "The Overall best version has been shared as the 'final_knn_model_best_version' pkl file which has been shared seperately "
   ]
  },
  {
   "cell_type": "code",
   "execution_count": 37,
   "id": "46a5eefe-31a7-4359-9b26-3539771d1677",
   "metadata": {},
   "outputs": [],
   "source": [
    "import joblib\n",
    "model_test = joblib.load('final_knn_model_best_version.pkl')\n",
    "scaler_test = joblib.load('scaler.pkl')"
   ]
  },
  {
   "cell_type": "code",
   "execution_count": 39,
   "id": "c497fba1-0d5e-4ebd-a02b-4ca79dbad11b",
   "metadata": {},
   "outputs": [],
   "source": [
    "# 🧾 Example input\n",
    "import pandas as pd\n",
    "new_data = pd.DataFrame([[3, 25, 75]], columns=[\n",
    "    'Months_since_Last_Donation',\n",
    "    'Number_of_Donations',\n",
    "    'Months_since_First_Donation'\n",
    "])\n",
    "\n",
    "# ➕ Add derived features\n",
    "new_data['Donation_Frequency'] = new_data['Number_of_Donations'] / new_data['Months_since_First_Donation']\n",
    "new_data['Gap_First_Last'] = new_data['Months_since_First_Donation'] - new_data['Months_since_Last_Donation']\n",
    "new_data['Recency_Ratio'] = new_data['Months_since_Last_Donation'] / new_data['Months_since_First_Donation']"
   ]
  },
  {
   "cell_type": "code",
   "execution_count": 41,
   "id": "8e817736-f817-4ef4-b838-d649b454079f",
   "metadata": {},
   "outputs": [
    {
     "name": "stdout",
     "output_type": "stream",
     "text": [
      "Prediction: [1]\n"
     ]
    }
   ],
   "source": [
    "\n",
    "new_data_scaled = scaler_test.transform(new_data)\n",
    "\n",
    "# Predict\n",
    "prediction = model_test.predict(new_data_scaled)\n",
    "print(\"Prediction:\", prediction)\n"
   ]
  },
  {
   "cell_type": "code",
   "execution_count": null,
   "id": "50ed2088-04c9-4910-a2b1-e5fc9ab189a9",
   "metadata": {},
   "outputs": [],
   "source": []
  }
 ],
 "metadata": {
  "kernelspec": {
   "display_name": "Python 3 (ipykernel)",
   "language": "python",
   "name": "python3"
  },
  "language_info": {
   "codemirror_mode": {
    "name": "ipython",
    "version": 3
   },
   "file_extension": ".py",
   "mimetype": "text/x-python",
   "name": "python",
   "nbconvert_exporter": "python",
   "pygments_lexer": "ipython3",
   "version": "3.12.4"
  }
 },
 "nbformat": 4,
 "nbformat_minor": 5
}
