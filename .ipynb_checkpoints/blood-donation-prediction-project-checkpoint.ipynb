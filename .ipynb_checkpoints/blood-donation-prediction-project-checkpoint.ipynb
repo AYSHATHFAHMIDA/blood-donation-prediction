{
 "cells": [
  {
   "cell_type": "markdown",
   "id": "1684847c-4c5e-42c9-b623-71bea0e53fde",
   "metadata": {},
   "source": [
    "## capstone project 1-Blood Donation prediction\n",
    "\n",
    "### problem statement\n",
    "Task 1:-Prepare a complete data analysis report on the given data."
   ]
  },
  {
   "cell_type": "code",
   "execution_count": 9,
   "id": "b0730053-3c41-42b7-aab5-5e48eef4c8b1",
   "metadata": {},
   "outputs": [],
   "source": [
    "import pandas as pd\n",
    "import numpy as np\n",
    "import matplotlib.pyplot as plt\n",
    "import seaborn as sns"
   ]
  },
  {
   "cell_type": "code",
   "execution_count": null,
   "id": "9632ec5c-007d-41e3-ae7f-c8269b2d809b",
   "metadata": {},
   "outputs": [],
   "source": []
  }
 ],
 "metadata": {
  "kernelspec": {
   "display_name": "Python 3 (ipykernel)",
   "language": "python",
   "name": "python3"
  },
  "language_info": {
   "codemirror_mode": {
    "name": "ipython",
    "version": 3
   },
   "file_extension": ".py",
   "mimetype": "text/x-python",
   "name": "python",
   "nbconvert_exporter": "python",
   "pygments_lexer": "ipython3",
   "version": "3.12.7"
  }
 },
 "nbformat": 4,
 "nbformat_minor": 5
}
