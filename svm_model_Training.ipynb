{
 "cells": [
  {
   "cell_type": "code",
   "execution_count": 115,
   "id": "3a1e64bd-91a5-43ae-b6e3-cdd9eb4cc22a",
   "metadata": {},
   "outputs": [],
   "source": [
    "import pandas as pd\n",
    "import numpy as np\n",
    "import matplotlib.pyplot as plt\n",
    "import seaborn as sns"
   ]
  },
  {
   "cell_type": "code",
   "execution_count": 116,
   "id": "ef612e46-dcf7-42f8-86b6-0e929af68665",
   "metadata": {},
   "outputs": [],
   "source": [
    "data=pd.read_csv('cleaned_blood_donation.csv')"
   ]
  },
  {
   "cell_type": "code",
   "execution_count": 117,
   "id": "bb401116-7ced-42eb-9834-4e7a90ce30ed",
   "metadata": {},
   "outputs": [
    {
     "data": {
      "text/html": [
       "<div>\n",
       "<style scoped>\n",
       "    .dataframe tbody tr th:only-of-type {\n",
       "        vertical-align: middle;\n",
       "    }\n",
       "\n",
       "    .dataframe tbody tr th {\n",
       "        vertical-align: top;\n",
       "    }\n",
       "\n",
       "    .dataframe thead th {\n",
       "        text-align: right;\n",
       "    }\n",
       "</style>\n",
       "<table border=\"1\" class=\"dataframe\">\n",
       "  <thead>\n",
       "    <tr style=\"text-align: right;\">\n",
       "      <th></th>\n",
       "      <th>Months since Last Donation</th>\n",
       "      <th>Number of Donations</th>\n",
       "      <th>Months since First Donation</th>\n",
       "      <th>Made Donation in March 2007</th>\n",
       "    </tr>\n",
       "  </thead>\n",
       "  <tbody>\n",
       "    <tr>\n",
       "      <th>0</th>\n",
       "      <td>2</td>\n",
       "      <td>50</td>\n",
       "      <td>98</td>\n",
       "      <td>1</td>\n",
       "    </tr>\n",
       "    <tr>\n",
       "      <th>1</th>\n",
       "      <td>0</td>\n",
       "      <td>13</td>\n",
       "      <td>28</td>\n",
       "      <td>1</td>\n",
       "    </tr>\n",
       "    <tr>\n",
       "      <th>2</th>\n",
       "      <td>1</td>\n",
       "      <td>16</td>\n",
       "      <td>35</td>\n",
       "      <td>1</td>\n",
       "    </tr>\n",
       "    <tr>\n",
       "      <th>3</th>\n",
       "      <td>2</td>\n",
       "      <td>20</td>\n",
       "      <td>45</td>\n",
       "      <td>1</td>\n",
       "    </tr>\n",
       "    <tr>\n",
       "      <th>4</th>\n",
       "      <td>1</td>\n",
       "      <td>24</td>\n",
       "      <td>77</td>\n",
       "      <td>0</td>\n",
       "    </tr>\n",
       "    <tr>\n",
       "      <th>...</th>\n",
       "      <td>...</td>\n",
       "      <td>...</td>\n",
       "      <td>...</td>\n",
       "      <td>...</td>\n",
       "    </tr>\n",
       "    <tr>\n",
       "      <th>418</th>\n",
       "      <td>23</td>\n",
       "      <td>1</td>\n",
       "      <td>23</td>\n",
       "      <td>1</td>\n",
       "    </tr>\n",
       "    <tr>\n",
       "      <th>419</th>\n",
       "      <td>16</td>\n",
       "      <td>3</td>\n",
       "      <td>86</td>\n",
       "      <td>0</td>\n",
       "    </tr>\n",
       "    <tr>\n",
       "      <th>420</th>\n",
       "      <td>21</td>\n",
       "      <td>2</td>\n",
       "      <td>52</td>\n",
       "      <td>0</td>\n",
       "    </tr>\n",
       "    <tr>\n",
       "      <th>421</th>\n",
       "      <td>39</td>\n",
       "      <td>1</td>\n",
       "      <td>39</td>\n",
       "      <td>0</td>\n",
       "    </tr>\n",
       "    <tr>\n",
       "      <th>422</th>\n",
       "      <td>72</td>\n",
       "      <td>1</td>\n",
       "      <td>72</td>\n",
       "      <td>0</td>\n",
       "    </tr>\n",
       "  </tbody>\n",
       "</table>\n",
       "<p>423 rows × 4 columns</p>\n",
       "</div>"
      ],
      "text/plain": [
       "     Months since Last Donation  Number of Donations  \\\n",
       "0                             2                   50   \n",
       "1                             0                   13   \n",
       "2                             1                   16   \n",
       "3                             2                   20   \n",
       "4                             1                   24   \n",
       "..                          ...                  ...   \n",
       "418                          23                    1   \n",
       "419                          16                    3   \n",
       "420                          21                    2   \n",
       "421                          39                    1   \n",
       "422                          72                    1   \n",
       "\n",
       "     Months since First Donation  Made Donation in March 2007  \n",
       "0                             98                            1  \n",
       "1                             28                            1  \n",
       "2                             35                            1  \n",
       "3                             45                            1  \n",
       "4                             77                            0  \n",
       "..                           ...                          ...  \n",
       "418                           23                            1  \n",
       "419                           86                            0  \n",
       "420                           52                            0  \n",
       "421                           39                            0  \n",
       "422                           72                            0  \n",
       "\n",
       "[423 rows x 4 columns]"
      ]
     },
     "execution_count": 117,
     "metadata": {},
     "output_type": "execute_result"
    }
   ],
   "source": [
    "data"
   ]
  },
  {
   "cell_type": "code",
   "execution_count": 118,
   "id": "8ce47ec3-1cae-4bbf-a6e5-38a9d555ab2b",
   "metadata": {},
   "outputs": [
    {
     "name": "stdout",
     "output_type": "stream",
     "text": [
      "<class 'pandas.core.frame.DataFrame'>\n",
      "RangeIndex: 423 entries, 0 to 422\n",
      "Data columns (total 4 columns):\n",
      " #   Column                       Non-Null Count  Dtype\n",
      "---  ------                       --------------  -----\n",
      " 0   Months since Last Donation   423 non-null    int64\n",
      " 1   Number of Donations          423 non-null    int64\n",
      " 2   Months since First Donation  423 non-null    int64\n",
      " 3   Made Donation in March 2007  423 non-null    int64\n",
      "dtypes: int64(4)\n",
      "memory usage: 13.3 KB\n"
     ]
    }
   ],
   "source": [
    "data.info()"
   ]
  },
  {
   "cell_type": "code",
   "execution_count": 119,
   "id": "814dc564-e076-4b36-88f0-964d804ffd7f",
   "metadata": {},
   "outputs": [
    {
     "data": {
      "text/plain": [
       "<Axes: xlabel='Months since Last Donation'>"
      ]
     },
     "execution_count": 119,
     "metadata": {},
     "output_type": "execute_result"
    },
    {
     "data": {
      "image/png": "[encoded data removed]",
      "text/plain": [
       "<Figure size 640x480 with 1 Axes>"
      ]
     },
     "metadata": {},
     "output_type": "display_data"
    }
   ],
   "source": [
    "sns.boxplot(x=data['Months since Last Donation'])"
   ]
  },
  {
   "cell_type": "code",
   "execution_count": 273,
   "id": "cd24f2bf-8332-4523-8549-97a63045fa3c",
   "metadata": {},
   "outputs": [
    {
     "data": {
      "text/plain": [
       "Months_since_Last_Donation\n",
       "2     91\n",
       "4     82\n",
       "11    49\n",
       "14    45\n",
       "16    34\n",
       "23    23\n",
       "21    22\n",
       "9     14\n",
       "3     10\n",
       "1      9\n",
       "8      9\n",
       "7      5\n",
       "12     5\n",
       "6      4\n",
       "13     4\n",
       "0      4\n",
       "10     3\n",
       "18     2\n",
       "5      2\n",
       "22     1\n",
       "26     1\n",
       "15     1\n",
       "20     1\n",
       "17     1\n",
       "25     1\n",
       "Name: count, dtype: int64"
      ]
     },
     "execution_count": 273,
     "metadata": {},
     "output_type": "execute_result"
    }
   ],
   "source": [
    "data.Months_since_Last_Donation.value_counts()"
   ]
  },
  {
   "cell_type": "code",
   "execution_count": 133,
   "id": "f3734d3b-0817-4892-9362-561090d176e8",
   "metadata": {},
   "outputs": [],
   "source": [
    "data = data.rename(columns={'Made Donation in March 2007': 'Made_Donation_in_March_2007'})\n",
    "data = data.rename(columns={'Number of Donations': 'Number_of_Donations'})\n",
    "data = data.rename(columns={'Months since First Donation': 'Months_since_First_Donation'})\n",
    "data = data.rename(columns={'Months since Last Donation': 'Months_since_Last_Donation'})"
   ]
  },
  {
   "cell_type": "code",
   "execution_count": 135,
   "id": "55ced135-4efc-4b48-8d60-492d071f8996",
   "metadata": {},
   "outputs": [
    {
     "data": {
      "text/html": [
       "<div>\n",
       "<style scoped>\n",
       "    .dataframe tbody tr th:only-of-type {\n",
       "        vertical-align: middle;\n",
       "    }\n",
       "\n",
       "    .dataframe tbody tr th {\n",
       "        vertical-align: top;\n",
       "    }\n",
       "\n",
       "    .dataframe thead th {\n",
       "        text-align: right;\n",
       "    }\n",
       "</style>\n",
       "<table border=\"1\" class=\"dataframe\">\n",
       "  <thead>\n",
       "    <tr style=\"text-align: right;\">\n",
       "      <th></th>\n",
       "      <th>Months_since_Last_Donation</th>\n",
       "      <th>Number_of_Donations</th>\n",
       "      <th>Months_since_First_Donation</th>\n",
       "      <th>Made_Donation_in_March_2007</th>\n",
       "    </tr>\n",
       "  </thead>\n",
       "  <tbody>\n",
       "    <tr>\n",
       "      <th>0</th>\n",
       "      <td>2</td>\n",
       "      <td>50</td>\n",
       "      <td>98</td>\n",
       "      <td>1</td>\n",
       "    </tr>\n",
       "    <tr>\n",
       "      <th>1</th>\n",
       "      <td>0</td>\n",
       "      <td>13</td>\n",
       "      <td>28</td>\n",
       "      <td>1</td>\n",
       "    </tr>\n",
       "    <tr>\n",
       "      <th>2</th>\n",
       "      <td>1</td>\n",
       "      <td>16</td>\n",
       "      <td>35</td>\n",
       "      <td>1</td>\n",
       "    </tr>\n",
       "    <tr>\n",
       "      <th>3</th>\n",
       "      <td>2</td>\n",
       "      <td>20</td>\n",
       "      <td>45</td>\n",
       "      <td>1</td>\n",
       "    </tr>\n",
       "    <tr>\n",
       "      <th>4</th>\n",
       "      <td>1</td>\n",
       "      <td>24</td>\n",
       "      <td>77</td>\n",
       "      <td>0</td>\n",
       "    </tr>\n",
       "    <tr>\n",
       "      <th>...</th>\n",
       "      <td>...</td>\n",
       "      <td>...</td>\n",
       "      <td>...</td>\n",
       "      <td>...</td>\n",
       "    </tr>\n",
       "    <tr>\n",
       "      <th>418</th>\n",
       "      <td>23</td>\n",
       "      <td>1</td>\n",
       "      <td>23</td>\n",
       "      <td>1</td>\n",
       "    </tr>\n",
       "    <tr>\n",
       "      <th>419</th>\n",
       "      <td>16</td>\n",
       "      <td>3</td>\n",
       "      <td>86</td>\n",
       "      <td>0</td>\n",
       "    </tr>\n",
       "    <tr>\n",
       "      <th>420</th>\n",
       "      <td>21</td>\n",
       "      <td>2</td>\n",
       "      <td>52</td>\n",
       "      <td>0</td>\n",
       "    </tr>\n",
       "    <tr>\n",
       "      <th>421</th>\n",
       "      <td>39</td>\n",
       "      <td>1</td>\n",
       "      <td>39</td>\n",
       "      <td>0</td>\n",
       "    </tr>\n",
       "    <tr>\n",
       "      <th>422</th>\n",
       "      <td>72</td>\n",
       "      <td>1</td>\n",
       "      <td>72</td>\n",
       "      <td>0</td>\n",
       "    </tr>\n",
       "  </tbody>\n",
       "</table>\n",
       "<p>423 rows × 4 columns</p>\n",
       "</div>"
      ],
      "text/plain": [
       "     Months_since_Last_Donation  Number_of_Donations  \\\n",
       "0                             2                   50   \n",
       "1                             0                   13   \n",
       "2                             1                   16   \n",
       "3                             2                   20   \n",
       "4                             1                   24   \n",
       "..                          ...                  ...   \n",
       "418                          23                    1   \n",
       "419                          16                    3   \n",
       "420                          21                    2   \n",
       "421                          39                    1   \n",
       "422                          72                    1   \n",
       "\n",
       "     Months_since_First_Donation  Made_Donation_in_March_2007  \n",
       "0                             98                            1  \n",
       "1                             28                            1  \n",
       "2                             35                            1  \n",
       "3                             45                            1  \n",
       "4                             77                            0  \n",
       "..                           ...                          ...  \n",
       "418                           23                            1  \n",
       "419                           86                            0  \n",
       "420                           52                            0  \n",
       "421                           39                            0  \n",
       "422                           72                            0  \n",
       "\n",
       "[423 rows x 4 columns]"
      ]
     },
     "execution_count": 135,
     "metadata": {},
     "output_type": "execute_result"
    }
   ],
   "source": [
    "data"
   ]
  },
  {
   "cell_type": "code",
   "execution_count": 137,
   "id": "10599b8b-dcfe-4b6f-96ea-16fdd50b4c00",
   "metadata": {},
   "outputs": [
    {
     "data": {
      "text/plain": [
       "8.0"
      ]
     },
     "execution_count": 137,
     "metadata": {},
     "output_type": "execute_result"
    }
   ],
   "source": [
    "np.median(data.Months_since_Last_Donation)"
   ]
  },
  {
   "cell_type": "code",
   "execution_count": 139,
   "id": "ca019402-5863-4386-87de-5a7ce62c8ed6",
   "metadata": {},
   "outputs": [
    {
     "name": "stdout",
     "output_type": "stream",
     "text": [
      "IQR: 11.0\n",
      "q1: 3.0\n",
      "q3: 14.0\n",
      "upper limit: 30.5\n",
      "lower limit: -13.5\n"
     ]
    }
   ],
   "source": [
    "q1 = np.percentile(data.Months_since_Last_Donation, 25)  # First quartile (25th percentile)\n",
    "q3 = np.percentile(data.Months_since_Last_Donation, 75)  # Third quartile (75th percentile)\n",
    "iqr = q3 - q1\n",
    "upper_limit = q3 + 1.5 * iqr\n",
    "lower_limit = q1 - 1.5 * iqr\n",
    "\n",
    "print(\"IQR:\", iqr)\n",
    "print(\"q1:\", q1)\n",
    "print(\"q3:\", q3)\n",
    "print(\"upper limit:\", upper_limit)\n",
    "print(\"lower limit:\", lower_limit)"
   ]
  },
  {
   "cell_type": "code",
   "execution_count": 141,
   "id": "c4bb0967-7cba-464f-8369-c8b77799effe",
   "metadata": {},
   "outputs": [],
   "source": [
    "data.loc[data['Months_since_Last_Donation']>30,'Months_since_Last_Donation']=np.median(data['Months_since_Last_Donation'])"
   ]
  },
  {
   "cell_type": "code",
   "execution_count": 143,
   "id": "917fa0c5-727e-4d1c-9c31-5b15edaf3dd5",
   "metadata": {},
   "outputs": [
    {
     "data": {
      "text/plain": [
       "<Axes: xlabel='Months_since_Last_Donation'>"
      ]
     },
     "execution_count": 143,
     "metadata": {},
     "output_type": "execute_result"
    },
    {
     "data": {
      "image/png": "[encoded data removed]",
      "text/plain": [
       "<Figure size 640x480 with 1 Axes>"
      ]
     },
     "metadata": {},
     "output_type": "display_data"
    }
   ],
   "source": [
    "sns.boxplot(x=data['Months_since_Last_Donation'])"
   ]
  },
  {
   "cell_type": "code",
   "execution_count": 145,
   "id": "f64545e1-46be-44ff-a2f8-dc6c99c35757",
   "metadata": {},
   "outputs": [
    {
     "data": {
      "text/plain": [
       "<Axes: xlabel='Number_of_Donations'>"
      ]
     },
     "execution_count": 145,
     "metadata": {},
     "output_type": "execute_result"
    },
    {
     "data": {
      "image/png": "[encoded data removed]",
      "text/plain": [
       "<Figure size 640x480 with 1 Axes>"
      ]
     },
     "metadata": {},
     "output_type": "display_data"
    }
   ],
   "source": [
    "sns.boxplot(x=data['Number_of_Donations'])"
   ]
  },
  {
   "cell_type": "code",
   "execution_count": 147,
   "id": "a182d3fb-fa4d-47a6-9fc7-98099030405b",
   "metadata": {},
   "outputs": [
    {
     "data": {
      "text/plain": [
       "Number_of_Donations\n",
       "3     61\n",
       "2     60\n",
       "5     46\n",
       "4     42\n",
       "6     38\n",
       "7     31\n",
       "8     27\n",
       "9     20\n",
       "1     18\n",
       "11    16\n",
       "12     9\n",
       "10     9\n",
       "16     8\n",
       "14     8\n",
       "13     7\n",
       "17     4\n",
       "15     3\n",
       "19     2\n",
       "24     2\n",
       "20     2\n",
       "22     2\n",
       "43     1\n",
       "21     1\n",
       "44     1\n",
       "50     1\n",
       "38     1\n",
       "18     1\n",
       "46     1\n",
       "33     1\n",
       "Name: count, dtype: int64"
      ]
     },
     "execution_count": 147,
     "metadata": {},
     "output_type": "execute_result"
    }
   ],
   "source": [
    "data.Number_of_Donations.value_counts()"
   ]
  },
  {
   "cell_type": "code",
   "execution_count": 149,
   "id": "e36ab52a-020a-408f-8526-a360b2419bc4",
   "metadata": {},
   "outputs": [
    {
     "data": {
      "text/plain": [
       "5.0"
      ]
     },
     "execution_count": 149,
     "metadata": {},
     "output_type": "execute_result"
    }
   ],
   "source": [
    "np.median(data.Number_of_Donations)"
   ]
  },
  {
   "cell_type": "code",
   "execution_count": 151,
   "id": "eb1cd300-7174-4efc-978d-8c4085f7d982",
   "metadata": {},
   "outputs": [
    {
     "name": "stdout",
     "output_type": "stream",
     "text": [
      "IQR: 5.0\n",
      "q1: 3.0\n",
      "q3: 8.0\n",
      "upper limit: 15.5\n",
      "lower limit: -4.5\n"
     ]
    }
   ],
   "source": [
    "q1 = np.percentile(data.Number_of_Donations, 25)  # First quartile (25th percentile)\n",
    "q3 = np.percentile(data.Number_of_Donations, 75)  # Third quartile (75th percentile)\n",
    "iqr = q3 - q1\n",
    "upper_limit = q3 + 1.5 * iqr\n",
    "lower_limit = q1 - 1.5 * iqr\n",
    "\n",
    "print(\"IQR:\", iqr)\n",
    "print(\"q1:\", q1)\n",
    "print(\"q3:\", q3)\n",
    "print(\"upper limit:\", upper_limit)\n",
    "print(\"lower limit:\", lower_limit)"
   ]
  },
  {
   "cell_type": "code",
   "execution_count": 153,
   "id": "a72b582e-f27e-492f-8586-c3e978b6d7f6",
   "metadata": {},
   "outputs": [],
   "source": [
    "data.loc[data['Number_of_Donations']>15.5,'Number_of_Donations']=np.median(data['Number_of_Donations'])"
   ]
  },
  {
   "cell_type": "code",
   "execution_count": 155,
   "id": "85a0349c-3efa-482a-ab5c-ec110d694949",
   "metadata": {},
   "outputs": [],
   "source": [
    "data.loc[data['Number_of_Donations']<-5,'Number_of_Donations']=np.median(data['Number_of_Donations'])"
   ]
  },
  {
   "cell_type": "code",
   "execution_count": 157,
   "id": "d11fea7d-e865-469d-94b4-1d10647329c2",
   "metadata": {},
   "outputs": [
    {
     "data": {
      "text/plain": [
       "<Axes: xlabel='Number_of_Donations'>"
      ]
     },
     "execution_count": 157,
     "metadata": {},
     "output_type": "execute_result"
    },
    {
     "data": {
      "image/png": "[encoded data removed]",
      "text/plain": [
       "<Figure size 640x480 with 1 Axes>"
      ]
     },
     "metadata": {},
     "output_type": "display_data"
    }
   ],
   "source": [
    "sns.boxplot(x=data['Number_of_Donations'])"
   ]
  },
  {
   "cell_type": "code",
   "execution_count": 159,
   "id": "d7df2208-c688-49cf-a63b-33e453bf6b33",
   "metadata": {},
   "outputs": [
    {
     "data": {
      "text/plain": [
       "<Axes: xlabel='Months_since_First_Donation'>"
      ]
     },
     "execution_count": 159,
     "metadata": {},
     "output_type": "execute_result"
    },
    {
     "data": {
      "image/png": "[encoded data removed]",
      "text/plain": [
       "<Figure size 640x480 with 1 Axes>"
      ]
     },
     "metadata": {},
     "output_type": "display_data"
    }
   ],
   "source": [
    "sns.boxplot(x=data['Months_since_First_Donation'])"
   ]
  },
  {
   "cell_type": "code",
   "execution_count": 161,
   "id": "40f108e0-092b-4150-9e86-a3f5572bccc6",
   "metadata": {},
   "outputs": [
    {
     "data": {
      "text/plain": [
       "Months_since_First_Donation\n",
       "28    25\n",
       "26    21\n",
       "35    21\n",
       "16    19\n",
       "14    17\n",
       "      ..\n",
       "15     1\n",
       "93     1\n",
       "78     1\n",
       "36     1\n",
       "31     1\n",
       "Name: count, Length: 75, dtype: int64"
      ]
     },
     "execution_count": 161,
     "metadata": {},
     "output_type": "execute_result"
    }
   ],
   "source": [
    "data.Months_since_First_Donation.value_counts()"
   ]
  },
  {
   "cell_type": "code",
   "execution_count": 163,
   "id": "fe64ded4-a779-4e43-a172-93ecaae079e8",
   "metadata": {},
   "outputs": [
    {
     "data": {
      "text/plain": [
       "38.0"
      ]
     },
     "execution_count": 163,
     "metadata": {},
     "output_type": "execute_result"
    }
   ],
   "source": [
    "np.median(data.Months_since_First_Donation)"
   ]
  },
  {
   "cell_type": "code",
   "execution_count": 165,
   "id": "510a7d39-fea0-452b-9860-bb07f421b4f2",
   "metadata": {},
   "outputs": [
    {
     "name": "stdout",
     "output_type": "stream",
     "text": [
      "IQR: 34.5\n",
      "q1: 23.5\n",
      "q3: 58.0\n",
      "upper limit: 109.75\n",
      "lower limit: -28.25\n"
     ]
    }
   ],
   "source": [
    "q1 = np.percentile(data.Months_since_First_Donation, 25)  # First quartile (25th percentile)\n",
    "q3 = np.percentile(data.Months_since_First_Donation, 75)  # Third quartile (75th percentile)\n",
    "iqr = q3 - q1\n",
    "upper_limit = q3 + 1.5 * iqr\n",
    "lower_limit = q1 - 1.5 * iqr\n",
    "\n",
    "print(\"IQR:\", iqr)\n",
    "print(\"q1:\", q1)\n",
    "print(\"q3:\", q3)\n",
    "print(\"upper limit:\", upper_limit)\n",
    "print(\"lower limit:\", lower_limit)"
   ]
  },
  {
   "cell_type": "code",
   "execution_count": 169,
   "id": "6397b7fe-a1d3-42bf-ac8e-49f473dea3de",
   "metadata": {},
   "outputs": [
    {
     "data": {
      "text/html": [
       "<div>\n",
       "<style scoped>\n",
       "    .dataframe tbody tr th:only-of-type {\n",
       "        vertical-align: middle;\n",
       "    }\n",
       "\n",
       "    .dataframe tbody tr th {\n",
       "        vertical-align: top;\n",
       "    }\n",
       "\n",
       "    .dataframe thead th {\n",
       "        text-align: right;\n",
       "    }\n",
       "</style>\n",
       "<table border=\"1\" class=\"dataframe\">\n",
       "  <thead>\n",
       "    <tr style=\"text-align: right;\">\n",
       "      <th></th>\n",
       "      <th>Months_since_Last_Donation</th>\n",
       "      <th>Number_of_Donations</th>\n",
       "      <th>Months_since_First_Donation</th>\n",
       "      <th>Made_Donation_in_March_2007</th>\n",
       "    </tr>\n",
       "  </thead>\n",
       "  <tbody>\n",
       "    <tr>\n",
       "      <th>0</th>\n",
       "      <td>2</td>\n",
       "      <td>5</td>\n",
       "      <td>98</td>\n",
       "      <td>1</td>\n",
       "    </tr>\n",
       "    <tr>\n",
       "      <th>1</th>\n",
       "      <td>0</td>\n",
       "      <td>13</td>\n",
       "      <td>28</td>\n",
       "      <td>1</td>\n",
       "    </tr>\n",
       "    <tr>\n",
       "      <th>2</th>\n",
       "      <td>1</td>\n",
       "      <td>5</td>\n",
       "      <td>35</td>\n",
       "      <td>1</td>\n",
       "    </tr>\n",
       "    <tr>\n",
       "      <th>3</th>\n",
       "      <td>2</td>\n",
       "      <td>5</td>\n",
       "      <td>45</td>\n",
       "      <td>1</td>\n",
       "    </tr>\n",
       "    <tr>\n",
       "      <th>4</th>\n",
       "      <td>1</td>\n",
       "      <td>5</td>\n",
       "      <td>77</td>\n",
       "      <td>0</td>\n",
       "    </tr>\n",
       "  </tbody>\n",
       "</table>\n",
       "</div>"
      ],
      "text/plain": [
       "   Months_since_Last_Donation  Number_of_Donations  \\\n",
       "0                           2                    5   \n",
       "1                           0                   13   \n",
       "2                           1                    5   \n",
       "3                           2                    5   \n",
       "4                           1                    5   \n",
       "\n",
       "   Months_since_First_Donation  Made_Donation_in_March_2007  \n",
       "0                           98                            1  \n",
       "1                           28                            1  \n",
       "2                           35                            1  \n",
       "3                           45                            1  \n",
       "4                           77                            0  "
      ]
     },
     "execution_count": 169,
     "metadata": {},
     "output_type": "execute_result"
    }
   ],
   "source": [
    "data.head()"
   ]
  },
  {
   "cell_type": "markdown",
   "id": "7c4ba0c6-cc57-4e95-ab9a-6a0617626d5a",
   "metadata": {},
   "source": [
    "## Support Vector Machine-Model Creation "
   ]
  },
  {
   "cell_type": "code",
   "execution_count": 295,
   "id": "a0519d83-55d8-4ac0-b1ab-79005019cc41",
   "metadata": {},
   "outputs": [],
   "source": [
    "# Feature Engineering derived data\n",
    "data[\"Donation_Frequency\"] = data[\"Number_of_Donations\"] / (data[\"Months_since_First_Donation\"] + 1)\n",
    "data[\"Gap_First_Last\"] = data[\"Months_since_First_Donation\"] - data[\"Months_since_Last_Donation\"]\n",
    "data[\"Recency_Ratio\"] = data[\"Months_since_Last_Donation\"] / (data[\"Months_since_First_Donation\"] + 1)"
   ]
  },
  {
   "cell_type": "code",
   "execution_count": 335,
   "id": "4ee1b33d-f6b3-4304-bfdd-8ba6bb386419",
   "metadata": {},
   "outputs": [
    {
     "data": {
      "text/html": [
       "<div>\n",
       "<style scoped>\n",
       "    .dataframe tbody tr th:only-of-type {\n",
       "        vertical-align: middle;\n",
       "    }\n",
       "\n",
       "    .dataframe tbody tr th {\n",
       "        vertical-align: top;\n",
       "    }\n",
       "\n",
       "    .dataframe thead th {\n",
       "        text-align: right;\n",
       "    }\n",
       "</style>\n",
       "<table border=\"1\" class=\"dataframe\">\n",
       "  <thead>\n",
       "    <tr style=\"text-align: right;\">\n",
       "      <th></th>\n",
       "      <th>Months_since_Last_Donation</th>\n",
       "      <th>Number_of_Donations</th>\n",
       "      <th>Months_since_First_Donation</th>\n",
       "      <th>Made_Donation_in_March_2007</th>\n",
       "      <th>Donation_Frequency</th>\n",
       "      <th>Gap_First_Last</th>\n",
       "      <th>Recency_Ratio</th>\n",
       "    </tr>\n",
       "  </thead>\n",
       "  <tbody>\n",
       "    <tr>\n",
       "      <th>0</th>\n",
       "      <td>2</td>\n",
       "      <td>5</td>\n",
       "      <td>98</td>\n",
       "      <td>1</td>\n",
       "      <td>0.050505</td>\n",
       "      <td>96</td>\n",
       "      <td>0.020202</td>\n",
       "    </tr>\n",
       "    <tr>\n",
       "      <th>1</th>\n",
       "      <td>0</td>\n",
       "      <td>13</td>\n",
       "      <td>28</td>\n",
       "      <td>1</td>\n",
       "      <td>0.448276</td>\n",
       "      <td>28</td>\n",
       "      <td>0.000000</td>\n",
       "    </tr>\n",
       "    <tr>\n",
       "      <th>2</th>\n",
       "      <td>1</td>\n",
       "      <td>5</td>\n",
       "      <td>35</td>\n",
       "      <td>1</td>\n",
       "      <td>0.138889</td>\n",
       "      <td>34</td>\n",
       "      <td>0.027778</td>\n",
       "    </tr>\n",
       "    <tr>\n",
       "      <th>3</th>\n",
       "      <td>2</td>\n",
       "      <td>5</td>\n",
       "      <td>45</td>\n",
       "      <td>1</td>\n",
       "      <td>0.108696</td>\n",
       "      <td>43</td>\n",
       "      <td>0.043478</td>\n",
       "    </tr>\n",
       "    <tr>\n",
       "      <th>4</th>\n",
       "      <td>1</td>\n",
       "      <td>5</td>\n",
       "      <td>77</td>\n",
       "      <td>0</td>\n",
       "      <td>0.064103</td>\n",
       "      <td>76</td>\n",
       "      <td>0.012821</td>\n",
       "    </tr>\n",
       "    <tr>\n",
       "      <th>5</th>\n",
       "      <td>4</td>\n",
       "      <td>4</td>\n",
       "      <td>4</td>\n",
       "      <td>0</td>\n",
       "      <td>0.800000</td>\n",
       "      <td>0</td>\n",
       "      <td>0.800000</td>\n",
       "    </tr>\n",
       "    <tr>\n",
       "      <th>6</th>\n",
       "      <td>2</td>\n",
       "      <td>7</td>\n",
       "      <td>14</td>\n",
       "      <td>1</td>\n",
       "      <td>0.466667</td>\n",
       "      <td>12</td>\n",
       "      <td>0.133333</td>\n",
       "    </tr>\n",
       "    <tr>\n",
       "      <th>7</th>\n",
       "      <td>1</td>\n",
       "      <td>12</td>\n",
       "      <td>35</td>\n",
       "      <td>0</td>\n",
       "      <td>0.333333</td>\n",
       "      <td>34</td>\n",
       "      <td>0.027778</td>\n",
       "    </tr>\n",
       "    <tr>\n",
       "      <th>8</th>\n",
       "      <td>5</td>\n",
       "      <td>5</td>\n",
       "      <td>98</td>\n",
       "      <td>1</td>\n",
       "      <td>0.050505</td>\n",
       "      <td>93</td>\n",
       "      <td>0.050505</td>\n",
       "    </tr>\n",
       "    <tr>\n",
       "      <th>9</th>\n",
       "      <td>0</td>\n",
       "      <td>3</td>\n",
       "      <td>4</td>\n",
       "      <td>0</td>\n",
       "      <td>0.600000</td>\n",
       "      <td>4</td>\n",
       "      <td>0.000000</td>\n",
       "    </tr>\n",
       "  </tbody>\n",
       "</table>\n",
       "</div>"
      ],
      "text/plain": [
       "   Months_since_Last_Donation  Number_of_Donations  \\\n",
       "0                           2                    5   \n",
       "1                           0                   13   \n",
       "2                           1                    5   \n",
       "3                           2                    5   \n",
       "4                           1                    5   \n",
       "5                           4                    4   \n",
       "6                           2                    7   \n",
       "7                           1                   12   \n",
       "8                           5                    5   \n",
       "9                           0                    3   \n",
       "\n",
       "   Months_since_First_Donation  Made_Donation_in_March_2007  \\\n",
       "0                           98                            1   \n",
       "1                           28                            1   \n",
       "2                           35                            1   \n",
       "3                           45                            1   \n",
       "4                           77                            0   \n",
       "5                            4                            0   \n",
       "6                           14                            1   \n",
       "7                           35                            0   \n",
       "8                           98                            1   \n",
       "9                            4                            0   \n",
       "\n",
       "   Donation_Frequency  Gap_First_Last  Recency_Ratio  \n",
       "0            0.050505              96       0.020202  \n",
       "1            0.448276              28       0.000000  \n",
       "2            0.138889              34       0.027778  \n",
       "3            0.108696              43       0.043478  \n",
       "4            0.064103              76       0.012821  \n",
       "5            0.800000               0       0.800000  \n",
       "6            0.466667              12       0.133333  \n",
       "7            0.333333              34       0.027778  \n",
       "8            0.050505              93       0.050505  \n",
       "9            0.600000               4       0.000000  "
      ]
     },
     "execution_count": 335,
     "metadata": {},
     "output_type": "execute_result"
    }
   ],
   "source": [
    "data.head(10)"
   ]
  },
  {
   "cell_type": "code",
   "execution_count": 465,
   "id": "46bf5869-8517-4498-bf9a-8bde71f642c6",
   "metadata": {},
   "outputs": [],
   "source": [
    "# Feature-Target Split\n",
    "x=data.drop('Made_Donation_in_March_2007',axis=1)\n",
    "y=data['Made_Donation_in_March_2007']"
   ]
  },
  {
   "cell_type": "markdown",
   "id": "ea65ddc7-aae5-45b8-a13e-797d7ebb016f",
   "metadata": {},
   "source": [
    "## Data splitting (train_test_split) and Handling imbalance using SMOTE\n",
    "Split the dataset into training and testing sets using an 80-20 ratio, while keeping the class distribution balanced with stratify=y.\n",
    "Then, we applied SMOTE (Synthetic Minority Oversampling Technique) to the training data to handle class imbalance by generating synthetic samples for the minority class."
   ]
  },
  {
   "cell_type": "code",
   "execution_count": 467,
   "id": "2f5e3b8e-e9c3-49c2-94e0-1028f4d7e23a",
   "metadata": {},
   "outputs": [
    {
     "name": "stdout",
     "output_type": "stream",
     "text": [
      "before SMOTE: {0: 244, 1: 94}\n",
      "after SMOTE: {1: 244, 0: 244}\n",
      "Original x_train shape: (338, 6)\n",
      "Balanced x_train shape: (488, 6)\n"
     ]
    }
   ],
   "source": [
    "from sklearn.model_selection import train_test_split\n",
    "from imblearn.over_sampling import SMOTE\n",
    "\n",
    "x_train,x_test,y_train,y_test=train_test_split(\n",
    "    x,y,test_size=0.2,random_state=42,stratify=y\n",
    ")\n",
    "smote=SMOTE(random_state=42)\n",
    "x_train_balanced,y_train_balanced=smote.fit_resample(x_train,y_train)\n",
    "print('before SMOTE:',y_train.value_counts().to_dict())\n",
    "print('after SMOTE:',y_train_balanced.value_counts().to_dict())\n",
    "print(\"Original x_train shape:\", x_train.shape)\n",
    "print(\"Balanced x_train shape:\", x_train_balanced.shape)"
   ]
  },
  {
   "cell_type": "markdown",
   "id": "c59a2f02-ca0a-4d35-a448-295042e5ed5c",
   "metadata": {},
   "source": [
    "### Scaling the Features\n",
    "Used StandardScaler to scale the feature values so that all features have the same range.\n",
    "This makes the data easier for the model (like SVM) to understand.\n",
    "It helps improve model performance by giving equal importance to all features."
   ]
  },
  {
   "cell_type": "code",
   "execution_count": 469,
   "id": "f0dc057c-c61a-4adb-a66c-bda3ad612441",
   "metadata": {},
   "outputs": [
    {
     "name": "stdout",
     "output_type": "stream",
     "text": [
      "Scaled x_train shape: (488, 6)\n",
      "Scaled x_test shape: (85, 6)\n",
      "Selected x_train shape: (488, 6)\n",
      "Selected x_test shape: (85, 6)\n"
     ]
    }
   ],
   "source": [
    "from sklearn.preprocessing import StandardScaler\n",
    "\n",
    "scaler=StandardScaler()\n",
    "x_train_scaled=scaler.fit_transform(x_train_balanced)\n",
    "x_test_scaled=scaler.transform(x_test)\n",
    "print(\"Scaled x_train shape:\", x_train_scaled.shape)\n",
    "print(\"Scaled x_test shape:\", x_test_scaled.shape)\n",
    "\n",
    "'''from sklearn.feature_selection import SelectKBest, f_classif\n",
    "selector=SelectKBest(score_func=f_classif,k='all')\n",
    "x_train_selected=selector.fit_transform(x_train_scaled,y_train_balanced)\n",
    "x_test_selected=selector.transform(x_test_scaled)'''\n",
    "\n",
    "print(\"Selected x_train shape:\",x_train_scaled.shape)\n",
    "print(\"Selected x_test shape:\",x_test_scaled.shape)"
   ]
  },
  {
   "cell_type": "markdown",
   "id": "ae3d28e7-a68b-4308-98f6-8b2621e2ff14",
   "metadata": {},
   "source": [
    "### Adding Polynomial Features\n",
    "Used PolynomialFeatures to create new features by combining existing ones up to degree 3.\n",
    "It helps the model learn more complex patterns in the data"
   ]
  },
  {
   "cell_type": "code",
   "execution_count": 507,
   "id": "37af0868-b0b2-4c20-87a3-82395284fe98",
   "metadata": {},
   "outputs": [
    {
     "name": "stdout",
     "output_type": "stream",
     "text": [
      "final x_train shape: (488, 83)\n",
      "final x_test shape: (85, 83)\n"
     ]
    }
   ],
   "source": [
    "from sklearn.preprocessing import PolynomialFeatures\n",
    "\n",
    "poly=PolynomialFeatures(degree=3,include_bias=False)\n",
    "x_train_poly=poly.fit_transform(x_train_scaled)\n",
    "x_test_poly=poly.transform(x_test_scaled)\n",
    "\n",
    "print(\"final x_train shape:\",x_train_poly.shape)\n",
    "print(\"final x_test shape:\",x_test_poly.shape)"
   ]
  },
  {
   "cell_type": "markdown",
   "id": "eca94d9b-12f7-475b-a27f-796d6c16e7c3",
   "metadata": {},
   "source": [
    "## SVM model Training and Evaluation\n",
    "Trained a Support Vector Machine (SVM) classifier using the processed and polynomial-expanded features.\n",
    "\n",
    "kernel='rbf': Uses a radial basis function to handle non-linear data.\n",
    "\n",
    "C=0.5: Controls the trade-off between smooth decision boundary and classifying training points correctly.\n",
    "\n",
    "gamma=2: Defines how far the influence of a single training point reaches. Higher values mean closer reach (more complex decision boundary)."
   ]
  },
  {
   "cell_type": "code",
   "execution_count": 509,
   "id": "27be9675-bc3d-4c59-92b7-bd73de124be8",
   "metadata": {},
   "outputs": [
    {
     "name": "stdout",
     "output_type": "stream",
     "text": [
      "Accuracy: 0.7058823529411765\n",
      "\n",
      " confusion matrix:\n",
      " [[54  7]\n",
      " [18  6]]\n",
      "classification matrix:\n",
      "               precision    recall  f1-score   support\n",
      "\n",
      "           0       0.75      0.89      0.81        61\n",
      "           1       0.46      0.25      0.32        24\n",
      "\n",
      "    accuracy                           0.71        85\n",
      "   macro avg       0.61      0.57      0.57        85\n",
      "weighted avg       0.67      0.71      0.67        85\n",
      "\n"
     ]
    }
   ],
   "source": [
    "from sklearn.svm import SVC\n",
    "from sklearn.metrics import classification_report,confusion_matrix,accuracy_score\n",
    "svm_model=SVC(kernel='rbf',C=0.5,gamma=2,random_state=42)\n",
    "svm_model.fit(x_train_poly,y_train_balanced)\n",
    "y_pred=svm_model.predict(x_test_poly)\n",
    "print('Accuracy:',accuracy_score(y_test,y_pred))\n",
    "print('\\n confusion matrix:\\n',confusion_matrix(y_test,y_pred))\n",
    "print('classification matrix:\\n',classification_report(y_test, y_pred))"
   ]
  },
  {
   "cell_type": "raw",
   "id": "ac1f5140-e2b4-4604-bcb4-d25a57d1641a",
   "metadata": {},
   "source": [
    "MODEL SUMMARY PERFORMANCE\n",
    "\n",
    " Accuracy: 70.58%\n",
    "\n",
    "Confusion Matrix:\n",
    "[[54  7]\n",
    " [18  6]]\n",
    " \n",
    "Classification Report:\n",
    "\n",
    "Class\tPrecision\tRecall\tF1-Score\tSupport\n",
    "0 (No)\t 0.75\t    0.89\t    0.81\t     61\n",
    "1 (Yes)\t 0.46\t    0.25\t    0.32         24\n",
    "\n",
    "The model performs well in detecting non-donors (class 0).\n",
    "\n",
    "It struggles with correctly identifying donors (class 1) — low recall and precision.\n",
    "\n",
    "This indicates that the model needs further tuning or additional feature improvements to better identify potential donors.\n"
   ]
  },
  {
   "cell_type": "markdown",
   "id": "22f7f902-1450-415c-9fd8-5383847400ac",
   "metadata": {},
   "source": [
    "## Hyperparameter tuning using GridSearchCV\n",
    "We used GridSearchCV with Stratified K-Fold cross-validation (5 folds) to find the best hyperparameters for the SVM model.\n",
    "The goal was to improve the model’s performance, especially for the minority class (donors)."
   ]
  },
  {
   "cell_type": "code",
   "execution_count": 511,
   "id": "14a474e8-576e-4f3a-817d-c9561fb51731",
   "metadata": {},
   "outputs": [
    {
     "name": "stdout",
     "output_type": "stream",
     "text": [
      "Fitting 5 folds for each of 49 candidates, totalling 245 fits\n",
      "best parameter: {'C': 1, 'gamma': 0.1, 'kernel': 'rbf'}\n",
      "Accuracy: 0.7294117647058823\n",
      "\n",
      "Confusion Matrix:\n",
      " [[47 14]\n",
      " [ 9 15]]\n",
      "\n",
      "Classification Report:\n",
      "               precision    recall  f1-score   support\n",
      "\n",
      "           0       0.84      0.77      0.80        61\n",
      "           1       0.52      0.62      0.57        24\n",
      "\n",
      "    accuracy                           0.73        85\n",
      "   macro avg       0.68      0.70      0.68        85\n",
      "weighted avg       0.75      0.73      0.74        85\n",
      "\n"
     ]
    }
   ],
   "source": [
    "from sklearn.model_selection import GridSearchCV,StratifiedKFold\n",
    "'''param_grid={\n",
    "    'C':[0.5,1,2,5],\n",
    "    'gamma':[0.5,1,2,'scale','auto'],\n",
    "    'kernel':['rbf'],\n",
    "    \n",
    "}'''\n",
    "'''param_grid={\n",
    "    'C':[0.5,1,5],\n",
    "    'degree':[2,3,4],\n",
    "    'gamma':['scale','auto'],\n",
    "    'kernel':['poly']\n",
    "}'''\n",
    "param_grid = {\n",
    "    'C': [0.01, 0.1, 0.5, 1, 5, 10, 20],\n",
    "    'gamma': [0.001, 0.01, 0.1, 0.5, 1, 2, 5],\n",
    "    'kernel': ['rbf']\n",
    "}\n",
    "cv = StratifiedKFold(n_splits=5, shuffle=True, random_state=42)\n",
    "svc=SVC(class_weight='balanced',probability=True,random_state=42)\n",
    "grid=GridSearchCV(svc,param_grid,refit=True,verbose=1,cv=cv,scoring='f1_macro')\n",
    "grid.fit(x_train_poly,y_train_balanced)\n",
    "\n",
    "print('best parameter:',grid.best_params_)\n",
    "y_pred_tuned=grid.predict(x_test_poly)\n",
    "\n",
    "print('Accuracy:', accuracy_score(y_test, y_pred_tuned))\n",
    "print('\\nConfusion Matrix:\\n', confusion_matrix(y_test, y_pred_tuned))\n",
    "print('\\nClassification Report:\\n', classification_report(y_test, y_pred_tuned))\n",
    "\n",
    "#y_probs=grid.predict_proba(x_test_selected)[:,1]\n",
    "#custom_threshold=0.4\n",
    "#y_pred_custom=(y_probs>=custom_threshold).astype(int)\n",
    "#print(\"Custom Threshold:\",custom_threshold)\n",
    "#print('Accuracy:', accuracy_score(y_test, y_pred_custom))\n",
    "#print('\\nConfusion Matrix:\\n', confusion_matrix(y_test, y_pred_custom))\n",
    "#print('\\nClassification Report:\\n', classification_report(y_test, y_pred_custom))\n"
   ]
  },
  {
   "cell_type": "raw",
   "id": "e4e7b274-02c2-4df3-baa3-21923ef601dc",
   "metadata": {},
   "source": [
    "\n",
    "Best Parameters Found:\n",
    "{'C': 1, 'gamma': 0.1, 'kernel': 'rbf'}\n",
    "\n",
    "Model Performance (After Tuning):\n",
    "Accuracy: 72.94%\n",
    "\n",
    "Confusion Matrix:\n",
    "[[47 14]\n",
    " [ 9 15]]\n",
    " \n",
    "Classification Report:\n",
    "\n",
    "Class\tPrecision\tRecall\tF1-Score\tSupport\n",
    "0 (No)\t  0.84\t     0.77\t    0.80\t   61\n",
    "1 (Yes)\t  0.52\t     0.62\t    0.57       24\n",
    "\n",
    "\n",
    "\n",
    "Precision and recall for the minority class (Yes) improved significantly.\n",
    "\n",
    "The model became more balanced and generalizes better after tuning."
   ]
  },
  {
   "cell_type": "code",
   "execution_count": 483,
   "id": "47683890-7b16-4e36-8b55-019c9aa5114a",
   "metadata": {},
   "outputs": [
    {
     "data": {
      "text/plain": [
       "['scaler.pkl']"
      ]
     },
     "execution_count": 483,
     "metadata": {},
     "output_type": "execute_result"
    }
   ],
   "source": [
    "# save the model\n",
    "import joblib\n",
    "joblib.dump(grid.best_estimator_, \"final_svm_model.pkl\")\n",
    "joblib.dump(poly, \"poly_transform.pkl\")\n",
    "joblib.dump(scaler, \"scaler.pkl\")"
   ]
  },
  {
   "cell_type": "markdown",
   "id": "ce0997c7-962f-451f-b4f6-595e6a79f96b",
   "metadata": {},
   "source": [
    "## SVM Test With Sample Data\n",
    "We loaded the saved model and preprocessing objects to make a prediction on a new donor profile. The same feature engineering, scaling, and polynomial transformation steps were applied to ensure consistency.\n"
   ]
  },
  {
   "cell_type": "code",
   "execution_count": 527,
   "id": "9c502a58-352e-44f1-8371-a8099541268a",
   "metadata": {},
   "outputs": [
    {
     "name": "stdout",
     "output_type": "stream",
     "text": [
      "Class probabilities: No = 0.56, Yes = 0.44\n",
      "Prediction (Threshold=0.4): 1\n"
     ]
    }
   ],
   "source": [
    "import pandas as pd\n",
    "import joblib\n",
    "\n",
    "#Load the saved model and preprocessing objects\n",
    "svm_model = joblib.load('final_svm_model.pkl')\n",
    "scaler = joblib.load('scaler.pkl')\n",
    "poly = joblib.load('poly_transform.pkl')\n",
    "\n",
    "#Create a sample test data point\n",
    "new_data = pd.DataFrame([[3, 25, 75]], columns=[\n",
    "    'Months_since_Last_Donation',\n",
    "    'Number_of_Donations',\n",
    "    'Months_since_First_Donation'\n",
    "])\n",
    "\n",
    "#Add derived features (same as in training)\n",
    "new_data['Donation_Frequency'] = new_data['Number_of_Donations'] / new_data['Months_since_First_Donation']\n",
    "new_data['Gap_First_Last'] = new_data['Months_since_First_Donation'] - new_data['Months_since_Last_Donation']\n",
    "new_data['Recency_Ratio'] = new_data['Months_since_Last_Donation'] / new_data['Months_since_First_Donation']\n",
    "\n",
    "#Apply scaling and polynomial transformation\n",
    "new_data_scaled = scaler.transform(new_data)\n",
    "new_data_poly = poly.transform(new_data_scaled)\n",
    "\n",
    "#Make prediction\n",
    "prediction = svm_model.predict(new_data_poly)\n",
    "proba = svm_model.predict_proba(new_data_poly)\n",
    "print(f\"Class probabilities: No = {proba[0][0]:.2f}, Yes = {proba[0][1]:.2f}\")\n",
    "\n",
    "threshold=0.4\n",
    "prediction = (proba[0][1] > threshold).astype(int)  # Use custom threshold\n",
    "print(f\"Prediction (Threshold=0.4): {prediction}\")\n",
    "\n"
   ]
  }
 ],
 "metadata": {
  "kernelspec": {
   "display_name": "Python 3 (ipykernel)",
   "language": "python",
   "name": "python3"
  },
  "language_info": {
   "codemirror_mode": {
    "name": "ipython",
    "version": 3
   },
   "file_extension": ".py",
   "mimetype": "text/x-python",
   "name": "python",
   "nbconvert_exporter": "python",
   "pygments_lexer": "ipython3",
   "version": "3.12.7"
  }
 },
 "nbformat": 4,
 "nbformat_minor": 5
}
